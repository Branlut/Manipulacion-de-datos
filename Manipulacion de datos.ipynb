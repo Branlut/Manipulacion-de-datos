{
 "cells": [
  {
   "cell_type": "markdown",
   "id": "3Xg_RQfnafXz",
   "metadata": {
    "id": "3Xg_RQfnafXz"
   },
   "source": [
    "# ¡Llena ese carrito!"
   ]
  },
  {
   "cell_type": "markdown",
   "id": "mhIvmmkW414q",
   "metadata": {
    "id": "mhIvmmkW414q"
   },
   "source": [
    "# Introducción\n",
    "\n",
    "Instacart es una plataforma de entregas de comestibles donde la clientela puede registrar un pedido y hacer que se lo entreguen, similar a Uber Eats y Door Dash.\n",
    "El conjunto de datos que te hemos proporcionado tiene modificaciones del original. Redujimos el tamaño del conjunto para que tus cálculos se hicieran más rápido e introdujimos valores ausentes y duplicados. Tuvimos cuidado de conservar las distribuciones de los datos originales cuando hicimos los cambios.\n",
    "\n",
    "Debes completar tres pasos. Para cada uno de ellos, escribe una breve introducción que refleje con claridad cómo pretendes resolver cada paso, y escribe párrafos explicatorios que justifiquen tus decisiones al tiempo que avanzas en tu solución.  También escribe una conclusión que resuma tus hallazgos y elecciones.\n"
   ]
  },
  {
   "cell_type": "markdown",
   "id": "3MbyzpOQZ5Or",
   "metadata": {
    "id": "3MbyzpOQZ5Or"
   },
   "source": [
    "## Diccionario de datos\n",
    "\n",
    "Hay cinco tablas en el conjunto de datos, y tendrás que usarlas todas para hacer el preprocesamiento de datos y el análisis exploratorio de datos. A continuación se muestra un diccionario de datos que enumera las columnas de cada tabla y describe los datos que contienen.\n",
    "\n",
    "- `instacart_orders.csv`: cada fila corresponde a un pedido en la aplicación Instacart.\n",
    "    - `'order_id'`: número de ID que identifica de manera única cada pedido.\n",
    "    - `'user_id'`: número de ID que identifica de manera única la cuenta de cada cliente.\n",
    "    - `'order_number'`: el número de veces que este cliente ha hecho un pedido.\n",
    "    - `'order_dow'`: día de la semana en que se hizo el pedido (0 si es domingo).\n",
    "    - `'order_hour_of_day'`: hora del día en que se hizo el pedido.\n",
    "    - `'days_since_prior_order'`: número de días transcurridos desde que este cliente hizo su pedido anterior.\n",
    "- `products.csv`: cada fila corresponde a un producto único que pueden comprar los clientes.\n",
    "    - `'product_id'`: número ID que identifica de manera única cada producto.\n",
    "    - `'product_name'`: nombre del producto.\n",
    "    - `'aisle_id'`: número ID que identifica de manera única cada categoría de pasillo de víveres.\n",
    "    - `'department_id'`: número ID que identifica de manera única cada departamento de víveres.\n",
    "- `order_products.csv`: cada fila corresponde a un artículo pedido en un pedido.\n",
    "    - `'order_id'`: número de ID que identifica de manera única cada pedido.\n",
    "    - `'product_id'`: número ID que identifica de manera única cada producto.\n",
    "    - `'add_to_cart_order'`: el orden secuencial en el que se añadió cada artículo en el carrito.\n",
    "    - `'reordered'`: 0 si el cliente nunca ha pedido este producto antes, 1 si lo ha pedido.\n",
    "- `aisles.csv`\n",
    "    - `'aisle_id'`: número ID que identifica de manera única cada categoría de pasillo de víveres.\n",
    "    - `'aisle'`: nombre del pasillo.\n",
    "- `departments.csv`\n",
    "    - `'department_id'`: número ID que identifica de manera única cada departamento de víveres.\n",
    "    - `'department'`: nombre del departamento."
   ]
  },
  {
   "cell_type": "markdown",
   "id": "n3Ha_cNSZ8lK",
   "metadata": {
    "id": "n3Ha_cNSZ8lK"
   },
   "source": [
    "# Paso 1. Descripción de los datos\n",
    "\n",
    "Lee los archivos de datos (`/datasets/instacart_orders.csv`, `/datasets/products.csv`, `/datasets/aisles.csv`, `/datasets/departments.csv` y `/datasets/order_products.csv`) con `pd.read_csv()` usando los parámetros adecuados para leer los datos correctamente. Verifica la información para cada DataFrame creado.\n"
   ]
  },
  {
   "cell_type": "markdown",
   "id": "OmlQPLlyaAfR",
   "metadata": {
    "id": "OmlQPLlyaAfR"
   },
   "source": [
    "## Plan de solución\n",
    "\n",
    "Escribe aquí tu plan de solución para el Paso 1. Descripción de los datos."
   ]
  },
  {
   "cell_type": "code",
   "execution_count": 1,
   "id": "fbf1adab",
   "metadata": {
    "id": "fbf1adab"
   },
   "outputs": [],
   "source": [
    "# importar librerías\n",
    "import pandas as pd \n",
    "import numpy as np\n",
    "from matplotlib import pyplot as plt"
   ]
  },
  {
   "cell_type": "code",
   "execution_count": 2,
   "id": "ad36396d",
   "metadata": {
    "id": "ad36396d"
   },
   "outputs": [],
   "source": [
    "# leer conjuntos de datos en los DataFrames\n",
    "df_instacart = pd.read_csv('/datasets/instacart_orders.csv', sep=';')\n",
    "df_products = pd.read_csv('/datasets/products.csv', sep=';')\n",
    "df_aisles = pd.read_csv('/datasets/aisles.csv', sep=';')\n",
    "df_departments = pd.read_csv('/datasets/departments.csv', sep=';')\n",
    "df_order_p = pd.read_csv('/datasets/order_products.csv', sep=';')"
   ]
  },
  {
   "cell_type": "code",
   "execution_count": 3,
   "id": "ad6a1efa",
   "metadata": {
    "id": "ad6a1efa"
   },
   "outputs": [
    {
     "name": "stdout",
     "output_type": "stream",
     "text": [
      "<class 'pandas.core.frame.DataFrame'>\n",
      "RangeIndex: 478967 entries, 0 to 478966\n",
      "Data columns (total 6 columns):\n",
      " #   Column                  Non-Null Count   Dtype  \n",
      "---  ------                  --------------   -----  \n",
      " 0   order_id                478967 non-null  int64  \n",
      " 1   user_id                 478967 non-null  int64  \n",
      " 2   order_number            478967 non-null  int64  \n",
      " 3   order_dow               478967 non-null  int64  \n",
      " 4   order_hour_of_day       478967 non-null  int64  \n",
      " 5   days_since_prior_order  450148 non-null  float64\n",
      "dtypes: float64(1), int64(5)\n",
      "memory usage: 21.9 MB\n"
     ]
    }
   ],
   "source": [
    "# mostrar información del DataFrame\n",
    "df_instacart.info()"
   ]
  },
  {
   "cell_type": "code",
   "execution_count": 4,
   "id": "5130e05e",
   "metadata": {
    "id": "5130e05e"
   },
   "outputs": [
    {
     "name": "stdout",
     "output_type": "stream",
     "text": [
      "<class 'pandas.core.frame.DataFrame'>\n",
      "RangeIndex: 49694 entries, 0 to 49693\n",
      "Data columns (total 4 columns):\n",
      " #   Column         Non-Null Count  Dtype \n",
      "---  ------         --------------  ----- \n",
      " 0   product_id     49694 non-null  int64 \n",
      " 1   product_name   48436 non-null  object\n",
      " 2   aisle_id       49694 non-null  int64 \n",
      " 3   department_id  49694 non-null  int64 \n",
      "dtypes: int64(3), object(1)\n",
      "memory usage: 1.5+ MB\n"
     ]
    }
   ],
   "source": [
    "# mostrar información del DataFrame\n",
    "df_products.info()"
   ]
  },
  {
   "cell_type": "code",
   "execution_count": 5,
   "id": "d8370c05",
   "metadata": {
    "id": "d8370c05"
   },
   "outputs": [
    {
     "name": "stdout",
     "output_type": "stream",
     "text": [
      "<class 'pandas.core.frame.DataFrame'>\n",
      "RangeIndex: 134 entries, 0 to 133\n",
      "Data columns (total 2 columns):\n",
      " #   Column    Non-Null Count  Dtype \n",
      "---  ------    --------------  ----- \n",
      " 0   aisle_id  134 non-null    int64 \n",
      " 1   aisle     134 non-null    object\n",
      "dtypes: int64(1), object(1)\n",
      "memory usage: 2.2+ KB\n"
     ]
    }
   ],
   "source": [
    "# mostrar información del DataFrame\n",
    "df_aisles.info()"
   ]
  },
  {
   "cell_type": "code",
   "execution_count": 6,
   "id": "59e2090f",
   "metadata": {
    "id": "59e2090f"
   },
   "outputs": [
    {
     "name": "stdout",
     "output_type": "stream",
     "text": [
      "<class 'pandas.core.frame.DataFrame'>\n",
      "RangeIndex: 21 entries, 0 to 20\n",
      "Data columns (total 2 columns):\n",
      " #   Column         Non-Null Count  Dtype \n",
      "---  ------         --------------  ----- \n",
      " 0   department_id  21 non-null     int64 \n",
      " 1   department     21 non-null     object\n",
      "dtypes: int64(1), object(1)\n",
      "memory usage: 464.0+ bytes\n"
     ]
    }
   ],
   "source": [
    "# mostrar información del DataFrame\n",
    "df_departments.info()"
   ]
  },
  {
   "cell_type": "code",
   "execution_count": 7,
   "id": "6fc81694",
   "metadata": {
    "id": "6fc81694"
   },
   "outputs": [
    {
     "name": "stdout",
     "output_type": "stream",
     "text": [
      "<class 'pandas.core.frame.DataFrame'>\n",
      "RangeIndex: 4545007 entries, 0 to 4545006\n",
      "Data columns (total 4 columns):\n",
      " #   Column             Non-Null Count    Dtype  \n",
      "---  ------             --------------    -----  \n",
      " 0   order_id           4545007 non-null  int64  \n",
      " 1   product_id         4545007 non-null  int64  \n",
      " 2   add_to_cart_order  4544171 non-null  float64\n",
      " 3   reordered          4545007 non-null  int64  \n",
      "dtypes: float64(1), int64(3)\n",
      "memory usage: 138.7 MB\n"
     ]
    }
   ],
   "source": [
    "# mostrar información del DataFrame\n",
    "df_order_p.info(show_counts=True)"
   ]
  },
  {
   "cell_type": "markdown",
   "id": "t75BD19oaR5f",
   "metadata": {
    "id": "t75BD19oaR5f"
   },
   "source": [
    "## Conclusiones\n",
    "\n",
    "Escribe aquí tus conclusiones intermedias sobre el Paso 1. Descripción de los datos.\n",
    "\n",
    "-Casi la totalidad de los datos de los DataFrame son de tipo entero.\n",
    "\n",
    "-En los DataFrame que contienen mas entradas existen valores nulos o vacios.\n",
    "\n",
    "-Como es un análisis prelimanar hay que verificar el formato que tienen las columnas que hacen referencia a la fecha y a la hora.\n",
    "\n"
   ]
  },
  {
   "cell_type": "markdown",
   "id": "8RJHqxVmaVsF",
   "metadata": {
    "id": "8RJHqxVmaVsF"
   },
   "source": [
    "# Paso 2. Preprocesamiento de los datos\n",
    "\n",
    "Preprocesa los datos de la siguiente manera:\n",
    "\n",
    "- Verifica y corrige los tipos de datos (por ejemplo, asegúrate de que las columnas de ID sean números enteros).\n",
    "- Identifica y completa los valores ausentes.\n",
    "- Identifica y elimina los valores duplicados.\n",
    "\n",
    "Asegúrate de explicar qué tipos de valores ausentes y duplicados encontraste, cómo los completaste o eliminaste y por qué usaste esos métodos. ¿Por qué crees que estos valores ausentes y duplicados pueden haber estado presentes en el conjunto de datos?"
   ]
  },
  {
   "cell_type": "markdown",
   "id": "p6poABZQaZYb",
   "metadata": {
    "id": "p6poABZQaZYb"
   },
   "source": [
    "## Plan de solución\n",
    "\n",
    "Escribe aquí tu plan para el Paso 2. Preprocesamiento de los datos.\n",
    "\n",
    "-Primero mostraria los datos ya sea con head, teal o sample para ver como estan dispuestos los datos en cada DataFrame.\n",
    "\n",
    "-Comprobar duplicados\n",
    "\n",
    "-comprobar datos nulos o vacios\n",
    "\n",
    "-eliminar duplicados\n",
    "\n",
    "-eliminar datos vacios o reemplazar segun sea el caso \n",
    "\n"
   ]
  },
  {
   "cell_type": "markdown",
   "id": "07357848-dc64-4156-9cc3-01ff4365226d",
   "metadata": {
    "id": "07357848-dc64-4156-9cc3-01ff4365226d"
   },
   "source": [
    "## Encuentra y elimina los valores duplicados (y describe cómo tomaste tus decisiones)."
   ]
  },
  {
   "cell_type": "markdown",
   "id": "f179f0a9",
   "metadata": {
    "id": "f179f0a9"
   },
   "source": [
    "### `instacart_orders` data frame"
   ]
  },
  {
   "cell_type": "code",
   "execution_count": 8,
   "id": "b99297a5-405a-463d-8535-9adc3da4ad74",
   "metadata": {
    "id": "b99297a5-405a-463d-8535-9adc3da4ad74"
   },
   "outputs": [
    {
     "name": "stdout",
     "output_type": "stream",
     "text": [
      "15\n"
     ]
    }
   ],
   "source": [
    "# Revisa si hay pedidos duplicados\n",
    "#print(df_instacart.head())\n",
    "print(df_instacart.duplicated().sum())\n"
   ]
  },
  {
   "cell_type": "markdown",
   "id": "PEkwUX_gvt5A",
   "metadata": {
    "id": "PEkwUX_gvt5A"
   },
   "source": [
    "¿Tienes líneas duplicadas? Si sí, ¿qué tienen en común?"
   ]
  },
  {
   "cell_type": "code",
   "execution_count": 9,
   "id": "0d44de5d",
   "metadata": {
    "id": "0d44de5d"
   },
   "outputs": [
    {
     "name": "stdout",
     "output_type": "stream",
     "text": [
      "        order_id  user_id  order_number  order_dow  order_hour_of_day  \\\n",
      "4838     2766110   162084            41          3                  2   \n",
      "5156     2190225   138285            18          3                  2   \n",
      "15506     553049    58599            13          3                  2   \n",
      "18420     382357   120200            19          3                  2   \n",
      "24691     690242    77357             2          3                  2   \n",
      "...          ...      ...           ...        ...                ...   \n",
      "457013   3384021    14881             6          3                  2   \n",
      "458816    910166   164782            18          3                  2   \n",
      "459635   1680532   106435             6          3                  2   \n",
      "468324    222962    54979            59          3                  2   \n",
      "477526   2592344    46860            38          3                  2   \n",
      "\n",
      "        days_since_prior_order  \n",
      "4838                      16.0  \n",
      "5156                      11.0  \n",
      "15506                      7.0  \n",
      "18420                     11.0  \n",
      "24691                      9.0  \n",
      "...                        ...  \n",
      "457013                    30.0  \n",
      "458816                     4.0  \n",
      "459635                    21.0  \n",
      "468324                     3.0  \n",
      "477526                     3.0  \n",
      "\n",
      "[121 rows x 6 columns]\n",
      "\n",
      "15\n"
     ]
    }
   ],
   "source": [
    "# Basándote en tus hallazgos,\n",
    "# Verifica todos los pedidos que se hicieron el miércoles a las 2:00 a.m.\n",
    "pedidos_miercoles_2am =df_instacart.loc[(df_instacart.loc[:,'order_dow'] == 3) & (df_instacart.loc[:,'order_hour_of_day'] == 2) ]\n",
    "\n",
    "print( pedidos_miercoles_2am )\n",
    "print()\n",
    "print( pedidos_miercoles_2am.duplicated().sum() )"
   ]
  },
  {
   "cell_type": "markdown",
   "id": "vu2OWyoqwOx5",
   "metadata": {
    "id": "vu2OWyoqwOx5"
   },
   "source": [
    "¿Qué sugiere este resultado?"
   ]
  },
  {
   "cell_type": "code",
   "execution_count": 10,
   "id": "480563c7",
   "metadata": {
    "id": "480563c7"
   },
   "outputs": [],
   "source": [
    "# Elimina los pedidos duplicados\n",
    "df_instacart = df_instacart.drop_duplicates().reset_index(drop=True)"
   ]
  },
  {
   "cell_type": "code",
   "execution_count": 11,
   "id": "0b2396a2",
   "metadata": {
    "id": "0b2396a2"
   },
   "outputs": [
    {
     "name": "stdout",
     "output_type": "stream",
     "text": [
      "0\n",
      "<class 'pandas.core.frame.DataFrame'>\n",
      "RangeIndex: 478952 entries, 0 to 478951\n",
      "Data columns (total 6 columns):\n",
      " #   Column                  Non-Null Count   Dtype  \n",
      "---  ------                  --------------   -----  \n",
      " 0   order_id                478952 non-null  int64  \n",
      " 1   user_id                 478952 non-null  int64  \n",
      " 2   order_number            478952 non-null  int64  \n",
      " 3   order_dow               478952 non-null  int64  \n",
      " 4   order_hour_of_day       478952 non-null  int64  \n",
      " 5   days_since_prior_order  450135 non-null  float64\n",
      "dtypes: float64(1), int64(5)\n",
      "memory usage: 21.9 MB\n"
     ]
    }
   ],
   "source": [
    "# Vuelve a verificar si hay filas duplicadas\n",
    "print(df_instacart.duplicated().sum())\n",
    "df_instacart.info()"
   ]
  },
  {
   "cell_type": "code",
   "execution_count": 12,
   "id": "f6113ef1",
   "metadata": {
    "id": "f6113ef1"
   },
   "outputs": [
    {
     "name": "stdout",
     "output_type": "stream",
     "text": [
      "0\n"
     ]
    }
   ],
   "source": [
    "# Vuelve a verificar únicamente si hay IDs duplicados de pedidos\n",
    "print(df_instacart['order_id'].duplicated().sum())"
   ]
  },
  {
   "cell_type": "markdown",
   "id": "5e8905ae",
   "metadata": {
    "id": "5e8905ae"
   },
   "source": [
    "Describe brevemente tus hallazgos y lo que hiciste con ellos\n",
    "\n",
    "-Existian 15 registros duplicados en el DataFrame en particular todos eran del Miercoles a las 2 am, luego de verificar la existencia de duplicados se prosiguio a la eliminarlos al hacerlo se reinicianor los index del DataFrame para mayor consistencia"
   ]
  },
  {
   "cell_type": "markdown",
   "id": "45e6bc46",
   "metadata": {
    "id": "45e6bc46"
   },
   "source": [
    "### `products` data frame"
   ]
  },
  {
   "cell_type": "code",
   "execution_count": 13,
   "id": "5f526b5b-8175-46fa-a0fd-441767d50e64",
   "metadata": {
    "id": "5f526b5b-8175-46fa-a0fd-441767d50e64"
   },
   "outputs": [
    {
     "name": "stdout",
     "output_type": "stream",
     "text": [
      "0\n"
     ]
    }
   ],
   "source": [
    "# Verifica si hay filas totalmente duplicadas\n",
    "print(df_products.duplicated().sum())"
   ]
  },
  {
   "cell_type": "code",
   "execution_count": 14,
   "id": "88daa4f4",
   "metadata": {
    "id": "88daa4f4"
   },
   "outputs": [
    {
     "name": "stdout",
     "output_type": "stream",
     "text": [
      "0\n"
     ]
    }
   ],
   "source": [
    "# Revisa únicamente si hay ID de departamentos duplicados\n",
    "print(df_products['product_id'].duplicated().sum())"
   ]
  },
  {
   "cell_type": "code",
   "execution_count": 4,
   "id": "c773f0bf",
   "metadata": {
    "id": "c773f0bf"
   },
   "outputs": [
    {
     "name": "stdout",
     "output_type": "stream",
     "text": [
      "1361\n",
      "1258\n"
     ]
    }
   ],
   "source": [
    "# Revisa únicamente si hay nombres duplicados de productos (convierte los nombres a letras mayúsculas para compararlos mejor)\n",
    "df_products['product_name'] = df_products['product_name'].str.upper()\n",
    "\n",
    "print(df_products['product_name'].duplicated().sum())\n",
    "\n",
    "print(df_products['product_name'].isna().sum())"
   ]
  },
  {
   "cell_type": "code",
   "execution_count": 5,
   "id": "01efd02e",
   "metadata": {
    "id": "01efd02e"
   },
   "outputs": [
    {
     "name": "stdout",
     "output_type": "stream",
     "text": [
      "       product_id                                       product_name  \\\n",
      "0               1                         CHOCOLATE SANDWICH COOKIES   \n",
      "1               2                                   ALL-SEASONS SALT   \n",
      "2               3               ROBUST GOLDEN UNSWEETENED OOLONG TEA   \n",
      "3               4  SMART ONES CLASSIC FAVORITES MINI RIGATONI WIT...   \n",
      "4               5                          GREEN CHILE ANYTIME SAUCE   \n",
      "...           ...                                                ...   \n",
      "49689       49690                      HIGH PERFORMANCE ENERGY DRINK   \n",
      "49690       49691                      ORIGINAL PANCAKE & WAFFLE MIX   \n",
      "49691       49692    ORGANIC INSTANT OATMEAL LIGHT MAPLE BROWN SUGAR   \n",
      "49692       49693                             SPRING WATER BODY WASH   \n",
      "49693       49694                            BURRITO- STEAK & CHEESE   \n",
      "\n",
      "       aisle_id  department_id  \n",
      "0            61             19  \n",
      "1           104             13  \n",
      "2            94              7  \n",
      "3            38              1  \n",
      "4             5             13  \n",
      "...         ...            ...  \n",
      "49689        64              7  \n",
      "49690       130             14  \n",
      "49691       130             14  \n",
      "49692       127             11  \n",
      "49693        38              1  \n",
      "\n",
      "[48436 rows x 4 columns]\n",
      "       product_id                                       product_name  \\\n",
      "0               1                         CHOCOLATE SANDWICH COOKIES   \n",
      "1               2                                   ALL-SEASONS SALT   \n",
      "2               3               ROBUST GOLDEN UNSWEETENED OOLONG TEA   \n",
      "3               4  SMART ONES CLASSIC FAVORITES MINI RIGATONI WIT...   \n",
      "4               5                          GREEN CHILE ANYTIME SAUCE   \n",
      "...           ...                                                ...   \n",
      "48327       49684          VODKA- TRIPLE DISTILLED- TWIST OF VANILLA   \n",
      "48328       49685                 EN CROUTE ROAST HAZELNUT CRANBERRY   \n",
      "48329       49686                                   ARTISAN BAGUETTE   \n",
      "48330       49687         SMARTBLEND HEALTHY METABOLISM DRY CAT FOOD   \n",
      "48331       49688                             FRESH FOAMING CLEANSER   \n",
      "\n",
      "       aisle_id  department_id  \n",
      "0            61             19  \n",
      "1           104             13  \n",
      "2            94              7  \n",
      "3            38              1  \n",
      "4             5             13  \n",
      "...         ...            ...  \n",
      "48327       124              5  \n",
      "48328        42              1  \n",
      "48329       112              3  \n",
      "48330        41              8  \n",
      "48331        73             11  \n",
      "\n",
      "[48332 rows x 4 columns]\n",
      "0\n"
     ]
    }
   ],
   "source": [
    "# Revisa si hay nombres duplicados de productos no faltantes\n",
    "productos_no_faltantes = df_products[~(df_products['product_name'].isna())]\n",
    "print(productos_no_faltantes)\n",
    "productos_sin_duplicados = productos_no_faltantes.drop_duplicates(subset='product_name').reset_index(drop=True)\n",
    "print(productos_sin_duplicados)\n",
    "df_products = productos_sin_duplicados\n",
    "\n",
    "#verificar si todavia existen nombres de productos duplicados\n",
    "print(df_products['product_name'].duplicated().sum())\n",
    "\n",
    "\n"
   ]
  },
  {
   "cell_type": "markdown",
   "id": "9da8d293",
   "metadata": {
    "id": "9da8d293"
   },
   "source": [
    "Describe brevemente tus hallazgos y lo que hiciste con ellos.\n",
    "\n",
    "-No existian filas totalmente duplicadas, tampoco habian IDs duplicados pero si nombres de productos luego de saber esto se prosiguio a eleminar estos duplicados y a verifcar nuevamente."
   ]
  },
  {
   "cell_type": "markdown",
   "id": "60f30db1",
   "metadata": {
    "id": "60f30db1"
   },
   "source": [
    "### `departments` data frame"
   ]
  },
  {
   "cell_type": "code",
   "execution_count": 18,
   "id": "fb410ad4-0fbf-4b80-bb09-23fdea79afe3",
   "metadata": {
    "id": "fb410ad4-0fbf-4b80-bb09-23fdea79afe3"
   },
   "outputs": [
    {
     "name": "stdout",
     "output_type": "stream",
     "text": [
      "0\n"
     ]
    }
   ],
   "source": [
    "# Revisa si hay filas totalmente duplicadas\n",
    "print(df_departments.duplicated().sum())"
   ]
  },
  {
   "cell_type": "code",
   "execution_count": 19,
   "id": "332b12bb",
   "metadata": {
    "id": "332b12bb"
   },
   "outputs": [
    {
     "name": "stdout",
     "output_type": "stream",
     "text": [
      "0\n"
     ]
    }
   ],
   "source": [
    "# Revisa únicamente si hay IDs duplicadas de productos\n",
    "print(df_departments['department_id'].duplicated().sum())"
   ]
  },
  {
   "cell_type": "markdown",
   "id": "bd30d78e",
   "metadata": {
    "id": "bd30d78e"
   },
   "source": [
    "Describe brevemente tus hallazgos y lo que hiciste con ellos.\n",
    "\n",
    "-No existen duplicados para el DataFrame"
   ]
  },
  {
   "cell_type": "markdown",
   "id": "889349c1",
   "metadata": {
    "id": "889349c1"
   },
   "source": [
    "### `aisles` data frame"
   ]
  },
  {
   "cell_type": "code",
   "execution_count": 20,
   "id": "9da89fb9-4679-40f5-ad0d-c34df753a3f8",
   "metadata": {
    "id": "9da89fb9-4679-40f5-ad0d-c34df753a3f8"
   },
   "outputs": [
    {
     "name": "stdout",
     "output_type": "stream",
     "text": [
      "0\n"
     ]
    }
   ],
   "source": [
    "# Revisa si hay filas totalmente duplicadas\n",
    "print(df_aisles.duplicated().sum())"
   ]
  },
  {
   "cell_type": "code",
   "execution_count": 21,
   "id": "da7c2822",
   "metadata": {
    "id": "da7c2822"
   },
   "outputs": [
    {
     "name": "stdout",
     "output_type": "stream",
     "text": [
      "0\n"
     ]
    }
   ],
   "source": [
    "# Revisa únicamente si hay IDs duplicadas de productos\n",
    "print(df_aisles['aisle_id'].duplicated().sum())"
   ]
  },
  {
   "cell_type": "markdown",
   "id": "ac63826f",
   "metadata": {
    "id": "ac63826f"
   },
   "source": [
    "Describe brevemente tus hallazgos y lo que hiciste con ellos.\n",
    "\n",
    "-No existen duplicados para el DataFrame"
   ]
  },
  {
   "cell_type": "markdown",
   "id": "274cd06a",
   "metadata": {
    "id": "274cd06a"
   },
   "source": [
    "### `order_products` data frame"
   ]
  },
  {
   "cell_type": "code",
   "execution_count": 22,
   "id": "52326689-84a8-4b8f-a881-7c68780f62c9",
   "metadata": {
    "id": "52326689-84a8-4b8f-a881-7c68780f62c9"
   },
   "outputs": [
    {
     "name": "stdout",
     "output_type": "stream",
     "text": [
      "0\n"
     ]
    }
   ],
   "source": [
    "# Revisa si hay filas totalmente duplicadas\n",
    "print(df_order_p.duplicated().sum())"
   ]
  },
  {
   "cell_type": "code",
   "execution_count": 23,
   "id": "7b861391",
   "metadata": {
    "id": "7b861391"
   },
   "outputs": [
    {
     "name": "stdout",
     "output_type": "stream",
     "text": [
      "      order_id  product_id  add_to_cart_order  reordered\n",
      "367    2867619       48094                9.0          0\n",
      "824     844425       39408               10.0          1\n",
      "1124   3319857       37067               19.0          0\n",
      "1258   1038788       12471               14.0          0\n",
      "1303   2825714       44632               16.0          1\n",
      "         order_id  product_id  add_to_cart_order  reordered\n",
      "209       2867619       21616               13.0          0\n",
      "367       2867619       48094                9.0          0\n",
      "588554    2867619       10199                8.0          1\n",
      "597172    2867619       46900               22.0          0\n",
      "1581682   2867619       40078                7.0          1\n",
      "1790435   2867619       34190               10.0          0\n",
      "1905810   2867619       45788               18.0          0\n",
      "1910919   2867619       34786               15.0          0\n",
      "1916515   2867619       43662               24.0          0\n",
      "2160728   2867619       27093               23.0          0\n",
      "2221506   2867619       21603                6.0          0\n",
      "2407249   2867619       37642               16.0          0\n",
      "2531634   2867619       30059               14.0          0\n",
      "2777070   2867619       26451               21.0          0\n",
      "2817544   2867619       39877               11.0          0\n",
      "3319736   2867619       23254               12.0          1\n",
      "3795104   2867619       42374                5.0          0\n",
      "3892938   2867619       21137               25.0          1\n",
      "4047748   2867619        5115                1.0          0\n",
      "4134254   2867619       43961               19.0          0\n",
      "4257282   2867619       15649               20.0          0\n",
      "4289159   2867619       24852                3.0          1\n",
      "4312552   2867619       39245                2.0          0\n",
      "4434568   2867619       30450                4.0          0\n",
      "4541477   2867619        1540               17.0          0\n",
      "\n",
      "0\n"
     ]
    }
   ],
   "source": [
    "# Vuelve a verificar si hay cualquier otro duplicado engañoso\n",
    "\n",
    "duplicado_order_id = df_order_p[df_order_p['order_id'].duplicated()]\n",
    "print(duplicado_order_id.head())\n",
    "#print(df_order_p['product_id'].duplicated().sum())\n",
    "#print(df_order_p[df_order_p['add_to_cart_order'].duplicated()].head())\n",
    "#print(df_order_p['reordered'].duplicated().sum())\n",
    "print(df_order_p[df_order_p['order_id']==2867619])\n",
    "print()\n",
    "print(df_order_p[df_order_p['order_id']==2867619].duplicated().sum())"
   ]
  },
  {
   "cell_type": "markdown",
   "id": "0b890492",
   "metadata": {
    "id": "0b890492"
   },
   "source": [
    "Describe brevemente tus hallazgos y lo que hiciste con ellos.\n",
    "\n",
    "-El DataFrame no tiene filas copletas iguales pero evidentemente tiene duplicados en sus otras columnas ya que esta tiene lo articulos pedidos en un pedido como ejemplo  duplicado_order_id contiene las entradas duplicadas que estan en order_id y al buscar alguna de estas entradas se puede ver que no tiene duplicadas las filas. \n",
    "-No se puede eleminar los duplicados en este caso ya que esto eliminaria una cantidad sustancial de información "
   ]
  },
  {
   "cell_type": "markdown",
   "id": "1e46de76",
   "metadata": {
    "id": "1e46de76"
   },
   "source": [
    "## Encuentra y elimina los valores ausentes\n",
    "\n",
    "Al trabajar con valores duplicados, pudimos observar que también nos falta investigar valores ausentes:\n",
    "\n",
    "* La columna `'product_name'` de la tabla products.\n",
    "* La columna `'days_since_prior_order'` de la tabla orders.\n",
    "* La columna `'add_to_cart_order'` de la tabla order_productos."
   ]
  },
  {
   "cell_type": "markdown",
   "id": "c0aebd78",
   "metadata": {
    "id": "c0aebd78"
   },
   "source": [
    "### `products` data frame"
   ]
  },
  {
   "cell_type": "code",
   "execution_count": 24,
   "id": "fe4a8b0f",
   "metadata": {
    "id": "fe4a8b0f"
   },
   "outputs": [
    {
     "name": "stdout",
     "output_type": "stream",
     "text": [
      "product_id       0\n",
      "product_name     0\n",
      "aisle_id         0\n",
      "department_id    0\n",
      "dtype: int64\n",
      "\n",
      "0\n",
      "\n",
      "Empty DataFrame\n",
      "Columns: [product_id, product_name, aisle_id, department_id]\n",
      "Index: []\n"
     ]
    }
   ],
   "source": [
    "# Encuentra los valores ausentes en la columna 'product_name'\n",
    "print(df_products.isna().sum())\n",
    "print()\n",
    "print(df_products['product_name'].isna().sum())\n",
    "print()\n",
    "print(df_products[df_products['product_name'].isna()])"
   ]
  },
  {
   "cell_type": "markdown",
   "id": "-A6x1AbJhjkp",
   "metadata": {
    "id": "-A6x1AbJhjkp"
   },
   "source": [
    "Describe brevemente cuáles son tus hallazgos.\n",
    "-En la columna product_name hay un valor nulo es igual a NaN"
   ]
  },
  {
   "cell_type": "code",
   "execution_count": 25,
   "id": "e96167bc",
   "metadata": {
    "id": "e96167bc"
   },
   "outputs": [
    {
     "name": "stdout",
     "output_type": "stream",
     "text": [
      "    product_id product_name  aisle_id  department_id\n",
      "37          38          NaN       100             21\n"
     ]
    }
   ],
   "source": [
    "#  ¿Todos los nombres de productos ausentes están relacionados con el pasillo con ID 100?\n",
    "print(df_products[df_products['aisle_id'] == 100])\n"
   ]
  },
  {
   "cell_type": "markdown",
   "id": "WRpIfXRphpSL",
   "metadata": {
    "id": "WRpIfXRphpSL"
   },
   "source": [
    "Describe brevemente cuáles son tus hallazgos.\n",
    "-Como se puede ver en el registro con el id 100 de pasillo contiene el valor nulo en la columna product_name"
   ]
  },
  {
   "cell_type": "code",
   "execution_count": 26,
   "id": "8fd0a541",
   "metadata": {
    "id": "8fd0a541"
   },
   "outputs": [
    {
     "name": "stdout",
     "output_type": "stream",
     "text": [
      "    product_id product_name  aisle_id  department_id\n",
      "37          38          NaN       100             21\n"
     ]
    }
   ],
   "source": [
    "# ¿Todos los nombres de productos ausentes están relacionados con el departamento con ID 21?\n",
    "print(df_products[df_products['department_id'] == 21])"
   ]
  },
  {
   "cell_type": "markdown",
   "id": "qDpdYn1Fht_I",
   "metadata": {
    "id": "qDpdYn1Fht_I"
   },
   "source": [
    "Describe brevemente cuáles son tus hallazgos.-Como se puede ver en el registro con el id 21 de departamento contiene el valor nulo en la columna product_name"
   ]
  },
  {
   "cell_type": "code",
   "execution_count": 27,
   "id": "325c3464",
   "metadata": {
    "id": "325c3464"
   },
   "outputs": [
    {
     "name": "stdout",
     "output_type": "stream",
     "text": [
      "    department_id department\n",
      "20             21    missing\n",
      "\n",
      "    aisle_id    aisle\n",
      "99       100  missing\n"
     ]
    }
   ],
   "source": [
    "# Usa las tablas department y aisle para revisar los datos del pasillo con ID 100 y el departamento con ID 21.\n",
    "print(df_departments[df_departments['department_id'] == 21])\n",
    "print()\n",
    "print(df_aisles[df_aisles['aisle_id'] == 100])\n"
   ]
  },
  {
   "cell_type": "markdown",
   "id": "nqhSTUPhhvEJ",
   "metadata": {
    "id": "nqhSTUPhhvEJ"
   },
   "source": [
    "Describe brevemente cuáles son tus hallazgos.-En el DataFrame tanto de departments como aisles cuentan con un valor nulo en los id previamente mencionados con el valor missing"
   ]
  },
  {
   "cell_type": "code",
   "execution_count": 28,
   "id": "6b295120",
   "metadata": {
    "id": "6b295120"
   },
   "outputs": [
    {
     "name": "stdout",
     "output_type": "stream",
     "text": [
      "product_id       0\n",
      "product_name     0\n",
      "aisle_id         0\n",
      "department_id    0\n",
      "dtype: int64\n",
      "\n",
      "    product_id product_name  aisle_id  department_id\n",
      "37          38      Unknown       100             21\n"
     ]
    }
   ],
   "source": [
    "# Completa los nombres de productos ausentes con 'Unknown'\n",
    "df_products['product_name'] = df_products['product_name'].fillna('Unknown')\n",
    "print(df_products.isna().sum())\n",
    "print()\n",
    "print(df_products[df_products['aisle_id'] == 100])"
   ]
  },
  {
   "cell_type": "markdown",
   "id": "fc70e5ad",
   "metadata": {
    "id": "fc70e5ad"
   },
   "source": [
    "Describe brevemente tus hallazgos y lo que hiciste con ellos.\n",
    "\n",
    "-Se busco valores nulos en el DataFrame df_products en lo cual se encontro 1 registro\n",
    "\n",
    "-Se verifco que el valor nulo pertenecia a la calumna product_name \n",
    "\n",
    "-Se busco los registros con id similar en la columna department_id e aisle_id y el valor nulo solo pertenecia a estos registros\n",
    "\n",
    "-Finalmente se reemplazo en el valor nulo con una cadena recomendado en este caso 'Unknown' y se prosiguio a verificar nuevamente los valores nulos siendo estos -0"
   ]
  },
  {
   "cell_type": "markdown",
   "id": "32f7396f",
   "metadata": {},
   "source": [
    "<div class=\"alert alert-block alert-success\">\n",
    "<b>Comentario del revisor</b> <a class=\"tocSkip\"></a>\n",
    "\n",
    "Muy buen trabajo!! Desarrollaste de manera excelente el análisis de valores faltantes y los llenaste con \"unknown\".\n",
    "    \n",
    "</div>"
   ]
  },
  {
   "cell_type": "markdown",
   "id": "7eb45c86",
   "metadata": {
    "id": "7eb45c86"
   },
   "source": [
    "### `orders` data frame"
   ]
  },
  {
   "cell_type": "code",
   "execution_count": 29,
   "id": "93e41d96",
   "metadata": {
    "id": "93e41d96"
   },
   "outputs": [
    {
     "name": "stdout",
     "output_type": "stream",
     "text": [
      "order_id                      0\n",
      "user_id                       0\n",
      "order_number                  0\n",
      "order_dow                     0\n",
      "order_hour_of_day             0\n",
      "days_since_prior_order    28817\n",
      "dtype: int64\n",
      "\n"
     ]
    }
   ],
   "source": [
    "# Encuentra los valores ausentes\n",
    "print(df_instacart.isna().sum())\n",
    "print()\n"
   ]
  },
  {
   "cell_type": "code",
   "execution_count": 30,
   "id": "166e5a86",
   "metadata": {
    "id": "166e5a86"
   },
   "outputs": [
    {
     "name": "stdout",
     "output_type": "stream",
     "text": [
      "Empty DataFrame\n",
      "Columns: [order_id, user_id, order_number, order_dow, order_hour_of_day, days_since_prior_order]\n",
      "Index: []\n",
      "\n",
      "order_id                  0\n",
      "user_id                   0\n",
      "order_number              0\n",
      "order_dow                 0\n",
      "order_hour_of_day         0\n",
      "days_since_prior_order    0\n",
      "dtype: int64\n"
     ]
    }
   ],
   "source": [
    "# ¿Hay algún valor ausente que no sea el primer pedido del cliente?\n",
    "df_instacart_nan = df_instacart[df_instacart['days_since_prior_order'].isna()]\n",
    "print(df_instacart_nan[df_instacart_nan['order_number'] != 1])\n",
    "print()\n",
    "days_fill = df_instacart['days_since_prior_order'].median()\n",
    "df_instacart['days_since_prior_order'] = df_instacart['days_since_prior_order'].fillna(days_fill)\n",
    "print(df_instacart.isna().sum())"
   ]
  },
  {
   "cell_type": "markdown",
   "id": "4e23d089",
   "metadata": {
    "id": "4e23d089"
   },
   "source": [
    "Describe brevemente tus hallazgos y lo que hiciste con ellos.\n",
    "-Se encontraron valores ausentes en la columna days_since_prior_order \n",
    "\n",
    "-Se comprobo que los valores ausentes son de solo la primera orden de los clientes\n",
    "\n",
    "-Se prosiguio a rellenar los datos nulos con la mediana de days_since_prior_order esto ya que al tener un rango de valores de 1 a hata 30 una media no seria muy significativa. Tambien hay que considerar que los datos faltantes son solo un 6% de la tabla lo cual no influenciara mucho en un análisis posterior."
   ]
  },
  {
   "cell_type": "markdown",
   "id": "69dc9ca4",
   "metadata": {
    "id": "69dc9ca4"
   },
   "source": [
    "### `order_products` data frame"
   ]
  },
  {
   "cell_type": "code",
   "execution_count": 31,
   "id": "b8240253",
   "metadata": {
    "id": "b8240253"
   },
   "outputs": [
    {
     "name": "stdout",
     "output_type": "stream",
     "text": [
      "order_id               0\n",
      "product_id             0\n",
      "add_to_cart_order    836\n",
      "reordered              0\n",
      "dtype: int64\n"
     ]
    }
   ],
   "source": [
    "# Encuentra los valores ausentes\n",
    "print(df_order_p.isna().sum())"
   ]
  },
  {
   "cell_type": "code",
   "execution_count": 32,
   "id": "9a78e5ee",
   "metadata": {
    "id": "9a78e5ee"
   },
   "outputs": [
    {
     "name": "stdout",
     "output_type": "stream",
     "text": [
      "64.0\n",
      "1.0\n"
     ]
    }
   ],
   "source": [
    "# ¿Cuáles son los valores mínimos y máximos en esta columna?\n",
    "print(df_order_p['add_to_cart_order'].max())\n",
    "print(df_order_p['add_to_cart_order'].min())"
   ]
  },
  {
   "cell_type": "markdown",
   "id": "-Z2Ja215jW78",
   "metadata": {
    "id": "-Z2Ja215jW78"
   },
   "source": [
    "Describe brevemente cuáles son tus hallazgos.-El valor minimo para la columna add_to_cart_order es 1 y el valor maximo 64"
   ]
  },
  {
   "cell_type": "code",
   "execution_count": 33,
   "id": "ab9d0c2b",
   "metadata": {
    "id": "ab9d0c2b"
   },
   "outputs": [
    {
     "name": "stdout",
     "output_type": "stream",
     "text": [
      "         order_id  product_id  add_to_cart_order  reordered\n",
      "737       2449164        5068                NaN          0\n",
      "9926      1968313       43867                NaN          0\n",
      "14394     2926893       11688                NaN          0\n",
      "16418     1717990        4142                NaN          0\n",
      "30114     1959075       42828                NaN          1\n",
      "...           ...         ...                ...        ...\n",
      "4505662   1800005        7411                NaN          0\n",
      "4511400   1633337         260                NaN          0\n",
      "4517562    404157        9517                NaN          0\n",
      "4534112   1673227       17835                NaN          0\n",
      "4535739   1832957       17949                NaN          1\n",
      "\n",
      "[836 rows x 4 columns]\n"
     ]
    }
   ],
   "source": [
    "# Guarda todas las IDs de pedidos que tengan un valor ausente en 'add_to_cart_order'\n",
    "df_order_nan = df_order_p[df_order_p['add_to_cart_order'].isna()]\n",
    "print(df_order_nan)\n"
   ]
  },
  {
   "cell_type": "code",
   "execution_count": 34,
   "id": "54c31695",
   "metadata": {
    "id": "54c31695"
   },
   "outputs": [
    {
     "name": "stdout",
     "output_type": "stream",
     "text": [
      "order_id\n",
      "9310       1\n",
      "61355     63\n",
      "102236    31\n",
      "129627     5\n",
      "165801     6\n",
      "Name: product_id, dtype: int64\n",
      "0\n",
      "1\n"
     ]
    }
   ],
   "source": [
    "# ¿Todos los pedidos con valores ausentes tienen más de 64 productos?\n",
    "# Agrupa todos los pedidos con datos ausentes por su ID de pedido.\n",
    "# Cuenta el número de 'product_id' en cada pedido y revisa el valor mínimo del conteo.\n",
    "group_order = df_order_nan.groupby(by='order_id')['product_id'].count()\n",
    "print(group_order.head())\n",
    "print((group_order > 64).sum())\n",
    "print(group_order.min())\n",
    "\n"
   ]
  },
  {
   "cell_type": "markdown",
   "id": "p9V6pddtjglj",
   "metadata": {
    "id": "p9V6pddtjglj"
   },
   "source": [
    "Describe brevemente cuáles son tus hallazgos.-Habian 836 datos nulos en la columna add_to_cart_order al analizarlo el minimo de pedidos por producto fue de 1 y el maximo de 63 "
   ]
  },
  {
   "cell_type": "code",
   "execution_count": 35,
   "id": "7a987d08",
   "metadata": {
    "id": "7a987d08"
   },
   "outputs": [
    {
     "name": "stdout",
     "output_type": "stream",
     "text": [
      "order_id             0\n",
      "product_id           0\n",
      "add_to_cart_order    0\n",
      "reordered            0\n",
      "dtype: int64\n",
      "<class 'pandas.core.frame.DataFrame'>\n",
      "RangeIndex: 4545007 entries, 0 to 4545006\n",
      "Data columns (total 4 columns):\n",
      " #   Column             Dtype\n",
      "---  ------             -----\n",
      " 0   order_id           int64\n",
      " 1   product_id         int64\n",
      " 2   add_to_cart_order  int64\n",
      " 3   reordered          int64\n",
      "dtypes: int64(4)\n",
      "memory usage: 138.7 MB\n"
     ]
    }
   ],
   "source": [
    "# Remplaza los valores ausentes en la columna 'add_to_cart? con 999 y convierte la columna al tipo entero.\n",
    "df_order_p['add_to_cart_order'] = df_order_p['add_to_cart_order'].fillna(999)\n",
    "print(df_order_p.isna().sum())\n",
    "df_order_p['add_to_cart_order'] = df_order_p['add_to_cart_order'].astype(int)\n",
    "df_order_p.info()"
   ]
  },
  {
   "cell_type": "markdown",
   "id": "fea4bcc7",
   "metadata": {
    "id": "fea4bcc7"
   },
   "source": [
    "Describe brevemente tus hallazgos y lo que hiciste con ellos.\n",
    "\n",
    "-Se buscaron los datos nulos en DataFrame df_order_p el cual contenia datos nulos en la columna add_to_cart_order\n",
    "\n",
    "-Se analizo los pedidos en un nuevo DataFrame df_order_nan que contenia los datos nulos y luego se agrupo en el DataFrame group_order para ver la cantidad de pedido por producto\n",
    "\n",
    "-Para finalizar se remplazaron los valores ausentes y se convertio el tipo de dato de la columna a entero ya que antes era de tipo float"
   ]
  },
  {
   "cell_type": "markdown",
   "id": "RnplPFY1gSrb",
   "metadata": {
    "id": "RnplPFY1gSrb"
   },
   "source": [
    "## Conclusiones\n",
    "\n",
    "Escribe aquí tus conclusiones intermedias sobre el Paso 2. Preprocesamiento de los datos\n",
    "\n",
    "-Habian mas datos nulos que duplicados \n",
    "\n",
    "-A modo general los datos nulos y datos duplicados no constituian un porcentaje significativo para ser estos decisivos al momento de realizar un análisis\n",
    "\n",
    "-Todos los DataFrame o set de datos son coherentes en su estructura me refiero a que todos estan bien relacionados para poder realizar un análisis con estos\n",
    "\n",
    "-Los tipos de datos de cada columna de todo los DataFrame en general estaban con su tipo correcto en cuanto a la situación la unica excepción fue la columna add_to_cart_order ya que esta al ser un número que hacer referencia a una posición no tiene sentido que sea tipo float."
   ]
  },
  {
   "cell_type": "markdown",
   "id": "UjrOIwTcz3ri",
   "metadata": {
    "id": "UjrOIwTcz3ri"
   },
   "source": [
    "# Paso 3. Análisis de los datos\n",
    "\n",
    "Una vez los datos estén procesados y listos, haz el siguiente análisis:"
   ]
  },
  {
   "cell_type": "markdown",
   "id": "turkish-kidney",
   "metadata": {
    "id": "turkish-kidney"
   },
   "source": [
    "# [A] Fácil (deben completarse todos para aprobar)\n",
    "\n",
    "1. Verifica que los valores en las columnas `'order_hour_of_day'` y `'order_dow'` en la tabla orders sean razonables (es decir, `'order_hour_of_day'` oscile entre 0 y 23 y `'order_dow'` oscile entre 0 y 6).\n",
    "2. Crea un gráfico que muestre el número de personas que hacen pedidos dependiendo de la hora del día.\n",
    "3. Crea un gráfico que muestre qué día de la semana la gente hace sus compras.\n",
    "4. Crea un gráfico que muestre el tiempo que la gente espera hasta hacer su siguiente pedido, y comenta sobre los valores mínimos y máximos."
   ]
  },
  {
   "cell_type": "markdown",
   "id": "short-capability",
   "metadata": {
    "id": "short-capability"
   },
   "source": [
    "### [A1] Verifica que los valores sean sensibles"
   ]
  },
  {
   "cell_type": "code",
   "execution_count": 78,
   "id": "growing-fruit",
   "metadata": {
    "id": "growing-fruit"
   },
   "outputs": [
    {
     "name": "stdout",
     "output_type": "stream",
     "text": [
      "cantidad de filas en el filtro de hora es 478952\n",
      "cantidad de filas en el DataFrame es 478952\n",
      "0      3180\n",
      "1      1763\n",
      "2       989\n",
      "3       770\n",
      "4       765\n",
      "5      1371\n",
      "6      4215\n",
      "7     13043\n",
      "8     25024\n",
      "9     35896\n",
      "10    40578\n",
      "11    40032\n",
      "12    38034\n",
      "13    39007\n",
      "14    39631\n",
      "15    39789\n",
      "16    38112\n",
      "17    31930\n",
      "18    25510\n",
      "19    19547\n",
      "20    14624\n",
      "21    11019\n",
      "22     8512\n",
      "23     5611\n",
      "Name: order_hour_of_day, dtype: int64\n",
      "478952\n"
     ]
    }
   ],
   "source": [
    "df_filter_hour = df_instacart[(df_instacart['order_hour_of_day'] >= 0) & (df_instacart['order_hour_of_day'] <= 23)]\n",
    "print(\"cantidad de filas en el filtro de hora es\" , len(df_filter_hour))\n",
    "print(\"cantidad de filas en el DataFrame es\",len(df_instacart))\n",
    "\n",
    "print(df_instacart['order_hour_of_day'].value_counts().sort_index())\n",
    "print(df_instacart['order_hour_of_day'].value_counts().sort_index().sum())"
   ]
  },
  {
   "cell_type": "code",
   "execution_count": 79,
   "id": "accessory-malaysia",
   "metadata": {
    "id": "accessory-malaysia"
   },
   "outputs": [
    {
     "name": "stdout",
     "output_type": "stream",
     "text": [
      "cantidad de filas en el filtro de dia es 478952\n",
      "cantidad de filas en el DataFrame es 478952\n",
      "0    84090\n",
      "1    82185\n",
      "2    65833\n",
      "3    60897\n",
      "4    59810\n",
      "5    63488\n",
      "6    62649\n",
      "Name: order_dow, dtype: int64\n",
      "478952\n"
     ]
    }
   ],
   "source": [
    "df_filter_dow = df_filter_hour[(df_filter_hour['order_dow'] >= 0) & (df_filter_hour['order_dow'] <= 6) ]\n",
    "print(\"cantidad de filas en el filtro de dia es\", len(df_filter_dow))\n",
    "print(\"cantidad de filas en el DataFrame es\",len(df_instacart))\n",
    "\n",
    "print(df_instacart['order_dow'].value_counts().sort_index())\n",
    "print(df_instacart['order_dow'].value_counts().sort_index().sum())"
   ]
  },
  {
   "cell_type": "markdown",
   "id": "hmR2GNQ6lCsX",
   "metadata": {
    "id": "hmR2GNQ6lCsX"
   },
   "source": [
    "Escribe aquí tus conclusiones\n",
    "-Se hizo un filtro con los valores dados y el resultado fue en el caso de ambos la totalidad de las entradas por lo que no hay datos fuera de los rangos establecidos"
   ]
  },
  {
   "cell_type": "markdown",
   "id": "a6743a70",
   "metadata": {
    "id": "a6743a70"
   },
   "source": [
    "### [A2] Para cada hora del día, ¿cuántas personas hacen órdenes?"
   ]
  },
  {
   "cell_type": "code",
   "execution_count": 40,
   "id": "a36cca27",
   "metadata": {
    "id": "a36cca27",
    "scrolled": false
   },
   "outputs": [
    {
     "name": "stdout",
     "output_type": "stream",
     "text": [
      "order_hour_of_day\n",
      "0      3180\n",
      "1      1763\n",
      "2       989\n",
      "3       770\n",
      "4       765\n",
      "5      1371\n",
      "6      4215\n",
      "7     13043\n",
      "8     25024\n",
      "9     35896\n",
      "10    40578\n",
      "11    40032\n",
      "12    38034\n",
      "13    39007\n",
      "14    39631\n",
      "15    39789\n",
      "16    38112\n",
      "17    31930\n",
      "18    25510\n",
      "19    19547\n",
      "20    14624\n",
      "21    11019\n",
      "22     8512\n",
      "23     5611\n",
      "Name: order_id, dtype: int64\n"
     ]
    },
    {
     "data": {
      "image/png": "[encoded data removed]",
      "text/plain": [
       "<Figure size 640x480 with 1 Axes>"
      ]
     },
     "metadata": {},
     "output_type": "display_data"
    }
   ],
   "source": [
    "df_grafico1 = df_filter_hour['order_hour_of_day'].value_counts().sort_index()\n",
    "\n",
    "df_grafico1.plot(title='Cantidad de Compras por hora', \n",
    "                 kind='bar', \n",
    "                 x=df_grafico1.index, \n",
    "                 y=df_grafico1.values, \n",
    "                 xlabel='horas', \n",
    "                 ylabel='cantidad de compras')\n",
    "print(df_instacart.groupby(by='order_hour_of_day')['order_id'].count())\n",
    "plt.show()"
   ]
  },
  {
   "cell_type": "markdown",
   "id": "11270eed",
   "metadata": {
    "id": "11270eed"
   },
   "source": [
    "Escribe aquí tus conclusiones\n",
    "\n",
    "-En general se realizan una gran cantidad de compras entre las 9 y las 17 horas.\n",
    "\n",
    "-Tenemos 2 grupos con respecto a la hora que son bajas las compras en la mañana y en la tarde noche. En la mañana entre las 0 y 8 horas hay un menor cantidad de pedidos ya en esta ultima comenzando a aumentar y en la tarde noche a partir de las 18 horas la cantidad de pedidos empieza a diminuir hasta las 23.\n",
    "\n",
    "-Se puede concluir que el rango de hora en el cual se realizan mas pedidos es en comparacion al horario laboral (periodo de 8 horas) ya que es donde las personas estan mas activas y los rangos de hora en la mañana y en la tarde noche son menos activos ya que estan descansando y van a descansar."
   ]
  },
  {
   "cell_type": "markdown",
   "id": "documented-command",
   "metadata": {
    "id": "documented-command"
   },
   "source": [
    "### [A3] ¿Qué día de la semana compran víveres las personas?"
   ]
  },
  {
   "cell_type": "code",
   "execution_count": 41,
   "id": "chief-digit",
   "metadata": {
    "id": "chief-digit"
   },
   "outputs": [
    {
     "name": "stdout",
     "output_type": "stream",
     "text": [
      "0    84090\n",
      "1    82185\n",
      "2    65833\n",
      "3    60897\n",
      "4    59810\n",
      "5    63488\n",
      "6    62649\n",
      "Name: order_dow, dtype: int64\n"
     ]
    },
    {
     "data": {
      "image/png": "[encoded data removed]",
      "text/plain": [
       "<Figure size 640x480 with 1 Axes>"
      ]
     },
     "metadata": {},
     "output_type": "display_data"
    }
   ],
   "source": [
    "df_grafico2 = df_filter_dow['order_dow'].value_counts().sort_index()\n",
    "colx = ['Domingo','Lunes','Martes', 'Miercoles', 'Juesves', 'Viernes', 'Sabado']\n",
    "df_grafico2.plot(title='Compras por dia', \n",
    "                 kind='bar', \n",
    "                 x=df_grafico2.index, \n",
    "                 y=df_grafico2.values, \n",
    "                 xlabel='Dias de la semana', \n",
    "                 ylabel='cantidad de compras')\n",
    "plt.xticks(ticks=df_grafico2.index, labels=colx)\n",
    "print(df_grafico2)\n",
    "plt.show()"
   ]
  },
  {
   "cell_type": "markdown",
   "id": "dominant-lightning",
   "metadata": {
    "id": "dominant-lightning"
   },
   "source": [
    "Escribe aquí tus conclusiones\n",
    "\n",
    "-Los días Domingos como lunes son lo días en lo que se realizan mas compras dismuyendo mientras avanza la semana y aumenta mientras se acerca el fin de semana."
   ]
  },
  {
   "cell_type": "markdown",
   "id": "cutting-concert",
   "metadata": {
    "id": "cutting-concert"
   },
   "source": [
    "### [A4] ¿Cuánto tiempo esperan las personas hasta hacer otro pedido? Comenta sobre los valores mínimos y máximos."
   ]
  },
  {
   "cell_type": "code",
   "execution_count": 42,
   "id": "c231f523",
   "metadata": {
    "id": "c231f523"
   },
   "outputs": [
    {
     "data": {
      "image/png": "[encoded data removed]",
      "text/plain": [
       "<Figure size 640x480 with 1 Axes>"
      ]
     },
     "metadata": {},
     "output_type": "display_data"
    },
    {
     "name": "stdout",
     "output_type": "stream",
     "text": [
      "count    478952.000000\n",
      "mean         10.855021\n",
      "std           8.962483\n",
      "min           0.000000\n",
      "25%           5.000000\n",
      "50%           7.000000\n",
      "75%          15.000000\n",
      "max          30.000000\n",
      "Name: days_since_prior_order, dtype: float64\n"
     ]
    }
   ],
   "source": [
    "#df_grafico3 = df_instacart['days_since_prior_order'].value_counts().sort_index()\n",
    "#df_grafico3.plot(title='Tiempo de espera para otro pedido',kind='bar', \n",
    "#                 x=df_grafico3.index, \n",
    "#                y=df_grafico3.values, xlabel='Días tras la ultima compra', ylabel='cantidad de personas')\n",
    "df_instacart['days_since_prior_order'].plot(kind='hist')\n",
    "plt.title('Tiempo entre pedidos')\n",
    "plt.xlabel('Dias desde el ultimo pedido')\n",
    "plt.ylabel('Frecuencia')\n",
    "plt.show()\n",
    "print(df_instacart['days_since_prior_order'].describe())\n"
   ]
  },
  {
   "cell_type": "markdown",
   "id": "discrete-vertex",
   "metadata": {
    "id": "discrete-vertex"
   },
   "source": [
    "Escribe aquí tus conclusiones\n",
    "\n",
    "-En promedio se demoran 10 días en comprar nuevamente siendo 0 días el minimo de días que se demora en comprar nuevamente y 30 el maximo."
   ]
  },
  {
   "cell_type": "markdown",
   "id": "tight-staff",
   "metadata": {
    "id": "tight-staff"
   },
   "source": [
    "# [B] Intermedio (deben completarse todos para aprobar)\n",
    "\n",
    "1. ¿Existe alguna diferencia entre las distribuciones `'order_hour_of_day'` de los miércoles y los sábados? Traza gráficos de barra de `'order_hour_of_day'` para ambos días en la misma figura y describe las diferencias que observes.\n",
    "2. Grafica la distribución para el número de órdenes que hacen los clientes (es decir, cuántos clientes hicieron solo 1 pedido, cuántos hicieron 2, cuántos 3, y así sucesivamente...).\n",
    "3. ¿Cuáles son los 20 principales productos que se piden con más frecuencia (muestra su identificación y nombre)?"
   ]
  },
  {
   "cell_type": "markdown",
   "id": "packed-classic",
   "metadata": {
    "id": "packed-classic"
   },
   "source": [
    "### [B1] Diferencia entre miércoles y sábados para  `'order_hour_of_day'`. Traza gráficos de barra para los dos días y describe las diferencias que veas."
   ]
  },
  {
   "cell_type": "code",
   "execution_count": 43,
   "id": "d89b8403",
   "metadata": {
    "id": "d89b8403"
   },
   "outputs": [
    {
     "name": "stdout",
     "output_type": "stream",
     "text": [
      "0      373\n",
      "1      215\n",
      "2      106\n",
      "3      101\n",
      "4      108\n",
      "5      170\n",
      "6      643\n",
      "7     1732\n",
      "8     3125\n",
      "9     4490\n",
      "10    5026\n",
      "11    5004\n",
      "12    4688\n",
      "13    4674\n",
      "14    4774\n",
      "15    5163\n",
      "16    4976\n",
      "17    4175\n",
      "18    3463\n",
      "19    2652\n",
      "20    1917\n",
      "21    1450\n",
      "22    1154\n",
      "23     718\n",
      "Name: order_hour_of_day, dtype: int64\n"
     ]
    },
    {
     "data": {
      "image/png": "[encoded data removed]",
      "text/plain": [
       "<Figure size 640x480 with 1 Axes>"
      ]
     },
     "metadata": {},
     "output_type": "display_data"
    }
   ],
   "source": [
    "df_miercoles = df_instacart[df_instacart['order_dow'] == 3]['order_hour_of_day'].value_counts().sort_index()\n",
    "print(df_miercoles)\n",
    "#df_instacart[df_instacart['order_dow'] == 3]['order_hour_of_day'].plot(kind='hist', bins=30)\n",
    "#df_instacart[df_instacart['order_dow'] == 6]['order_hour_of_day'].plot(kind='hist', bins=30)\n",
    "df_miercoles.plot(title='Cantidad de pedidos por hora día Miércoles', \n",
    "                  kind='bar', \n",
    "                  x=df_miercoles.index, \n",
    "                  y=df_miercoles.values, \n",
    "                  xlabel='Horas', \n",
    "                  ylabel='cantidad de pedidos')\n",
    "plt.show()"
   ]
  },
  {
   "cell_type": "code",
   "execution_count": 44,
   "id": "94e54e8a",
   "metadata": {
    "id": "94e54e8a"
   },
   "outputs": [
    {
     "name": "stdout",
     "output_type": "stream",
     "text": [
      "0      464\n",
      "1      254\n",
      "2      177\n",
      "3      125\n",
      "4      118\n",
      "5      161\n",
      "6      451\n",
      "7     1619\n",
      "8     3246\n",
      "9     4311\n",
      "10    4919\n",
      "11    5116\n",
      "12    5132\n",
      "13    5323\n",
      "14    5375\n",
      "15    5188\n",
      "16    5029\n",
      "17    4295\n",
      "18    3338\n",
      "19    2610\n",
      "20    1847\n",
      "21    1473\n",
      "22    1185\n",
      "23     893\n",
      "Name: order_hour_of_day, dtype: int64\n"
     ]
    },
    {
     "data": {
      "image/png": "[encoded data removed]",
      "text/plain": [
       "<Figure size 640x480 with 1 Axes>"
      ]
     },
     "metadata": {},
     "output_type": "display_data"
    }
   ],
   "source": [
    "df_sabado = df_instacart[df_instacart['order_dow'] == 6]['order_hour_of_day'].value_counts().sort_index()\n",
    "print(df_sabado)\n",
    "df_sabado.plot(title='Cantidad de pedidos por hora día Sábado', \n",
    "               kind='bar', \n",
    "               x=df_sabado.index, \n",
    "               y=df_sabado.values, \n",
    "               xlabel='Horas', \n",
    "               ylabel='cantidad de pedidos')\n",
    "\n",
    "\n",
    "plt.show()\n"
   ]
  },
  {
   "cell_type": "code",
   "execution_count": 44,
   "id": "797c90a8",
   "metadata": {
    "id": "797c90a8"
   },
   "outputs": [
    {
     "data": {
      "image/png": "[encoded data removed]",
      "text/plain": [
       "<Figure size 640x480 with 1 Axes>"
      ]
     },
     "metadata": {},
     "output_type": "display_data"
    }
   ],
   "source": [
    "df_miercoles.plot(kind='bar', x=df_miercoles.index, y=df_miercoles.values)\n",
    "df_sabado.plot(kind='bar', x=df_sabado.index, y=df_sabado.values,color='red')\n",
    "plt.title('Cantidad de pedidos Miércoles VS Sábado')\n",
    "plt.xlabel('Horas')\n",
    "plt.ylabel('Cantidad de pedidos')\n",
    "plt.legend(['Miércoles','Sábado'])\n",
    "\n",
    "plt.show()\n"
   ]
  },
  {
   "cell_type": "code",
   "execution_count": null,
   "id": "35bcea30",
   "metadata": {
    "id": "35bcea30"
   },
   "outputs": [],
   "source": []
  },
  {
   "cell_type": "markdown",
   "id": "charitable-congo",
   "metadata": {
    "id": "charitable-congo"
   },
   "source": [
    "Escribe aquí tus conclusiones\n",
    "\n",
    "-Como se puede apreciar en la distribución y en los gráficos los 2 días tienen casi la misma distribuición pero el Miécoles tiene una ligera ventaja en las horas 6, 7, 9, 18, 19 y 20."
   ]
  },
  {
   "cell_type": "markdown",
   "id": "e3891143",
   "metadata": {
    "id": "e3891143"
   },
   "source": [
    "### [B2] ¿Cuál es la distribución para el número de pedidos por cliente?"
   ]
  },
  {
   "cell_type": "code",
   "execution_count": 45,
   "id": "d8c26c23",
   "metadata": {
    "id": "d8c26c23"
   },
   "outputs": [
    {
     "name": "stdout",
     "output_type": "stream",
     "text": [
      "149605    28\n",
      "193164    26\n",
      "78375     25\n",
      "148162    24\n",
      "66664     24\n",
      "Name: user_id, dtype: int64\n",
      "    n pedidos  cantidad_clientes\n",
      "0           1              55357\n",
      "1           2              36508\n",
      "2           3              21547\n",
      "3           4              13498\n",
      "4           5               8777\n",
      "5           6               6012\n",
      "6           7               4240\n",
      "7           8               3019\n",
      "8           9               2152\n",
      "9          10               1645\n",
      "10         11               1308\n",
      "11         12                947\n",
      "12         13                703\n",
      "13         14                512\n",
      "14         15                437\n",
      "15         16                263\n",
      "16         17                184\n",
      "17         18                121\n",
      "18         19                 85\n",
      "19         20                 52\n",
      "20         21                 22\n",
      "21         22                 23\n",
      "22         23                 19\n",
      "23         24                  3\n",
      "24         25                  1\n",
      "25         26                  1\n",
      "26         28                  1\n"
     ]
    },
    {
     "data": {
      "text/html": [
       "<div>\n",
       "<style scoped>\n",
       "    .dataframe tbody tr th:only-of-type {\n",
       "        vertical-align: middle;\n",
       "    }\n",
       "\n",
       "    .dataframe tbody tr th {\n",
       "        vertical-align: top;\n",
       "    }\n",
       "\n",
       "    .dataframe thead th {\n",
       "        text-align: right;\n",
       "    }\n",
       "</style>\n",
       "<table border=\"1\" class=\"dataframe\">\n",
       "  <thead>\n",
       "    <tr style=\"text-align: right;\">\n",
       "      <th></th>\n",
       "      <th>n pedidos</th>\n",
       "      <th>cantidad_clientes</th>\n",
       "    </tr>\n",
       "  </thead>\n",
       "  <tbody>\n",
       "    <tr>\n",
       "      <th>count</th>\n",
       "      <td>27.000000</td>\n",
       "      <td>27.000000</td>\n",
       "    </tr>\n",
       "    <tr>\n",
       "      <th>mean</th>\n",
       "      <td>14.037037</td>\n",
       "      <td>5831.000000</td>\n",
       "    </tr>\n",
       "    <tr>\n",
       "      <th>std</th>\n",
       "      <td>8.002314</td>\n",
       "      <td>12825.723129</td>\n",
       "    </tr>\n",
       "    <tr>\n",
       "      <th>min</th>\n",
       "      <td>1.000000</td>\n",
       "      <td>1.000000</td>\n",
       "    </tr>\n",
       "    <tr>\n",
       "      <th>25%</th>\n",
       "      <td>7.500000</td>\n",
       "      <td>37.500000</td>\n",
       "    </tr>\n",
       "    <tr>\n",
       "      <th>50%</th>\n",
       "      <td>14.000000</td>\n",
       "      <td>512.000000</td>\n",
       "    </tr>\n",
       "    <tr>\n",
       "      <th>75%</th>\n",
       "      <td>20.500000</td>\n",
       "      <td>3629.500000</td>\n",
       "    </tr>\n",
       "    <tr>\n",
       "      <th>max</th>\n",
       "      <td>28.000000</td>\n",
       "      <td>55357.000000</td>\n",
       "    </tr>\n",
       "  </tbody>\n",
       "</table>\n",
       "</div>"
      ],
      "text/plain": [
       "       n pedidos  cantidad_clientes\n",
       "count  27.000000          27.000000\n",
       "mean   14.037037        5831.000000\n",
       "std     8.002314       12825.723129\n",
       "min     1.000000           1.000000\n",
       "25%     7.500000          37.500000\n",
       "50%    14.000000         512.000000\n",
       "75%    20.500000        3629.500000\n",
       "max    28.000000       55357.000000"
      ]
     },
     "execution_count": 45,
     "metadata": {},
     "output_type": "execute_result"
    }
   ],
   "source": [
    "#Pedidos que hizo cada cliente\n",
    "filter_clientes = df_instacart['user_id'].value_counts()\n",
    "#cantidad de clientes que hicieron un pedido\n",
    "conteo_cant_compras =  filter_clientes.value_counts().sort_index()\n",
    "orden_conteo = conteo_cant_compras.reset_index()\n",
    "orden_conteo.columns = ['n pedidos','cantidad_clientes']\n",
    "#print(conteo_cant_compras)\n",
    "print(filter_clientes.head())\n",
    "print(orden_conteo)\n",
    "orden_conteo.describe()\n"
   ]
  },
  {
   "cell_type": "code",
   "execution_count": 46,
   "id": "00e69a66",
   "metadata": {
    "id": "00e69a66"
   },
   "outputs": [
    {
     "data": {
      "image/png": "[encoded data removed]",
      "text/plain": [
       "<Figure size 640x480 with 1 Axes>"
      ]
     },
     "metadata": {},
     "output_type": "display_data"
    }
   ],
   "source": [
    "orden_conteo.plot(title='Numero de pedidos por cliente', \n",
    "                  kind='bar', \n",
    "                  x='n pedidos', \n",
    "                  y='cantidad_clientes', \n",
    "                  xlabel='Numero de pedidos', \n",
    "                  ylabel='Cantidad de personas que han pedido ', \n",
    "                  legend=False)\n",
    "plt.show()"
   ]
  },
  {
   "cell_type": "markdown",
   "id": "d2eff7d5",
   "metadata": {
    "id": "d2eff7d5"
   },
   "source": [
    "Escribe aquí tus conclusiones\n",
    "\n",
    "-En promedio se hacen 14 pedidos.\n",
    "\n",
    "-La gran mayoria de personas solo hacen 1 pedido, como se puede apreciar entre mas pedidos se hacen menos personas los hacen con esto me refiero a que las personas que hacen 28 pedidos que es el maximo es solo una mientras que las personar que hacen solo 1 pedido son 55357\n"
   ]
  },
  {
   "cell_type": "markdown",
   "id": "54a0319c",
   "metadata": {
    "id": "54a0319c"
   },
   "source": [
    "### [B3] ¿Cuáles son los 20 productos más populares (muestra su ID y nombre)?"
   ]
  },
  {
   "cell_type": "code",
   "execution_count": 47,
   "id": "exterior-arizona",
   "metadata": {
    "id": "exterior-arizona",
    "scrolled": true
   },
   "outputs": [
    {
     "name": "stdout",
     "output_type": "stream",
     "text": [
      "       product_id              product_name  order_count\n",
      "22310       24852                    BANANA        66050\n",
      "11767       13176    BAG OF ORGANIC BANANAS        53297\n",
      "18953       21137      ORGANIC STRAWBERRIES        37039\n",
      "19643       21903      ORGANIC BABY SPINACH        33971\n",
      "42277       47209      ORGANIC HASS AVOCADO        29773\n",
      "42778       47766           ORGANIC AVOCADO        24689\n",
      "42654       47626               LARGE LEMON        21495\n",
      "15029       16797              STRAWBERRIES        20018\n",
      "23522       26209                     LIMES        19690\n",
      "24995       27845        ORGANIC WHOLE MILK        19600\n",
      "25102       27966       ORGANIC RASPBERRIES        19197\n",
      "20572       22935      ORGANIC YELLOW ONION        15898\n",
      "22409       24964            ORGANIC GARLIC        15292\n",
      "40301       45007          ORGANIC ZUCCHINI        14584\n",
      "35196       39275       ORGANIC BLUEBERRIES        13879\n",
      "44510       49683            CUCUMBER KIRBY        13675\n",
      "25318       28204        ORGANIC FUJI APPLE        12544\n",
      "5279         5876             ORGANIC LEMON        12232\n",
      "7398         8277  APPLE HONEYCRISP ORGANIC        11993\n",
      "36467       40706    ORGANIC GRAPE TOMATOES        11781\n"
     ]
    }
   ],
   "source": [
    "#agrupar por product_id y contar las ordenes de estos\n",
    "df_cant_product = df_order_p.groupby(by='product_id')['order_id'].count().reset_index()\n",
    "df_cant_product.columns = ['product_id','order_count']\n",
    "\n",
    "#merge con df_products para tener el nombre de los productos\n",
    "prducto_conteo =pd.merge(df_cant_product,df_products,on='product_id')\n",
    "\n",
    "prducto_conteo = prducto_conteo.sort_values(by='order_count',ascending=False).head(20)\n",
    "#oduct_id product_name order_count\n",
    "print(prducto_conteo[['product_id','product_name','order_count']])\n"
   ]
  },
  {
   "cell_type": "code",
   "execution_count": 131,
   "id": "universal-facial",
   "metadata": {
    "id": "universal-facial"
   },
   "outputs": [
    {
     "data": {
      "image/png": "[encoded data removed]",
      "text/plain": [
       "<Figure size 640x480 with 1 Axes>"
      ]
     },
     "metadata": {},
     "output_type": "display_data"
    }
   ],
   "source": [
    "prducto_conteo.plot(title='Los 20 productos mas populares', kind='bar', \n",
    "                    x='product_name', \n",
    "                    y='order_count', \n",
    "                    xlabel='Nombre de producto', \n",
    "                    ylabel='cantidad de productos', \n",
    "                    legend=False )\n",
    "plt.show()"
   ]
  },
  {
   "cell_type": "markdown",
   "id": "7df00f47",
   "metadata": {
    "id": "7df00f47"
   },
   "source": [
    "Escribe aquí tus conclusiones\n",
    "\n",
    "-El producto mas popular fueron las bananas\n",
    "\n",
    "-En general los productos mas vendidos son productos organicos.\n"
   ]
  },
  {
   "cell_type": "markdown",
   "id": "gross-theme",
   "metadata": {
    "id": "gross-theme"
   },
   "source": [
    "# [C] Difícil (deben completarse todos para aprobar)\n",
    "\n",
    "1. ¿Cuántos artículos suelen comprar las personas en un pedido? ¿Cómo es la distribución?\n",
    "2. ¿Cuáles son los 20 principales artículos que vuelven a pedirse con mayor frecuencia (muestra sus nombres e IDs de los productos)?\n",
    "3. Para cada producto, ¿cuál es la tasa de repetición del pedido (número de repeticiones de pedido/total de pedidos?\n",
    "4. Para cada cliente, ¿qué proporción de los productos que pidió ya los había pedido? Calcula la tasa de repetición de pedido para cada usuario en lugar de para cada producto.\n",
    "5. ¿Cuáles son los 20 principales artículos que la gente pone primero en sus carritos (muestra las IDs de los productos, sus nombres, y el número de veces en que fueron el primer artículo en añadirse al carrito)?"
   ]
  },
  {
   "cell_type": "markdown",
   "id": "romantic-deposit",
   "metadata": {
    "id": "romantic-deposit"
   },
   "source": [
    "### [C1] ¿Cuántos artículos compran normalmente las personas en un pedido? ¿Cómo es la distribución?"
   ]
  },
  {
   "cell_type": "code",
   "execution_count": 48,
   "id": "virtual-punch",
   "metadata": {
    "id": "virtual-punch",
    "scrolled": true
   },
   "outputs": [
    {
     "name": "stdout",
     "output_type": "stream",
     "text": [
      "61355\n",
      "5    31923\n",
      "6    31698\n",
      "4    31054\n",
      "7    30822\n",
      "3    29046\n",
      "Name: product_id, dtype: int64\n",
      "         order_id  product_id  add_to_cart_order  reordered\n",
      "57981       61355        5322                999          0\n",
      "149404      61355       39475                 45          0\n",
      "247893      61355        8594                999          0\n",
      "269840      61355       14233                  5          0\n",
      "345399      61355       24010                 51          0\n",
      "...           ...         ...                ...        ...\n",
      "4426514     61355       29270                 15          0\n",
      "4482168     61355       24964                 33          0\n",
      "4515077     61355        6760                 27          0\n",
      "4521208     61355       16262                 62          0\n",
      "4525165     61355       24561                 54          0\n",
      "\n",
      "[127 rows x 4 columns]\n"
     ]
    }
   ],
   "source": [
    "#cantidad articulos de un cliente en una orden\n",
    "cantidad_articulos_pedido = df_order_p.groupby(by='order_id')['product_id'].count()\n",
    "#cuentas personas tienen una cantidad de articulos en una orden\n",
    "conteo_cantidad_articulos_pedido = cantidad_articulos_pedido.value_counts()\n",
    "print(cantidad_articulos_pedido.idxmax())\n",
    "print(conteo_cantidad_articulos_pedido.head())\n",
    "print(df_order_p[df_order_p['order_id'] ==61355])"
   ]
  },
  {
   "cell_type": "code",
   "execution_count": 49,
   "id": "sensitive-breathing",
   "metadata": {
    "id": "sensitive-breathing"
   },
   "outputs": [
    {
     "name": "stdout",
     "output_type": "stream",
     "text": [
      "count    450046.000000\n",
      "mean         10.098983\n",
      "std           7.540206\n",
      "min           1.000000\n",
      "25%           5.000000\n",
      "50%           8.000000\n",
      "75%          14.000000\n",
      "max         127.000000\n",
      "Name: product_id, dtype: float64\n"
     ]
    },
    {
     "data": {
      "text/plain": [
       "count       90.000000\n",
       "mean      5000.511111\n",
       "std       9282.034169\n",
       "min          1.000000\n",
       "25%          5.250000\n",
       "50%        138.000000\n",
       "75%       4276.000000\n",
       "max      31923.000000\n",
       "Name: product_id, dtype: float64"
      ]
     },
     "execution_count": 49,
     "metadata": {},
     "output_type": "execute_result"
    }
   ],
   "source": [
    "#el print para el primer describe es solo para ver los 2 ya que sin el print solo sale el output del ultimo\n",
    "print(cantidad_articulos_pedido.describe())\n",
    "conteo_cantidad_articulos_pedido.describe()\n"
   ]
  },
  {
   "cell_type": "code",
   "execution_count": 50,
   "id": "completed-frank",
   "metadata": {
    "id": "completed-frank"
   },
   "outputs": [
    {
     "data": {
      "image/png": "[encoded data removed]",
      "text/plain": [
       "<Figure size 640x480 with 1 Axes>"
      ]
     },
     "metadata": {},
     "output_type": "display_data"
    }
   ],
   "source": [
    "cantidad_articulos_pedido.plot(title='Cantidad de articulos en una compra' , \n",
    "                               kind='hist', \n",
    "                               xlabel='cantidad de articulos en un pedido', \n",
    "                               ylabel='Frecuencia')\n",
    "plt.show()"
   ]
  },
  {
   "cell_type": "markdown",
   "id": "designed-mortality",
   "metadata": {
    "id": "designed-mortality"
   },
   "source": [
    "Escribe aquí tus conclusiones\n",
    "\n",
    "-Como se puede ver la gran mayoria de personas compra en promedio 10 articulos en un pedido\n",
    "\n",
    "-El minimo de articulos encargados en un pedido es 1 y el maximo de 127"
   ]
  },
  {
   "cell_type": "markdown",
   "id": "5e6b5537",
   "metadata": {
    "id": "5e6b5537"
   },
   "source": [
    "### [C2] ¿Cuáles son los 20 principales artículos que vuelven a pedirse con mayor frecuencia (muestra sus nombres e IDs de los productos)?"
   ]
  },
  {
   "cell_type": "code",
   "execution_count": 51,
   "id": "9374e55a",
   "metadata": {
    "id": "9374e55a"
   },
   "outputs": [
    {
     "name": "stdout",
     "output_type": "stream",
     "text": [
      "            total_product  reordered_count\n",
      "product_id                                \n",
      "1                     280              158\n",
      "2                      11                0\n",
      "3                      42               31\n",
      "4                      49               25\n",
      "7                       2                1\n",
      "...                   ...              ...\n",
      "49690                   5                4\n",
      "49691                  72               31\n",
      "49692                  12                5\n",
      "49693                  25               11\n",
      "49694                   9                3\n",
      "\n",
      "[45573 rows x 2 columns]\n"
     ]
    }
   ],
   "source": [
    "#dataframe que tiene solo los productos que se volvieron a pedir\n",
    "#productos_recompra = df_order_p[df_order_p['reordered'] == 1]\n",
    "#conteo de cada producto que se volvio a pedir\n",
    "#conteo_recompra = productos_recompra.groupby(by='product_id')['reordered'].count().reset_index()\n",
    "#conteo_recompra.columns = ['product_id','reordered_count']\n",
    "\n",
    "#df_recompra_products_merge = pd.merge(conteo_recompra,df_products, on='product_id')\n",
    "#print(df_recompra_products_merge)\n",
    "\n",
    "conteo_reordered = df_order_p.groupby('product_id').agg(total_product=('product_id','count'), \n",
    "                                                        reordered_count=('reordered','sum'))\n",
    "print(conteo_reordered)\n",
    "\n"
   ]
  },
  {
   "cell_type": "code",
   "execution_count": 52,
   "id": "possible-change",
   "metadata": {
    "id": "possible-change",
    "scrolled": true
   },
   "outputs": [
    {
     "name": "stdout",
     "output_type": "stream",
     "text": [
      "       product_id                                       product_name  \\\n",
      "0               1                         CHOCOLATE SANDWICH COOKIES   \n",
      "1               2                                   ALL-SEASONS SALT   \n",
      "2               3               ROBUST GOLDEN UNSWEETENED OOLONG TEA   \n",
      "3               4  SMART ONES CLASSIC FAVORITES MINI RIGATONI WIT...   \n",
      "4               7                     PURE COCONUT WATER WITH ORANGE   \n",
      "...           ...                                                ...   \n",
      "44511       49684          VODKA- TRIPLE DISTILLED- TWIST OF VANILLA   \n",
      "44512       49685                 EN CROUTE ROAST HAZELNUT CRANBERRY   \n",
      "44513       49686                                   ARTISAN BAGUETTE   \n",
      "44514       49687         SMARTBLEND HEALTHY METABOLISM DRY CAT FOOD   \n",
      "44515       49688                             FRESH FOAMING CLEANSER   \n",
      "\n",
      "       total_product  reordered_count  \n",
      "0                280              158  \n",
      "1                 11                0  \n",
      "2                 42               31  \n",
      "3                 49               25  \n",
      "4                  2                1  \n",
      "...              ...              ...  \n",
      "44511              1                0  \n",
      "44512              2                1  \n",
      "44513             24               15  \n",
      "44514              1                0  \n",
      "44515              9                1  \n",
      "\n",
      "[44516 rows x 4 columns]\n"
     ]
    }
   ],
   "source": [
    "#filter_recompra_merge = df_recompra_products_merge.sort_values(by='reordered_count',ascending=False).head(20)\n",
    "#print(filter_recompra_merge[['product_id','reordered_count','product_name']])\n",
    "product_reorder_merge = pd.merge(df_products[['product_id','product_name']],conteo_reordered, on='product_id')\n",
    "\n",
    "print(product_reorder_merge)"
   ]
  },
  {
   "cell_type": "code",
   "execution_count": 53,
   "id": "professional-surfing",
   "metadata": {
    "id": "professional-surfing",
    "scrolled": true
   },
   "outputs": [
    {
     "name": "stdout",
     "output_type": "stream",
     "text": [
      "       product_id              product_name  total_product  reordered_count\n",
      "22310       24852                    BANANA          66050            55763\n",
      "11767       13176    BAG OF ORGANIC BANANAS          53297            44450\n",
      "18953       21137      ORGANIC STRAWBERRIES          37039            28639\n",
      "19643       21903      ORGANIC BABY SPINACH          33971            26233\n",
      "42277       47209      ORGANIC HASS AVOCADO          29773            23629\n",
      "42778       47766           ORGANIC AVOCADO          24689            18743\n",
      "24995       27845        ORGANIC WHOLE MILK          19600            16251\n",
      "42654       47626               LARGE LEMON          21495            15044\n",
      "25102       27966       ORGANIC RASPBERRIES          19197            14748\n",
      "15029       16797              STRAWBERRIES          20018            13945\n",
      "23522       26209                     LIMES          19690            13327\n",
      "20572       22935      ORGANIC YELLOW ONION          15898            11145\n",
      "22409       24964            ORGANIC GARLIC          15292            10411\n",
      "40301       45007          ORGANIC ZUCCHINI          14584            10076\n",
      "44510       49683            CUCUMBER KIRBY          13675             9538\n",
      "25318       28204        ORGANIC FUJI APPLE          12544             8989\n",
      "7398         8277  APPLE HONEYCRISP ORGANIC          11993             8836\n",
      "35196       39275       ORGANIC BLUEBERRIES          13879             8799\n",
      "5279         5876             ORGANIC LEMON          12232             8412\n",
      "44114       49235       ORGANIC HALF & HALF          10752             8389\n"
     ]
    }
   ],
   "source": [
    "productos_principales = product_reorder_merge.sort_values('reordered_count',ascending=False).head(20)\n",
    "print(productos_principales)"
   ]
  },
  {
   "cell_type": "code",
   "execution_count": 54,
   "id": "48dd3658",
   "metadata": {
    "id": "48dd3658"
   },
   "outputs": [
    {
     "data": {
      "image/png": "[encoded data removed]",
      "text/plain": [
       "<Figure size 640x480 with 1 Axes>"
      ]
     },
     "metadata": {},
     "output_type": "display_data"
    }
   ],
   "source": [
    "productos_principales.plot(title='Los 20 productos que se vuelven a pedir', kind='bar', \n",
    "                          x='product_name', \n",
    "                          y='reordered_count', \n",
    "                          xlabel='Nombre de productos', \n",
    "                          ylabel='Cantidad de recompras', \n",
    "                           legend=False)\n",
    "plt.show()"
   ]
  },
  {
   "cell_type": "markdown",
   "id": "80e70c74",
   "metadata": {
    "id": "80e70c74"
   },
   "source": [
    "Escribe aquí tus conclusiones\n",
    "\n",
    "-La mayor cantidad de recompras la tiene las bananas\n",
    "\n",
    "-En general los productos que se vuelven a comprar son frutas y verduras organicas\n",
    "\n",
    "-Lo menor pedido es organic half & half\n",
    "\n"
   ]
  },
  {
   "cell_type": "markdown",
   "id": "9d312b14",
   "metadata": {
    "id": "9d312b14"
   },
   "source": [
    "### [C3] Para cada producto, ¿cuál es la proporción de las veces que se pide y que se vuelve a pedir?"
   ]
  },
  {
   "cell_type": "code",
   "execution_count": 55,
   "id": "8ae9f4b1",
   "metadata": {
    "id": "8ae9f4b1"
   },
   "outputs": [
    {
     "name": "stdout",
     "output_type": "stream",
     "text": [
      "       product_id  total_orders  reordered_count  ordered_only  \\\n",
      "0               1           280              158           122   \n",
      "1               2            11                0            11   \n",
      "2               3            42               31            11   \n",
      "3               4            49               25            24   \n",
      "4               7             2                1             1   \n",
      "...           ...           ...              ...           ...   \n",
      "45568       49690             5                4             1   \n",
      "45569       49691            72               31            41   \n",
      "45570       49692            12                5             7   \n",
      "45571       49693            25               11            14   \n",
      "45572       49694             9                3             6   \n",
      "\n",
      "       reorder_proportion  order_only_proportion  \n",
      "0                0.564286               0.435714  \n",
      "1                0.000000               1.000000  \n",
      "2                0.738095               0.261905  \n",
      "3                0.510204               0.489796  \n",
      "4                0.500000               0.500000  \n",
      "...                   ...                    ...  \n",
      "45568            0.800000               0.200000  \n",
      "45569            0.430556               0.569444  \n",
      "45570            0.416667               0.583333  \n",
      "45571            0.440000               0.560000  \n",
      "45572            0.333333               0.666667  \n",
      "\n",
      "[45573 rows x 6 columns]\n",
      "       product_id  total_orders  reordered_count  ordered_only  \\\n",
      "22808       24852         66050            55763         10287   \n",
      "\n",
      "       reorder_proportion  order_only_proportion  \n",
      "22808            0.844254               0.155746  \n"
     ]
    }
   ],
   "source": [
    "\n",
    "product_yes_no_reordered = df_order_p.groupby('product_id').agg(\n",
    "    total_orders=('product_id', 'count'),\n",
    "    reordered_count=('reordered', 'sum')\n",
    ").reset_index()\n",
    "\n",
    "product_yes_no_reordered['ordered_only'] = product_yes_no_reordered['total_orders'] - product_yes_no_reordered['reordered_count']\n",
    "product_yes_no_reordered['reorder_proportion'] = product_yes_no_reordered['reordered_count'] / product_yes_no_reordered['total_orders']\n",
    "product_yes_no_reordered['order_only_proportion'] = product_yes_no_reordered['ordered_only'] / product_yes_no_reordered['total_orders']\n",
    "print(product_yes_no_reordered)\n",
    "\n",
    "print(product_yes_no_reordered[product_yes_no_reordered['reordered_count'] == 55763])"
   ]
  },
  {
   "cell_type": "code",
   "execution_count": 56,
   "id": "103e7fe1",
   "metadata": {
    "id": "103e7fe1"
   },
   "outputs": [
    {
     "data": {
      "text/html": [
       "<div>\n",
       "<style scoped>\n",
       "    .dataframe tbody tr th:only-of-type {\n",
       "        vertical-align: middle;\n",
       "    }\n",
       "\n",
       "    .dataframe tbody tr th {\n",
       "        vertical-align: top;\n",
       "    }\n",
       "\n",
       "    .dataframe thead th {\n",
       "        text-align: right;\n",
       "    }\n",
       "</style>\n",
       "<table border=\"1\" class=\"dataframe\">\n",
       "  <thead>\n",
       "    <tr style=\"text-align: right;\">\n",
       "      <th></th>\n",
       "      <th>product_id</th>\n",
       "      <th>total_orders</th>\n",
       "      <th>reordered_count</th>\n",
       "      <th>ordered_only</th>\n",
       "      <th>reorder_proportion</th>\n",
       "      <th>order_only_proportion</th>\n",
       "    </tr>\n",
       "  </thead>\n",
       "  <tbody>\n",
       "    <tr>\n",
       "      <th>count</th>\n",
       "      <td>45573.000000</td>\n",
       "      <td>45573.000000</td>\n",
       "      <td>45573.000000</td>\n",
       "      <td>45573.000000</td>\n",
       "      <td>45573.000000</td>\n",
       "      <td>45573.000000</td>\n",
       "    </tr>\n",
       "    <tr>\n",
       "      <th>mean</th>\n",
       "      <td>24865.778312</td>\n",
       "      <td>99.730257</td>\n",
       "      <td>58.890966</td>\n",
       "      <td>40.839291</td>\n",
       "      <td>0.386707</td>\n",
       "      <td>0.613293</td>\n",
       "    </tr>\n",
       "    <tr>\n",
       "      <th>std</th>\n",
       "      <td>14338.707628</td>\n",
       "      <td>700.368341</td>\n",
       "      <td>526.943066</td>\n",
       "      <td>190.592441</td>\n",
       "      <td>0.272132</td>\n",
       "      <td>0.272132</td>\n",
       "    </tr>\n",
       "    <tr>\n",
       "      <th>min</th>\n",
       "      <td>1.000000</td>\n",
       "      <td>1.000000</td>\n",
       "      <td>0.000000</td>\n",
       "      <td>0.000000</td>\n",
       "      <td>0.000000</td>\n",
       "      <td>0.000000</td>\n",
       "    </tr>\n",
       "    <tr>\n",
       "      <th>25%</th>\n",
       "      <td>12498.000000</td>\n",
       "      <td>3.000000</td>\n",
       "      <td>1.000000</td>\n",
       "      <td>2.000000</td>\n",
       "      <td>0.166667</td>\n",
       "      <td>0.424242</td>\n",
       "    </tr>\n",
       "    <tr>\n",
       "      <th>50%</th>\n",
       "      <td>24829.000000</td>\n",
       "      <td>10.000000</td>\n",
       "      <td>4.000000</td>\n",
       "      <td>6.000000</td>\n",
       "      <td>0.408163</td>\n",
       "      <td>0.591837</td>\n",
       "    </tr>\n",
       "    <tr>\n",
       "      <th>75%</th>\n",
       "      <td>37279.000000</td>\n",
       "      <td>42.000000</td>\n",
       "      <td>19.000000</td>\n",
       "      <td>22.000000</td>\n",
       "      <td>0.575758</td>\n",
       "      <td>0.833333</td>\n",
       "    </tr>\n",
       "    <tr>\n",
       "      <th>max</th>\n",
       "      <td>49694.000000</td>\n",
       "      <td>66050.000000</td>\n",
       "      <td>55763.000000</td>\n",
       "      <td>10287.000000</td>\n",
       "      <td>1.000000</td>\n",
       "      <td>1.000000</td>\n",
       "    </tr>\n",
       "  </tbody>\n",
       "</table>\n",
       "</div>"
      ],
      "text/plain": [
       "         product_id  total_orders  reordered_count  ordered_only  \\\n",
       "count  45573.000000  45573.000000     45573.000000  45573.000000   \n",
       "mean   24865.778312     99.730257        58.890966     40.839291   \n",
       "std    14338.707628    700.368341       526.943066    190.592441   \n",
       "min        1.000000      1.000000         0.000000      0.000000   \n",
       "25%    12498.000000      3.000000         1.000000      2.000000   \n",
       "50%    24829.000000     10.000000         4.000000      6.000000   \n",
       "75%    37279.000000     42.000000        19.000000     22.000000   \n",
       "max    49694.000000  66050.000000     55763.000000  10287.000000   \n",
       "\n",
       "       reorder_proportion  order_only_proportion  \n",
       "count        45573.000000           45573.000000  \n",
       "mean             0.386707               0.613293  \n",
       "std              0.272132               0.272132  \n",
       "min              0.000000               0.000000  \n",
       "25%              0.166667               0.424242  \n",
       "50%              0.408163               0.591837  \n",
       "75%              0.575758               0.833333  \n",
       "max              1.000000               1.000000  "
      ]
     },
     "execution_count": 56,
     "metadata": {},
     "output_type": "execute_result"
    }
   ],
   "source": [
    "\n",
    "product_yes_no_reordered.describe()\n"
   ]
  },
  {
   "cell_type": "code",
   "execution_count": 118,
   "id": "social-individual",
   "metadata": {
    "id": "social-individual"
   },
   "outputs": [
    {
     "name": "stdout",
     "output_type": "stream",
     "text": [
      "       product_id  total_orders  reordered_count  ordered_only  \\\n",
      "1               2            11                0            11   \n",
      "11             14             3                0             3   \n",
      "12             17             1                0             1   \n",
      "14             19             1                0             1   \n",
      "15             21             1                0             1   \n",
      "...           ...           ...              ...           ...   \n",
      "45543       49663             1                0             1   \n",
      "45550       49672             2                0             2   \n",
      "45562       49684             1                0             1   \n",
      "45565       49687             1                0             1   \n",
      "45567       49689             1                0             1   \n",
      "\n",
      "       reorder_proportion  order_only_proportion  \n",
      "1                     0.0                    1.0  \n",
      "11                    0.0                    1.0  \n",
      "12                    0.0                    1.0  \n",
      "14                    0.0                    1.0  \n",
      "15                    0.0                    1.0  \n",
      "...                   ...                    ...  \n",
      "45543                 0.0                    1.0  \n",
      "45550                 0.0                    1.0  \n",
      "45562                 0.0                    1.0  \n",
      "45565                 0.0                    1.0  \n",
      "45567                 0.0                    1.0  \n",
      "\n",
      "[9345 rows x 6 columns]\n",
      "       product_id  total_orders  reordered_count  ordered_only  \\\n",
      "1               2            11                0            11   \n",
      "5               8            19                6            13   \n",
      "7              10           337              151           186   \n",
      "9              12            41               16            25   \n",
      "11             14             3                0             3   \n",
      "...           ...           ...              ...           ...   \n",
      "45567       49689             1                0             1   \n",
      "45569       49691            72               31            41   \n",
      "45570       49692            12                5             7   \n",
      "45571       49693            25               11            14   \n",
      "45572       49694             9                3             6   \n",
      "\n",
      "       reorder_proportion  order_only_proportion  \n",
      "1                0.000000               1.000000  \n",
      "5                0.315789               0.684211  \n",
      "7                0.448071               0.551929  \n",
      "9                0.390244               0.609756  \n",
      "11               0.000000               1.000000  \n",
      "...                   ...                    ...  \n",
      "45567            0.000000               1.000000  \n",
      "45569            0.430556               0.569444  \n",
      "45570            0.416667               0.583333  \n",
      "45571            0.440000               0.560000  \n",
      "45572            0.333333               0.666667  \n",
      "\n",
      "[27111 rows x 6 columns]\n"
     ]
    }
   ],
   "source": [
    "print(product_yes_no_reordered[product_yes_no_reordered['reordered_count'] == 0])\n",
    "print(product_yes_no_reordered[product_yes_no_reordered['order_only_proportion']  0.5])\n"
   ]
  },
  {
   "cell_type": "markdown",
   "id": "I10dEIAyldcO",
   "metadata": {
    "id": "I10dEIAyldcO"
   },
   "source": [
    "Escribe aquí tus conclusiones\n",
    "\n",
    "-El dataframe product_yes_no_reordered muestra los productos que se han comprado y se han vuelto a comprar. De esto en general  en promedio se se se vuelven a comprar 38% de los productos y en promedio se compran solo 1 vez un 61%."
   ]
  },
  {
   "cell_type": "markdown",
   "id": "subject-boxing",
   "metadata": {
    "id": "subject-boxing"
   },
   "source": [
    "### [C4] Para cada cliente, ¿qué proporción de sus productos ya los había pedido?"
   ]
  },
  {
   "cell_type": "code",
   "execution_count": 57,
   "id": "medical-couple",
   "metadata": {
    "id": "medical-couple",
    "scrolled": true
   },
   "outputs": [
    {
     "name": "stdout",
     "output_type": "stream",
     "text": [
      "        user_id  total_products  reordered_products\n",
      "0             2              26                   1\n",
      "1             4               2                   0\n",
      "2             5              12                   8\n",
      "3             6               4                   0\n",
      "4             7              14                  13\n",
      "...         ...             ...                 ...\n",
      "149621   206203              27                   6\n",
      "149622   206206              21                  15\n",
      "149623   206207              46                  41\n",
      "149624   206208             125                  87\n",
      "149625   206209              25                   8\n",
      "\n",
      "[149626 rows x 3 columns]\n"
     ]
    }
   ],
   "source": [
    "df_insta_order_p = pd.merge(df_order_p,df_instacart[['order_id','user_id']],on='order_id')\n",
    "\n",
    "filter_insta_order_p = df_insta_order_p.groupby('user_id').agg(\n",
    "    total_products=('product_id', 'count'),\n",
    "    reordered_products=('reordered', 'sum')\n",
    ").reset_index()\n",
    "#print(df_insta_order_p)\n",
    "print(filter_insta_order_p)"
   ]
  },
  {
   "cell_type": "code",
   "execution_count": 58,
   "id": "8892e4b4",
   "metadata": {
    "id": "8892e4b4"
   },
   "outputs": [
    {
     "name": "stdout",
     "output_type": "stream",
     "text": [
      "   user_id  total_products  reordered_products  reorderer_proporcion\n",
      "0        2              26                   1              0.038462\n",
      "1        4               2                   0              0.000000\n",
      "2        5              12                   8              0.666667\n",
      "3        6               4                   0              0.000000\n",
      "4        7              14                  13              0.928571\n"
     ]
    },
    {
     "data": {
      "text/html": [
       "<div>\n",
       "<style scoped>\n",
       "    .dataframe tbody tr th:only-of-type {\n",
       "        vertical-align: middle;\n",
       "    }\n",
       "\n",
       "    .dataframe tbody tr th {\n",
       "        vertical-align: top;\n",
       "    }\n",
       "\n",
       "    .dataframe thead th {\n",
       "        text-align: right;\n",
       "    }\n",
       "</style>\n",
       "<table border=\"1\" class=\"dataframe\">\n",
       "  <thead>\n",
       "    <tr style=\"text-align: right;\">\n",
       "      <th></th>\n",
       "      <th>user_id</th>\n",
       "      <th>total_products</th>\n",
       "      <th>reordered_products</th>\n",
       "      <th>reorderer_proporcion</th>\n",
       "    </tr>\n",
       "  </thead>\n",
       "  <tbody>\n",
       "    <tr>\n",
       "      <th>count</th>\n",
       "      <td>149626.000000</td>\n",
       "      <td>149626.000000</td>\n",
       "      <td>149626.000000</td>\n",
       "      <td>149626.000000</td>\n",
       "    </tr>\n",
       "    <tr>\n",
       "      <th>mean</th>\n",
       "      <td>103205.167778</td>\n",
       "      <td>30.375784</td>\n",
       "      <td>17.936976</td>\n",
       "      <td>0.494853</td>\n",
       "    </tr>\n",
       "    <tr>\n",
       "      <th>std</th>\n",
       "      <td>59560.993992</td>\n",
       "      <td>35.873511</td>\n",
       "      <td>27.793625</td>\n",
       "      <td>0.292685</td>\n",
       "    </tr>\n",
       "    <tr>\n",
       "      <th>min</th>\n",
       "      <td>2.000000</td>\n",
       "      <td>1.000000</td>\n",
       "      <td>0.000000</td>\n",
       "      <td>0.000000</td>\n",
       "    </tr>\n",
       "    <tr>\n",
       "      <th>25%</th>\n",
       "      <td>51650.250000</td>\n",
       "      <td>9.000000</td>\n",
       "      <td>2.000000</td>\n",
       "      <td>0.272727</td>\n",
       "    </tr>\n",
       "    <tr>\n",
       "      <th>50%</th>\n",
       "      <td>103177.000000</td>\n",
       "      <td>18.000000</td>\n",
       "      <td>8.000000</td>\n",
       "      <td>0.500000</td>\n",
       "    </tr>\n",
       "    <tr>\n",
       "      <th>75%</th>\n",
       "      <td>154837.750000</td>\n",
       "      <td>38.000000</td>\n",
       "      <td>21.000000</td>\n",
       "      <td>0.724138</td>\n",
       "    </tr>\n",
       "    <tr>\n",
       "      <th>max</th>\n",
       "      <td>206209.000000</td>\n",
       "      <td>580.000000</td>\n",
       "      <td>477.000000</td>\n",
       "      <td>1.000000</td>\n",
       "    </tr>\n",
       "  </tbody>\n",
       "</table>\n",
       "</div>"
      ],
      "text/plain": [
       "             user_id  total_products  reordered_products  reorderer_proporcion\n",
       "count  149626.000000   149626.000000       149626.000000         149626.000000\n",
       "mean   103205.167778       30.375784           17.936976              0.494853\n",
       "std     59560.993992       35.873511           27.793625              0.292685\n",
       "min         2.000000        1.000000            0.000000              0.000000\n",
       "25%     51650.250000        9.000000            2.000000              0.272727\n",
       "50%    103177.000000       18.000000            8.000000              0.500000\n",
       "75%    154837.750000       38.000000           21.000000              0.724138\n",
       "max    206209.000000      580.000000          477.000000              1.000000"
      ]
     },
     "execution_count": 58,
     "metadata": {},
     "output_type": "execute_result"
    }
   ],
   "source": [
    "filter_insta_order_p['reorderer_proporcion'] = filter_insta_order_p['reordered_products'] / filter_insta_order_p['total_products']\n",
    "print(filter_insta_order_p.head())\n",
    "filter_insta_order_p.describe()"
   ]
  },
  {
   "cell_type": "markdown",
   "id": "BgJSvXDsleXz",
   "metadata": {
    "id": "BgJSvXDsleXz"
   },
   "source": [
    "Escribe aquí tus conclusiones\n",
    "\n",
    "-Las personas en promedio vuelven a comprar un producto el 49% de las veces \n",
    "\n",
    "-Esto quiere decir que por un porcentaje menor de personas solo comprar un producto 1 vez"
   ]
  },
  {
   "cell_type": "markdown",
   "id": "92d35137",
   "metadata": {
    "id": "92d35137"
   },
   "source": [
    "### [C5] ¿Cuáles son los 20 principales artículos que las personas ponen primero en sus carritos?"
   ]
  },
  {
   "cell_type": "code",
   "execution_count": 59,
   "id": "0ae57274",
   "metadata": {
    "id": "0ae57274",
    "scrolled": true
   },
   "outputs": [
    {
     "name": "stdout",
     "output_type": "stream",
     "text": [
      "         order_id  product_id  add_to_cart_order  reordered\n",
      "1          567889        1560                  1          1\n",
      "2         2261212       26683                  1          1\n",
      "14        1961225       37553                  1          1\n",
      "16         639939       10017                  1          1\n",
      "23         750040        8518                  1          0\n",
      "...           ...         ...                ...        ...\n",
      "4544978   1759009       46175                  1          0\n",
      "4544989    115427       20842                  1          1\n",
      "4544990   2049780       28576                  1          1\n",
      "4544997   2300092       10017                  1          0\n",
      "4544999   1622300       24852                  1          1\n",
      "\n",
      "[450046 rows x 4 columns]\n"
     ]
    }
   ],
   "source": [
    "df_primero_articulo = df_order_p[df_order_p['add_to_cart_order'] == 1]\n",
    "\n",
    "print(df_primero_articulo)"
   ]
  },
  {
   "cell_type": "code",
   "execution_count": 60,
   "id": "forty-netherlands",
   "metadata": {
    "id": "forty-netherlands",
    "scrolled": true
   },
   "outputs": [
    {
     "name": "stdout",
     "output_type": "stream",
     "text": [
      "       product_id  count_product\n",
      "0           24852          15562\n",
      "1           13176          11026\n",
      "2           27845           4363\n",
      "3           21137           3946\n",
      "4           47209           3390\n",
      "...           ...            ...\n",
      "26755       10628              1\n",
      "26756        8581              1\n",
      "26757       35216              1\n",
      "26758       43412              1\n",
      "26759        4094              1\n",
      "\n",
      "[26760 rows x 2 columns]\n",
      "       product_id                                       product_name  \\\n",
      "0               1                         CHOCOLATE SANDWICH COOKIES   \n",
      "1               2                                   ALL-SEASONS SALT   \n",
      "2               3               ROBUST GOLDEN UNSWEETENED OOLONG TEA   \n",
      "3               4  SMART ONES CLASSIC FAVORITES MINI RIGATONI WIT...   \n",
      "4               8                  CUT RUSSET POTATOES STEAM N' MASH   \n",
      "...           ...                                                ...   \n",
      "26438       49683                                     CUCUMBER KIRBY   \n",
      "26439       49685                 EN CROUTE ROAST HAZELNUT CRANBERRY   \n",
      "26440       49686                                   ARTISAN BAGUETTE   \n",
      "26441       49687         SMARTBLEND HEALTHY METABOLISM DRY CAT FOOD   \n",
      "26442       49688                             FRESH FOAMING CLEANSER   \n",
      "\n",
      "       aisle_id  department_id  count_product  \n",
      "0            61             19             47  \n",
      "1           104             13              2  \n",
      "2            94              7              5  \n",
      "3            38              1              1  \n",
      "4           116              1              4  \n",
      "...         ...            ...            ...  \n",
      "26438        83              4           1078  \n",
      "26439        42              1              1  \n",
      "26440       112              3              3  \n",
      "26441        41              8              1  \n",
      "26442        73             11              1  \n",
      "\n",
      "[26443 rows x 5 columns]\n"
     ]
    }
   ],
   "source": [
    "conteo_df_primero = df_primero_articulo['product_id'].value_counts().reset_index()\n",
    "conteo_df_primero.columns = ['product_id','count_product']\n",
    "print(conteo_df_primero )\n",
    "\n",
    "df_conteo_primero_merge = pd.merge(df_products,conteo_df_primero,on='product_id')\n",
    "print(df_conteo_primero_merge)"
   ]
  },
  {
   "cell_type": "code",
   "execution_count": 61,
   "id": "08e41ec2",
   "metadata": {
    "id": "08e41ec2"
   },
   "outputs": [
    {
     "name": "stdout",
     "output_type": "stream",
     "text": [
      "       product_id                 product_name  count_product\n",
      "13265       24852                       BANANA          15562\n",
      "7045        13176       BAG OF ORGANIC BANANAS          11026\n",
      "14863       27845           ORGANIC WHOLE MILK           4363\n",
      "11255       21137         ORGANIC STRAWBERRIES           3946\n",
      "25145       47209         ORGANIC HASS AVOCADO           3390\n",
      "11654       21903         ORGANIC BABY SPINACH           3336\n",
      "25435       47766              ORGANIC AVOCADO           3044\n",
      "10497       19660                 SPRING WATER           2336\n",
      "8947        16797                 STRAWBERRIES           2308\n",
      "14937       27966          ORGANIC RASPBERRIES           2024\n",
      "23750       44632   SPARKLING WATER GRAPEFRUIT           1914\n",
      "26210       49235          ORGANIC HALF & HALF           1797\n",
      "25361       47626                  LARGE LEMON           1737\n",
      "115           196                         SODA           1733\n",
      "20628       38689     ORGANIC REDUCED FAT MILK           1397\n",
      "14000       26209                        LIMES           1370\n",
      "6583        12341                HASS AVOCADOS           1340\n",
      "3121         5785  ORGANIC REDUCED FAT 2% MILK           1310\n",
      "14477       27086                  HALF & HALF           1309\n",
      "23070       43352                  RASPBERRIES           1246\n"
     ]
    }
   ],
   "source": [
    "print(df_conteo_primero_merge[['product_id','product_name','count_product']].sort_values(by='count_product',ascending=False).head(20))"
   ]
  },
  {
   "cell_type": "markdown",
   "id": "28ce9872",
   "metadata": {
    "id": "28ce9872"
   },
   "source": [
    "Escribe aquí tus conclusiones\n",
    "\n",
    "-El producto que ponen primero en el carrito es la banana\n",
    "\n",
    "-En general los productos que ingresan primero al carrito son frutas, verduras o algun producto organico.\n"
   ]
  },
  {
   "cell_type": "markdown",
   "id": "uITbFCEoDosC",
   "metadata": {
    "id": "uITbFCEoDosC"
   },
   "source": [
    "### Conclusion general del proyecto:"
   ]
  },
  {
   "cell_type": "markdown",
   "id": "8e4f648c",
   "metadata": {
    "id": "Nk-4GS7mDwqY"
   },
   "source": [
    "-Con relación a los datos evaluados no habian una cantidad significativa de datos nulos o duplicados lo que quiere decir que\n",
    "la recopilación de la informacíon fue bastante buena\n",
    "\n",
    "-Con respecto al proyecto se puede apreciar una alta preferencia por los productos orgánicos frutas, verduras, lacteos, etc. \n",
    "\n",
    "-Las personas en general tienden a comprar en promedio 10 articulos en un pedido.\n",
    "\n",
    "-Son 14 en promedio las ordenes de compras que hacen. \n",
    "\n",
    "-Las personas tienden a comprar un producto una sola vez.\n",
    "\n",
    "-Son pocas las personas que realizan compras con muchos artículos en un pedido (considerar que el maximo es 64) y \n",
    "de igual forma son pocas las que hacen muchos pedidos (maximo 127)\n",
    "\n",
    "-En general los días Domingos son los preferedidos para realizar las compras\n",
    "\n",
    "-En cuanto al horario como se vio en los días Domingo y Miécoles se prefiere las horas de las 9 am a 18 pm para realizar compras.\n",
    "\n",
    "-Podemos apreciar que las personas estan cuidando su salud ya que la preferencia de compras o por lo que van primero \n",
    "son productos órganicos. "
   ]
  }
 ],
 "metadata": {
  "ExecuteTimeLog": [
   {
    "duration": 498,
    "start_time": "2024-05-31T18:30:36.078Z"
   },
   {
    "duration": 4072,
    "start_time": "2024-05-31T18:30:39.412Z"
   },
   {
    "duration": 44,
    "start_time": "2024-05-31T18:30:59.911Z"
   },
   {
    "duration": 15,
    "start_time": "2024-05-31T18:31:45.288Z"
   },
   {
    "duration": 14,
    "start_time": "2024-05-31T18:32:15.149Z"
   },
   {
    "duration": 1599,
    "start_time": "2024-05-31T18:36:43.524Z"
   },
   {
    "duration": 16,
    "start_time": "2024-05-31T18:36:47.543Z"
   },
   {
    "duration": 16,
    "start_time": "2024-05-31T18:36:59.758Z"
   },
   {
    "duration": 14,
    "start_time": "2024-05-31T18:37:02.093Z"
   },
   {
    "duration": 16,
    "start_time": "2024-05-31T18:37:28.496Z"
   },
   {
    "duration": 12,
    "start_time": "2024-05-31T18:37:39.586Z"
   },
   {
    "duration": 41,
    "start_time": "2024-05-31T18:39:39.280Z"
   },
   {
    "duration": 11,
    "start_time": "2024-05-31T19:02:29.019Z"
   },
   {
    "duration": 195,
    "start_time": "2024-05-31T19:04:51.616Z"
   },
   {
    "duration": 156,
    "start_time": "2024-05-31T19:04:59.627Z"
   },
   {
    "duration": 150,
    "start_time": "2024-05-31T19:05:15.945Z"
   },
   {
    "duration": 154,
    "start_time": "2024-05-31T19:05:29.290Z"
   },
   {
    "duration": 7,
    "start_time": "2024-05-31T19:06:59.392Z"
   },
   {
    "duration": 25,
    "start_time": "2024-05-31T19:10:02.715Z"
   },
   {
    "duration": 137,
    "start_time": "2024-05-31T19:10:47.605Z"
   },
   {
    "duration": 6,
    "start_time": "2024-05-31T19:11:11.137Z"
   },
   {
    "duration": 6,
    "start_time": "2024-05-31T19:11:28.192Z"
   },
   {
    "duration": 1110,
    "start_time": "2024-05-31T19:13:21.089Z"
   },
   {
    "duration": 14,
    "start_time": "2024-05-31T19:13:49.797Z"
   },
   {
    "duration": 19,
    "start_time": "2024-05-31T19:16:00.407Z"
   },
   {
    "duration": 12,
    "start_time": "2024-05-31T19:16:39.896Z"
   },
   {
    "duration": 205,
    "start_time": "2024-05-31T19:20:23.604Z"
   },
   {
    "duration": 217,
    "start_time": "2024-05-31T19:20:30.794Z"
   },
   {
    "duration": 210,
    "start_time": "2024-05-31T19:20:40.733Z"
   },
   {
    "duration": 711,
    "start_time": "2024-05-31T19:20:47.552Z"
   },
   {
    "duration": 682,
    "start_time": "2024-05-31T19:21:45.469Z"
   },
   {
    "duration": 720,
    "start_time": "2024-05-31T19:21:59.012Z"
   },
   {
    "duration": 181,
    "start_time": "2024-05-31T19:22:47.864Z"
   },
   {
    "duration": 9,
    "start_time": "2024-05-31T19:23:19.697Z"
   },
   {
    "duration": 11,
    "start_time": "2024-05-31T19:23:36.930Z"
   },
   {
    "duration": 12,
    "start_time": "2024-05-31T19:23:47.115Z"
   },
   {
    "duration": 12,
    "start_time": "2024-05-31T19:24:47.684Z"
   },
   {
    "duration": 9,
    "start_time": "2024-05-31T19:25:05.927Z"
   },
   {
    "duration": 14,
    "start_time": "2024-05-31T19:25:26.204Z"
   },
   {
    "duration": 13,
    "start_time": "2024-05-31T19:25:35.042Z"
   },
   {
    "duration": 9,
    "start_time": "2024-05-31T19:31:47.489Z"
   },
   {
    "duration": 174,
    "start_time": "2024-05-31T19:32:01.516Z"
   },
   {
    "duration": 53,
    "start_time": "2024-05-31T19:32:44.840Z"
   },
   {
    "duration": 161,
    "start_time": "2024-05-31T19:32:50.307Z"
   },
   {
    "duration": 214,
    "start_time": "2024-05-31T19:33:01.298Z"
   },
   {
    "duration": 169,
    "start_time": "2024-05-31T19:33:55.563Z"
   },
   {
    "duration": 218,
    "start_time": "2024-05-31T19:35:13.595Z"
   },
   {
    "duration": 163,
    "start_time": "2024-05-31T19:35:21.493Z"
   },
   {
    "duration": 37,
    "start_time": "2024-05-31T19:36:15.105Z"
   },
   {
    "duration": 203,
    "start_time": "2024-05-31T19:36:46.887Z"
   },
   {
    "duration": 21,
    "start_time": "2024-05-31T19:42:22.129Z"
   },
   {
    "duration": 5,
    "start_time": "2024-05-31T19:43:16.745Z"
   },
   {
    "duration": 11,
    "start_time": "2024-05-31T19:43:34.919Z"
   },
   {
    "duration": 7,
    "start_time": "2024-05-31T19:45:07.102Z"
   },
   {
    "duration": 43,
    "start_time": "2024-05-31T19:45:44.886Z"
   },
   {
    "duration": 8,
    "start_time": "2024-05-31T19:49:50.998Z"
   },
   {
    "duration": 129,
    "start_time": "2024-05-31T19:49:57.813Z"
   },
   {
    "duration": 48,
    "start_time": "2024-05-31T19:51:20.616Z"
   },
   {
    "duration": 26,
    "start_time": "2024-05-31T20:11:48.975Z"
   },
   {
    "duration": 39,
    "start_time": "2024-05-31T20:12:15.099Z"
   },
   {
    "duration": 45,
    "start_time": "2024-05-31T20:13:23.643Z"
   },
   {
    "duration": 46,
    "start_time": "2024-05-31T20:14:47.963Z"
   },
   {
    "duration": 39,
    "start_time": "2024-05-31T20:15:12.194Z"
   },
   {
    "duration": 53,
    "start_time": "2024-05-31T20:18:44.831Z"
   },
   {
    "duration": 6,
    "start_time": "2024-05-31T20:19:29.884Z"
   },
   {
    "duration": 25,
    "start_time": "2024-05-31T20:20:17.121Z"
   },
   {
    "duration": 7,
    "start_time": "2024-05-31T20:20:22.748Z"
   },
   {
    "duration": 28,
    "start_time": "2024-05-31T20:22:32.457Z"
   },
   {
    "duration": 6,
    "start_time": "2024-05-31T20:22:37.978Z"
   },
   {
    "duration": 537,
    "start_time": "2024-05-31T20:23:49.566Z"
   },
   {
    "duration": 6,
    "start_time": "2024-05-31T20:24:02.411Z"
   },
   {
    "duration": 1378,
    "start_time": "2024-05-31T20:24:55.992Z"
   },
   {
    "duration": 25,
    "start_time": "2024-05-31T20:25:46.776Z"
   },
   {
    "duration": 248,
    "start_time": "2024-05-31T20:25:55.256Z"
   },
   {
    "duration": 245,
    "start_time": "2024-05-31T20:26:40.866Z"
   },
   {
    "duration": 419,
    "start_time": "2024-05-31T20:28:41.212Z"
   },
   {
    "duration": 3753,
    "start_time": "2024-05-31T20:30:29.176Z"
   },
   {
    "duration": 424,
    "start_time": "2024-05-31T20:31:02.124Z"
   },
   {
    "duration": 318,
    "start_time": "2024-05-31T20:33:56.723Z"
   },
   {
    "duration": 309,
    "start_time": "2024-05-31T20:34:02.790Z"
   },
   {
    "duration": 317,
    "start_time": "2024-05-31T20:36:53.498Z"
   },
   {
    "duration": 382,
    "start_time": "2024-05-31T20:38:58.316Z"
   },
   {
    "duration": 352,
    "start_time": "2024-05-31T20:39:30.747Z"
   },
   {
    "duration": 351,
    "start_time": "2024-05-31T20:42:52.203Z"
   },
   {
    "duration": 226,
    "start_time": "2024-05-31T20:45:20.727Z"
   },
   {
    "duration": 223,
    "start_time": "2024-05-31T20:45:30.135Z"
   },
   {
    "duration": 253,
    "start_time": "2024-05-31T20:46:16.185Z"
   },
   {
    "duration": 219,
    "start_time": "2024-05-31T20:47:10.258Z"
   },
   {
    "duration": 9,
    "start_time": "2024-05-31T20:47:31.428Z"
   },
   {
    "duration": 37,
    "start_time": "2024-05-31T20:48:45.964Z"
   },
   {
    "duration": 82,
    "start_time": "2024-05-31T20:49:32.563Z"
   },
   {
    "duration": 87,
    "start_time": "2024-05-31T20:51:12.189Z"
   },
   {
    "duration": 112,
    "start_time": "2024-05-31T20:51:44.373Z"
   },
   {
    "duration": 38,
    "start_time": "2024-05-31T20:52:31.919Z"
   },
   {
    "duration": 326,
    "start_time": "2024-05-31T20:54:37.943Z"
   },
   {
    "duration": 329,
    "start_time": "2024-05-31T20:55:31.254Z"
   },
   {
    "duration": 337,
    "start_time": "2024-05-31T20:56:37.813Z"
   },
   {
    "duration": 353,
    "start_time": "2024-05-31T21:01:47.405Z"
   },
   {
    "duration": 380,
    "start_time": "2024-05-31T21:02:34.023Z"
   },
   {
    "duration": 319,
    "start_time": "2024-06-01T13:37:45.762Z"
   },
   {
    "duration": 515,
    "start_time": "2024-06-01T13:38:14.423Z"
   },
   {
    "duration": 1847,
    "start_time": "2024-06-01T13:38:20.838Z"
   },
   {
    "duration": 18,
    "start_time": "2024-06-01T13:38:23.928Z"
   },
   {
    "duration": 24,
    "start_time": "2024-06-01T13:38:27.391Z"
   },
   {
    "duration": 15,
    "start_time": "2024-06-01T13:38:29.369Z"
   },
   {
    "duration": 15,
    "start_time": "2024-06-01T13:38:30.279Z"
   },
   {
    "duration": 52,
    "start_time": "2024-06-01T13:38:31.950Z"
   },
   {
    "duration": 153,
    "start_time": "2024-06-01T13:38:36.308Z"
   },
   {
    "duration": 26,
    "start_time": "2024-06-01T13:38:38.885Z"
   },
   {
    "duration": 183,
    "start_time": "2024-06-01T13:38:52.878Z"
   },
   {
    "duration": 169,
    "start_time": "2024-06-01T13:38:54.189Z"
   },
   {
    "duration": 46,
    "start_time": "2024-06-01T13:38:55.968Z"
   },
   {
    "duration": 22,
    "start_time": "2024-06-01T13:39:00.543Z"
   },
   {
    "duration": 6,
    "start_time": "2024-06-01T13:39:11.280Z"
   },
   {
    "duration": 35,
    "start_time": "2024-06-01T13:39:13.064Z"
   },
   {
    "duration": 33,
    "start_time": "2024-06-01T13:39:14.331Z"
   },
   {
    "duration": 6,
    "start_time": "2024-06-01T13:39:18.797Z"
   },
   {
    "duration": 6,
    "start_time": "2024-06-01T13:39:19.557Z"
   },
   {
    "duration": 7,
    "start_time": "2024-06-01T13:39:22.225Z"
   },
   {
    "duration": 5,
    "start_time": "2024-06-01T13:39:23.361Z"
   },
   {
    "duration": 1345,
    "start_time": "2024-06-01T13:39:25.614Z"
   },
   {
    "duration": 439,
    "start_time": "2024-06-01T13:39:27.800Z"
   },
   {
    "duration": 14,
    "start_time": "2024-06-01T13:39:31.916Z"
   },
   {
    "duration": 13,
    "start_time": "2024-06-01T13:40:28.784Z"
   },
   {
    "duration": 17,
    "start_time": "2024-06-01T13:44:45.720Z"
   },
   {
    "duration": 19,
    "start_time": "2024-06-01T13:45:08.973Z"
   },
   {
    "duration": 27,
    "start_time": "2024-06-01T13:45:29.187Z"
   },
   {
    "duration": 846,
    "start_time": "2024-06-01T13:46:49.397Z"
   },
   {
    "duration": 7,
    "start_time": "2024-06-01T13:46:58.362Z"
   },
   {
    "duration": 7,
    "start_time": "2024-06-01T13:47:29.067Z"
   },
   {
    "duration": 23,
    "start_time": "2024-06-01T13:48:47.508Z"
   },
   {
    "duration": 6,
    "start_time": "2024-06-01T13:49:32.370Z"
   },
   {
    "duration": 6,
    "start_time": "2024-06-01T13:49:48.010Z"
   },
   {
    "duration": 6,
    "start_time": "2024-06-01T13:49:56.249Z"
   },
   {
    "duration": 6,
    "start_time": "2024-06-01T13:50:21.891Z"
   },
   {
    "duration": 7,
    "start_time": "2024-06-01T13:50:37.076Z"
   },
   {
    "duration": 13,
    "start_time": "2024-06-01T13:50:47.892Z"
   },
   {
    "duration": 7,
    "start_time": "2024-06-01T13:51:19.314Z"
   },
   {
    "duration": 10,
    "start_time": "2024-06-01T13:52:08.051Z"
   },
   {
    "duration": 14,
    "start_time": "2024-06-01T13:59:31.143Z"
   },
   {
    "duration": 17,
    "start_time": "2024-06-01T13:59:46.157Z"
   },
   {
    "duration": 17,
    "start_time": "2024-06-01T14:00:00.119Z"
   },
   {
    "duration": 28,
    "start_time": "2024-06-01T14:10:53.029Z"
   },
   {
    "duration": 17,
    "start_time": "2024-06-01T14:11:57.099Z"
   },
   {
    "duration": 15,
    "start_time": "2024-06-01T14:22:49.000Z"
   },
   {
    "duration": 315,
    "start_time": "2024-06-01T14:26:11.823Z"
   },
   {
    "duration": 27,
    "start_time": "2024-06-01T14:27:58.405Z"
   },
   {
    "duration": 118,
    "start_time": "2024-06-01T14:28:22.290Z"
   },
   {
    "duration": 10,
    "start_time": "2024-06-01T14:33:59.002Z"
   },
   {
    "duration": 12,
    "start_time": "2024-06-01T14:35:36.026Z"
   },
   {
    "duration": 12,
    "start_time": "2024-06-01T14:37:33.472Z"
   },
   {
    "duration": 8,
    "start_time": "2024-06-01T14:37:47.911Z"
   },
   {
    "duration": 16,
    "start_time": "2024-06-01T14:37:53.015Z"
   },
   {
    "duration": 12,
    "start_time": "2024-06-01T14:38:31.748Z"
   },
   {
    "duration": 13,
    "start_time": "2024-06-01T14:39:40.015Z"
   },
   {
    "duration": 14,
    "start_time": "2024-06-01T14:44:51.676Z"
   },
   {
    "duration": 12,
    "start_time": "2024-06-01T14:46:59.337Z"
   },
   {
    "duration": 19,
    "start_time": "2024-06-01T14:47:04.806Z"
   },
   {
    "duration": 17,
    "start_time": "2024-06-01T14:47:16.034Z"
   },
   {
    "duration": 15,
    "start_time": "2024-06-01T14:48:14.592Z"
   },
   {
    "duration": 26,
    "start_time": "2024-06-01T14:48:45.657Z"
   },
   {
    "duration": 30,
    "start_time": "2024-06-01T14:52:59.774Z"
   },
   {
    "duration": 26,
    "start_time": "2024-06-01T14:53:02.862Z"
   },
   {
    "duration": 28,
    "start_time": "2024-06-01T14:53:09.575Z"
   },
   {
    "duration": 39,
    "start_time": "2024-06-01T14:55:46.940Z"
   },
   {
    "duration": 29,
    "start_time": "2024-06-01T15:02:18.409Z"
   },
   {
    "duration": 48,
    "start_time": "2024-06-01T15:05:32.899Z"
   },
   {
    "duration": 15,
    "start_time": "2024-06-01T15:07:14.120Z"
   },
   {
    "duration": 11,
    "start_time": "2024-06-01T15:15:25.621Z"
   },
   {
    "duration": 14,
    "start_time": "2024-06-01T15:15:48.952Z"
   },
   {
    "duration": 8,
    "start_time": "2024-06-01T15:23:43.700Z"
   },
   {
    "duration": 466,
    "start_time": "2024-06-01T18:18:56.532Z"
   },
   {
    "duration": 1714,
    "start_time": "2024-06-01T18:18:58.848Z"
   },
   {
    "duration": 17,
    "start_time": "2024-06-01T18:19:00.773Z"
   },
   {
    "duration": 15,
    "start_time": "2024-06-01T18:19:01.710Z"
   },
   {
    "duration": 12,
    "start_time": "2024-06-01T18:19:02.446Z"
   },
   {
    "duration": 14,
    "start_time": "2024-06-01T18:19:04.028Z"
   },
   {
    "duration": 39,
    "start_time": "2024-06-01T18:19:04.844Z"
   },
   {
    "duration": 158,
    "start_time": "2024-06-01T18:19:09.866Z"
   },
   {
    "duration": 18,
    "start_time": "2024-06-01T18:19:11.945Z"
   },
   {
    "duration": 174,
    "start_time": "2024-06-01T18:19:15.424Z"
   },
   {
    "duration": 167,
    "start_time": "2024-06-01T18:19:16.827Z"
   },
   {
    "duration": 46,
    "start_time": "2024-06-01T18:19:19.410Z"
   },
   {
    "duration": 22,
    "start_time": "2024-06-01T18:19:21.840Z"
   },
   {
    "duration": 8,
    "start_time": "2024-06-01T18:19:23.407Z"
   },
   {
    "duration": 45,
    "start_time": "2024-06-01T18:19:25.369Z"
   },
   {
    "duration": 48,
    "start_time": "2024-06-01T18:19:27.642Z"
   },
   {
    "duration": 6,
    "start_time": "2024-06-01T18:19:42.122Z"
   },
   {
    "duration": 4,
    "start_time": "2024-06-01T18:19:42.692Z"
   },
   {
    "duration": 5,
    "start_time": "2024-06-01T18:19:45.723Z"
   },
   {
    "duration": 5,
    "start_time": "2024-06-01T18:19:46.918Z"
   },
   {
    "duration": 1355,
    "start_time": "2024-06-01T18:19:51.180Z"
   },
   {
    "duration": 17,
    "start_time": "2024-06-01T18:19:58.556Z"
   },
   {
    "duration": 8,
    "start_time": "2024-06-01T18:20:03.863Z"
   },
   {
    "duration": 11,
    "start_time": "2024-06-01T18:20:06.466Z"
   },
   {
    "duration": 16,
    "start_time": "2024-06-01T18:20:10.989Z"
   },
   {
    "duration": 10,
    "start_time": "2024-06-01T18:20:44.830Z"
   },
   {
    "duration": 33,
    "start_time": "2024-06-01T18:20:57.391Z"
   },
   {
    "duration": 330,
    "start_time": "2024-06-01T18:28:04.941Z"
   },
   {
    "duration": 23,
    "start_time": "2024-06-01T18:28:18.211Z"
   },
   {
    "duration": 24,
    "start_time": "2024-06-01T18:28:19.691Z"
   },
   {
    "duration": 1079,
    "start_time": "2024-06-01T18:28:29.213Z"
   },
   {
    "duration": 277,
    "start_time": "2024-06-01T18:29:16.204Z"
   },
   {
    "duration": 335,
    "start_time": "2024-06-01T18:29:46.019Z"
   },
   {
    "duration": 269,
    "start_time": "2024-06-01T18:30:07.431Z"
   },
   {
    "duration": 9,
    "start_time": "2024-06-01T18:30:33.762Z"
   },
   {
    "duration": 7,
    "start_time": "2024-06-01T18:37:17.609Z"
   },
   {
    "duration": 6,
    "start_time": "2024-06-01T18:39:04.358Z"
   },
   {
    "duration": 7,
    "start_time": "2024-06-01T18:40:06.135Z"
   },
   {
    "duration": 7,
    "start_time": "2024-06-01T18:40:31.717Z"
   },
   {
    "duration": 10,
    "start_time": "2024-06-01T18:40:57.414Z"
   },
   {
    "duration": 9,
    "start_time": "2024-06-01T18:41:18.997Z"
   },
   {
    "duration": 9,
    "start_time": "2024-06-01T18:41:26.458Z"
   },
   {
    "duration": 11,
    "start_time": "2024-06-01T18:43:09.650Z"
   },
   {
    "duration": 11,
    "start_time": "2024-06-01T18:43:32.387Z"
   },
   {
    "duration": 10,
    "start_time": "2024-06-01T18:43:38.585Z"
   },
   {
    "duration": 16,
    "start_time": "2024-06-01T18:44:50.670Z"
   },
   {
    "duration": 18,
    "start_time": "2024-06-01T18:45:13.088Z"
   },
   {
    "duration": 15,
    "start_time": "2024-06-01T18:45:42.341Z"
   },
   {
    "duration": 10,
    "start_time": "2024-06-01T18:46:12.254Z"
   },
   {
    "duration": 9,
    "start_time": "2024-06-01T18:46:53.656Z"
   },
   {
    "duration": 7,
    "start_time": "2024-06-01T18:47:58.198Z"
   },
   {
    "duration": 16,
    "start_time": "2024-06-01T18:49:10.348Z"
   },
   {
    "duration": 18,
    "start_time": "2024-06-01T18:49:22.468Z"
   },
   {
    "duration": 13,
    "start_time": "2024-06-01T18:49:50.239Z"
   },
   {
    "duration": 54,
    "start_time": "2024-06-01T18:52:17.893Z"
   },
   {
    "duration": 87,
    "start_time": "2024-06-01T18:55:40.078Z"
   },
   {
    "duration": 24,
    "start_time": "2024-06-01T19:28:41.451Z"
   },
   {
    "duration": 7,
    "start_time": "2024-06-01T19:29:00.168Z"
   },
   {
    "duration": 7,
    "start_time": "2024-06-01T19:29:16.266Z"
   },
   {
    "duration": 26,
    "start_time": "2024-06-01T19:29:21.962Z"
   },
   {
    "duration": 11,
    "start_time": "2024-06-01T19:30:25.871Z"
   },
   {
    "duration": 6,
    "start_time": "2024-06-01T19:30:40.190Z"
   },
   {
    "duration": 8,
    "start_time": "2024-06-01T19:31:29.520Z"
   },
   {
    "duration": 25,
    "start_time": "2024-06-01T20:03:28.373Z"
   },
   {
    "duration": 43,
    "start_time": "2024-06-01T20:04:38.804Z"
   },
   {
    "duration": 47,
    "start_time": "2024-06-01T20:06:55.400Z"
   },
   {
    "duration": 47,
    "start_time": "2024-06-01T20:07:57.012Z"
   },
   {
    "duration": 37,
    "start_time": "2024-06-01T20:08:05.301Z"
   },
   {
    "duration": 42,
    "start_time": "2024-06-01T20:08:55.439Z"
   },
   {
    "duration": 9,
    "start_time": "2024-06-01T20:09:00.158Z"
   },
   {
    "duration": 40,
    "start_time": "2024-06-01T20:09:05.893Z"
   },
   {
    "duration": 37,
    "start_time": "2024-06-01T20:10:06.685Z"
   },
   {
    "duration": 23,
    "start_time": "2024-06-01T20:10:41.142Z"
   },
   {
    "duration": 26,
    "start_time": "2024-06-01T20:10:43.897Z"
   },
   {
    "duration": 3964,
    "start_time": "2024-06-01T20:13:16.830Z"
   },
   {
    "duration": 379,
    "start_time": "2024-06-01T20:23:41.105Z"
   },
   {
    "duration": 266,
    "start_time": "2024-06-01T20:26:29.745Z"
   },
   {
    "duration": 986,
    "start_time": "2024-06-01T20:27:22.556Z"
   },
   {
    "duration": 261,
    "start_time": "2024-06-01T20:27:41.712Z"
   },
   {
    "duration": 10,
    "start_time": "2024-06-01T20:32:56.195Z"
   },
   {
    "duration": 11,
    "start_time": "2024-06-01T20:33:33.949Z"
   },
   {
    "duration": 212,
    "start_time": "2024-06-01T20:34:26.554Z"
   },
   {
    "duration": 11,
    "start_time": "2024-06-01T20:35:00.447Z"
   },
   {
    "duration": 333,
    "start_time": "2024-06-01T20:40:12.355Z"
   },
   {
    "duration": 327,
    "start_time": "2024-06-01T20:41:37.598Z"
   },
   {
    "duration": 35,
    "start_time": "2024-06-01T20:43:42.044Z"
   },
   {
    "duration": 19,
    "start_time": "2024-06-01T20:43:47.271Z"
   },
   {
    "duration": 5,
    "start_time": "2024-06-01T20:44:56.190Z"
   },
   {
    "duration": 11,
    "start_time": "2024-06-01T20:46:00.276Z"
   },
   {
    "duration": 11,
    "start_time": "2024-06-01T20:46:23.321Z"
   },
   {
    "duration": 31,
    "start_time": "2024-06-01T20:48:21.185Z"
   },
   {
    "duration": 315,
    "start_time": "2024-06-01T20:48:28.231Z"
   },
   {
    "duration": 221,
    "start_time": "2024-06-01T20:48:44.385Z"
   },
   {
    "duration": 8,
    "start_time": "2024-06-01T20:53:37.486Z"
   },
   {
    "duration": 6,
    "start_time": "2024-06-01T20:56:50.614Z"
   },
   {
    "duration": 6,
    "start_time": "2024-06-01T20:56:56.995Z"
   },
   {
    "duration": 6,
    "start_time": "2024-06-01T20:57:05.373Z"
   },
   {
    "duration": 417,
    "start_time": "2024-06-01T21:03:46.245Z"
   },
   {
    "duration": 385,
    "start_time": "2024-06-01T21:04:03.288Z"
   },
   {
    "duration": 80,
    "start_time": "2024-06-01T21:04:22.126Z"
   },
   {
    "duration": 244,
    "start_time": "2024-06-01T21:06:21.837Z"
   },
   {
    "duration": 257,
    "start_time": "2024-06-01T21:08:08.692Z"
   },
   {
    "duration": 257,
    "start_time": "2024-06-01T21:08:50.219Z"
   },
   {
    "duration": 204,
    "start_time": "2024-06-01T21:22:46.493Z"
   },
   {
    "duration": 361,
    "start_time": "2024-06-01T21:23:04.266Z"
   },
   {
    "duration": 369,
    "start_time": "2024-06-01T21:24:22.451Z"
   },
   {
    "duration": 4269,
    "start_time": "2024-06-03T14:29:17.794Z"
   },
   {
    "duration": 1714,
    "start_time": "2024-06-03T14:29:24.823Z"
   },
   {
    "duration": 19,
    "start_time": "2024-06-03T14:29:26.541Z"
   },
   {
    "duration": 16,
    "start_time": "2024-06-03T14:29:29.057Z"
   },
   {
    "duration": 12,
    "start_time": "2024-06-03T14:29:29.854Z"
   },
   {
    "duration": 13,
    "start_time": "2024-06-03T14:29:31.174Z"
   },
   {
    "duration": 41,
    "start_time": "2024-06-03T14:29:32.731Z"
   },
   {
    "duration": 153,
    "start_time": "2024-06-03T14:29:37.511Z"
   },
   {
    "duration": 18,
    "start_time": "2024-06-03T14:29:39.755Z"
   },
   {
    "duration": 169,
    "start_time": "2024-06-03T14:29:42.606Z"
   },
   {
    "duration": 165,
    "start_time": "2024-06-03T14:29:44.389Z"
   },
   {
    "duration": 41,
    "start_time": "2024-06-03T14:29:47.045Z"
   },
   {
    "duration": 21,
    "start_time": "2024-06-03T14:29:49.242Z"
   },
   {
    "duration": 6,
    "start_time": "2024-06-03T14:29:52.389Z"
   },
   {
    "duration": 40,
    "start_time": "2024-06-03T14:29:53.473Z"
   },
   {
    "duration": 35,
    "start_time": "2024-06-03T14:29:54.184Z"
   },
   {
    "duration": 7,
    "start_time": "2024-06-03T14:29:57.097Z"
   },
   {
    "duration": 5,
    "start_time": "2024-06-03T14:29:57.686Z"
   },
   {
    "duration": 6,
    "start_time": "2024-06-03T14:30:00.150Z"
   },
   {
    "duration": 5,
    "start_time": "2024-06-03T14:30:00.687Z"
   },
   {
    "duration": 1311,
    "start_time": "2024-06-03T14:30:03.036Z"
   },
   {
    "duration": 420,
    "start_time": "2024-06-03T14:31:13.714Z"
   },
   {
    "duration": 18,
    "start_time": "2024-06-03T14:31:18.911Z"
   },
   {
    "duration": 9,
    "start_time": "2024-06-03T14:31:21.977Z"
   },
   {
    "duration": 8,
    "start_time": "2024-06-03T14:31:24.268Z"
   },
   {
    "duration": 9,
    "start_time": "2024-06-03T14:31:26.732Z"
   },
   {
    "duration": 19,
    "start_time": "2024-06-03T14:31:29.084Z"
   },
   {
    "duration": 10,
    "start_time": "2024-06-03T14:31:31.600Z"
   },
   {
    "duration": 37,
    "start_time": "2024-06-03T14:31:32.995Z"
   },
   {
    "duration": 29,
    "start_time": "2024-06-03T14:31:39.531Z"
   },
   {
    "duration": 49,
    "start_time": "2024-06-03T14:31:45.057Z"
   },
   {
    "duration": 13,
    "start_time": "2024-06-03T14:32:32.181Z"
   },
   {
    "duration": 7,
    "start_time": "2024-06-03T14:32:34.134Z"
   },
   {
    "duration": 80,
    "start_time": "2024-06-03T14:33:03.902Z"
   },
   {
    "duration": 25,
    "start_time": "2024-06-03T14:33:17.827Z"
   },
   {
    "duration": 26,
    "start_time": "2024-06-03T14:33:19.465Z"
   },
   {
    "duration": 343,
    "start_time": "2024-06-03T14:34:19.370Z"
   },
   {
    "duration": 374,
    "start_time": "2024-06-03T14:41:34.894Z"
   },
   {
    "duration": 746,
    "start_time": "2024-06-03T14:41:46.650Z"
   },
   {
    "duration": 1721,
    "start_time": "2024-06-03T14:41:48.393Z"
   },
   {
    "duration": 18,
    "start_time": "2024-06-03T14:41:51.001Z"
   },
   {
    "duration": 16,
    "start_time": "2024-06-03T14:41:52.495Z"
   },
   {
    "duration": 12,
    "start_time": "2024-06-03T14:41:53.167Z"
   },
   {
    "duration": 14,
    "start_time": "2024-06-03T14:41:54.294Z"
   },
   {
    "duration": 44,
    "start_time": "2024-06-03T14:41:55.160Z"
   },
   {
    "duration": 150,
    "start_time": "2024-06-03T14:42:00.128Z"
   },
   {
    "duration": 18,
    "start_time": "2024-06-03T14:42:02.500Z"
   },
   {
    "duration": 178,
    "start_time": "2024-06-03T14:42:05.101Z"
   },
   {
    "duration": 166,
    "start_time": "2024-06-03T14:42:05.629Z"
   },
   {
    "duration": 47,
    "start_time": "2024-06-03T14:42:07.114Z"
   },
   {
    "duration": 26,
    "start_time": "2024-06-03T14:42:09.553Z"
   },
   {
    "duration": 6,
    "start_time": "2024-06-03T14:42:11.051Z"
   },
   {
    "duration": 39,
    "start_time": "2024-06-03T14:42:11.631Z"
   },
   {
    "duration": 32,
    "start_time": "2024-06-03T14:42:13.051Z"
   },
   {
    "duration": 6,
    "start_time": "2024-06-03T14:42:14.979Z"
   },
   {
    "duration": 5,
    "start_time": "2024-06-03T14:42:16.113Z"
   },
   {
    "duration": 7,
    "start_time": "2024-06-03T14:42:17.830Z"
   },
   {
    "duration": 4,
    "start_time": "2024-06-03T14:42:18.441Z"
   },
   {
    "duration": 1312,
    "start_time": "2024-06-03T14:42:20.254Z"
   },
   {
    "duration": 418,
    "start_time": "2024-06-03T14:42:21.632Z"
   },
   {
    "duration": 17,
    "start_time": "2024-06-03T14:42:24.886Z"
   },
   {
    "duration": 8,
    "start_time": "2024-06-03T14:42:27.174Z"
   },
   {
    "duration": 8,
    "start_time": "2024-06-03T14:42:28.249Z"
   },
   {
    "duration": 9,
    "start_time": "2024-06-03T14:42:29.162Z"
   },
   {
    "duration": 17,
    "start_time": "2024-06-03T14:42:31.300Z"
   },
   {
    "duration": 9,
    "start_time": "2024-06-03T14:42:33.630Z"
   },
   {
    "duration": 43,
    "start_time": "2024-06-03T14:42:34.937Z"
   },
   {
    "duration": 28,
    "start_time": "2024-06-03T14:42:38.346Z"
   },
   {
    "duration": 49,
    "start_time": "2024-06-03T14:42:40.159Z"
   },
   {
    "duration": 13,
    "start_time": "2024-06-03T14:42:41.949Z"
   },
   {
    "duration": 8,
    "start_time": "2024-06-03T14:42:43.652Z"
   },
   {
    "duration": 91,
    "start_time": "2024-06-03T14:42:44.894Z"
   },
   {
    "duration": 22,
    "start_time": "2024-06-03T14:42:49.463Z"
   },
   {
    "duration": 28,
    "start_time": "2024-06-03T14:42:50.959Z"
   },
   {
    "duration": 379,
    "start_time": "2024-06-03T14:43:19.937Z"
   },
   {
    "duration": 324,
    "start_time": "2024-06-03T14:44:37.474Z"
   },
   {
    "duration": 357,
    "start_time": "2024-06-03T14:48:22.144Z"
   },
   {
    "duration": 218,
    "start_time": "2024-06-03T14:52:28.969Z"
   },
   {
    "duration": 211,
    "start_time": "2024-06-03T14:52:40.951Z"
   },
   {
    "duration": 209,
    "start_time": "2024-06-03T14:54:05.594Z"
   },
   {
    "duration": 1465,
    "start_time": "2024-06-03T14:57:32.276Z"
   },
   {
    "duration": 216,
    "start_time": "2024-06-03T14:58:07.348Z"
   },
   {
    "duration": 17,
    "start_time": "2024-06-03T15:03:36.392Z"
   },
   {
    "duration": 12,
    "start_time": "2024-06-03T15:04:48.234Z"
   },
   {
    "duration": 14,
    "start_time": "2024-06-03T15:04:59.032Z"
   },
   {
    "duration": 12,
    "start_time": "2024-06-03T15:07:45.079Z"
   },
   {
    "duration": 337,
    "start_time": "2024-06-03T15:10:11.738Z"
   },
   {
    "duration": 386,
    "start_time": "2024-06-03T15:10:22.443Z"
   },
   {
    "duration": 17,
    "start_time": "2024-06-03T15:13:18.697Z"
   },
   {
    "duration": 31,
    "start_time": "2024-06-03T15:13:42.785Z"
   },
   {
    "duration": 17,
    "start_time": "2024-06-03T15:14:03.852Z"
   },
   {
    "duration": 19,
    "start_time": "2024-06-03T15:14:10.829Z"
   },
   {
    "duration": 18,
    "start_time": "2024-06-03T15:14:22.524Z"
   },
   {
    "duration": 37,
    "start_time": "2024-06-03T15:17:03.163Z"
   },
   {
    "duration": 412,
    "start_time": "2024-06-03T15:17:15.063Z"
   },
   {
    "duration": 405,
    "start_time": "2024-06-03T15:17:36.780Z"
   },
   {
    "duration": 357,
    "start_time": "2024-06-03T15:23:54.019Z"
   },
   {
    "duration": 367,
    "start_time": "2024-06-03T15:25:08.033Z"
   },
   {
    "duration": 409,
    "start_time": "2024-06-03T15:25:35.458Z"
   },
   {
    "duration": 423,
    "start_time": "2024-06-03T15:27:06.260Z"
   },
   {
    "duration": 317,
    "start_time": "2024-06-03T15:29:03.521Z"
   },
   {
    "duration": 309,
    "start_time": "2024-06-03T15:30:00.909Z"
   },
   {
    "duration": 395,
    "start_time": "2024-06-03T15:30:18.817Z"
   },
   {
    "duration": 403,
    "start_time": "2024-06-03T15:31:43.332Z"
   },
   {
    "duration": 421,
    "start_time": "2024-06-03T15:32:28.303Z"
   },
   {
    "duration": 7,
    "start_time": "2024-06-03T15:42:14.040Z"
   },
   {
    "duration": 31,
    "start_time": "2024-06-03T15:43:21.631Z"
   },
   {
    "duration": 9,
    "start_time": "2024-06-03T15:43:36.825Z"
   },
   {
    "duration": 375,
    "start_time": "2024-06-03T16:02:00.667Z"
   },
   {
    "duration": 370,
    "start_time": "2024-06-03T16:02:15.504Z"
   },
   {
    "duration": 490,
    "start_time": "2024-06-03T16:02:41.723Z"
   },
   {
    "duration": 400,
    "start_time": "2024-06-03T16:03:30.682Z"
   },
   {
    "duration": 1158,
    "start_time": "2024-06-03T16:03:40.536Z"
   },
   {
    "duration": 464,
    "start_time": "2024-06-03T16:03:59.025Z"
   },
   {
    "duration": 366,
    "start_time": "2024-06-03T16:05:56.144Z"
   },
   {
    "duration": 411,
    "start_time": "2024-06-03T16:06:25.914Z"
   },
   {
    "duration": 367,
    "start_time": "2024-06-03T16:06:34.007Z"
   },
   {
    "duration": 387,
    "start_time": "2024-06-03T16:06:44.023Z"
   },
   {
    "duration": 402,
    "start_time": "2024-06-03T16:06:56.802Z"
   },
   {
    "duration": 373,
    "start_time": "2024-06-03T16:07:06.246Z"
   },
   {
    "duration": 363,
    "start_time": "2024-06-03T16:08:30.575Z"
   },
   {
    "duration": 287,
    "start_time": "2024-06-03T16:16:17.457Z"
   },
   {
    "duration": 213,
    "start_time": "2024-06-03T16:16:26.697Z"
   },
   {
    "duration": 52,
    "start_time": "2024-06-03T16:24:26.333Z"
   },
   {
    "duration": 59,
    "start_time": "2024-06-03T16:25:00.051Z"
   },
   {
    "duration": 73,
    "start_time": "2024-06-03T16:25:28.996Z"
   },
   {
    "duration": 64,
    "start_time": "2024-06-03T16:25:41.105Z"
   },
   {
    "duration": 8,
    "start_time": "2024-06-03T16:25:48.109Z"
   },
   {
    "duration": 9,
    "start_time": "2024-06-03T16:25:58.932Z"
   },
   {
    "duration": 70,
    "start_time": "2024-06-03T16:26:34.789Z"
   },
   {
    "duration": 0,
    "start_time": "2024-06-03T16:28:58.781Z"
   },
   {
    "duration": 668,
    "start_time": "2024-06-03T16:29:27.765Z"
   },
   {
    "duration": 1669,
    "start_time": "2024-06-03T16:29:29.121Z"
   },
   {
    "duration": 20,
    "start_time": "2024-06-03T16:29:30.793Z"
   },
   {
    "duration": 36,
    "start_time": "2024-06-03T16:29:30.817Z"
   },
   {
    "duration": 13,
    "start_time": "2024-06-03T16:29:30.859Z"
   },
   {
    "duration": 18,
    "start_time": "2024-06-03T16:29:32.376Z"
   },
   {
    "duration": 178,
    "start_time": "2024-06-03T16:29:36.767Z"
   },
   {
    "duration": 20,
    "start_time": "2024-06-03T16:29:39.071Z"
   },
   {
    "duration": 206,
    "start_time": "2024-06-03T16:29:45.394Z"
   },
   {
    "duration": 186,
    "start_time": "2024-06-03T16:29:47.554Z"
   },
   {
    "duration": 48,
    "start_time": "2024-06-03T16:29:49.290Z"
   },
   {
    "duration": 28,
    "start_time": "2024-06-03T16:29:51.218Z"
   },
   {
    "duration": 17,
    "start_time": "2024-06-03T16:29:52.652Z"
   },
   {
    "duration": 37,
    "start_time": "2024-06-03T16:29:53.264Z"
   },
   {
    "duration": 40,
    "start_time": "2024-06-03T16:29:54.529Z"
   },
   {
    "duration": 7,
    "start_time": "2024-06-03T16:29:56.842Z"
   },
   {
    "duration": 7,
    "start_time": "2024-06-03T16:29:58.131Z"
   },
   {
    "duration": 7,
    "start_time": "2024-06-03T16:29:59.884Z"
   },
   {
    "duration": 8,
    "start_time": "2024-06-03T16:30:01.149Z"
   },
   {
    "duration": 1363,
    "start_time": "2024-06-03T16:30:03.319Z"
   },
   {
    "duration": 465,
    "start_time": "2024-06-03T16:30:04.686Z"
   },
   {
    "duration": 30,
    "start_time": "2024-06-03T16:30:06.626Z"
   },
   {
    "duration": 9,
    "start_time": "2024-06-03T16:30:08.805Z"
   },
   {
    "duration": 9,
    "start_time": "2024-06-03T16:30:10.818Z"
   },
   {
    "duration": 17,
    "start_time": "2024-06-03T16:30:12.509Z"
   },
   {
    "duration": 26,
    "start_time": "2024-06-03T16:30:14.152Z"
   },
   {
    "duration": 12,
    "start_time": "2024-06-03T16:30:15.946Z"
   },
   {
    "duration": 38,
    "start_time": "2024-06-03T16:30:17.678Z"
   },
   {
    "duration": 28,
    "start_time": "2024-06-03T16:30:20.185Z"
   },
   {
    "duration": 52,
    "start_time": "2024-06-03T16:30:22.572Z"
   },
   {
    "duration": 17,
    "start_time": "2024-06-03T16:30:24.536Z"
   },
   {
    "duration": 11,
    "start_time": "2024-06-03T16:30:26.339Z"
   },
   {
    "duration": 93,
    "start_time": "2024-06-03T16:30:28.127Z"
   },
   {
    "duration": 27,
    "start_time": "2024-06-03T16:30:35.080Z"
   },
   {
    "duration": 39,
    "start_time": "2024-06-03T16:30:36.666Z"
   },
   {
    "duration": 378,
    "start_time": "2024-06-03T16:30:38.527Z"
   },
   {
    "duration": 230,
    "start_time": "2024-06-03T16:30:42.353Z"
   },
   {
    "duration": 406,
    "start_time": "2024-06-03T16:30:46.862Z"
   },
   {
    "duration": 328,
    "start_time": "2024-06-03T16:30:51.616Z"
   },
   {
    "duration": 718,
    "start_time": "2024-06-03T16:30:55.881Z"
   },
   {
    "duration": 491,
    "start_time": "2024-06-03T16:31:01.048Z"
   },
   {
    "duration": 593,
    "start_time": "2024-06-03T16:31:04.941Z"
   },
   {
    "duration": 54,
    "start_time": "2024-06-03T16:31:11.182Z"
   },
   {
    "duration": 320,
    "start_time": "2024-06-03T16:33:12.031Z"
   },
   {
    "duration": 768,
    "start_time": "2024-06-03T17:16:26.406Z"
   },
   {
    "duration": 2169,
    "start_time": "2024-06-03T17:16:28.505Z"
   },
   {
    "duration": 21,
    "start_time": "2024-06-03T17:16:30.678Z"
   },
   {
    "duration": 41,
    "start_time": "2024-06-03T17:16:30.703Z"
   },
   {
    "duration": 17,
    "start_time": "2024-06-03T17:16:33.261Z"
   },
   {
    "duration": 17,
    "start_time": "2024-06-03T17:16:34.000Z"
   },
   {
    "duration": 49,
    "start_time": "2024-06-03T17:16:35.662Z"
   },
   {
    "duration": 197,
    "start_time": "2024-06-03T17:16:39.078Z"
   },
   {
    "duration": 21,
    "start_time": "2024-06-03T17:16:40.891Z"
   },
   {
    "duration": 207,
    "start_time": "2024-06-03T17:17:15.613Z"
   },
   {
    "duration": 203,
    "start_time": "2024-06-03T17:17:16.531Z"
   },
   {
    "duration": 56,
    "start_time": "2024-06-03T17:17:18.647Z"
   },
   {
    "duration": 27,
    "start_time": "2024-06-03T17:17:20.661Z"
   },
   {
    "duration": 7,
    "start_time": "2024-06-03T17:17:21.193Z"
   },
   {
    "duration": 49,
    "start_time": "2024-06-03T17:17:21.742Z"
   },
   {
    "duration": 44,
    "start_time": "2024-06-03T17:17:23.205Z"
   },
   {
    "duration": 8,
    "start_time": "2024-06-03T17:17:25.387Z"
   },
   {
    "duration": 8,
    "start_time": "2024-06-03T17:17:26.657Z"
   },
   {
    "duration": 6,
    "start_time": "2024-06-03T17:17:31.996Z"
   },
   {
    "duration": 9,
    "start_time": "2024-06-03T17:17:32.918Z"
   },
   {
    "duration": 1453,
    "start_time": "2024-06-03T17:17:35.569Z"
   },
   {
    "duration": 485,
    "start_time": "2024-06-03T17:17:37.283Z"
   },
   {
    "duration": 21,
    "start_time": "2024-06-03T17:17:48.693Z"
   },
   {
    "duration": 10,
    "start_time": "2024-06-03T17:17:52.913Z"
   },
   {
    "duration": 15,
    "start_time": "2024-06-03T17:17:55.207Z"
   },
   {
    "duration": 14,
    "start_time": "2024-06-03T17:17:57.386Z"
   },
   {
    "duration": 24,
    "start_time": "2024-06-03T17:17:59.318Z"
   },
   {
    "duration": 18,
    "start_time": "2024-06-03T17:18:01.694Z"
   },
   {
    "duration": 43,
    "start_time": "2024-06-03T17:18:04.548Z"
   },
   {
    "duration": 36,
    "start_time": "2024-06-03T17:18:06.891Z"
   },
   {
    "duration": 65,
    "start_time": "2024-06-03T17:18:09.247Z"
   },
   {
    "duration": 18,
    "start_time": "2024-06-03T17:18:19.407Z"
   },
   {
    "duration": 11,
    "start_time": "2024-06-03T17:18:21.544Z"
   },
   {
    "duration": 115,
    "start_time": "2024-06-03T17:18:25.502Z"
   },
   {
    "duration": 32,
    "start_time": "2024-06-03T17:18:29.082Z"
   },
   {
    "duration": 33,
    "start_time": "2024-06-03T17:18:30.351Z"
   },
   {
    "duration": 529,
    "start_time": "2024-06-03T17:18:32.647Z"
   },
   {
    "duration": 313,
    "start_time": "2024-06-03T17:18:37.771Z"
   },
   {
    "duration": 473,
    "start_time": "2024-06-03T17:18:42.506Z"
   },
   {
    "duration": 473,
    "start_time": "2024-06-03T17:18:57.574Z"
   },
   {
    "duration": 807,
    "start_time": "2024-06-03T17:19:02.113Z"
   },
   {
    "duration": 565,
    "start_time": "2024-06-03T17:19:06.738Z"
   },
   {
    "duration": 584,
    "start_time": "2024-06-03T17:19:10.940Z"
   },
   {
    "duration": 12,
    "start_time": "2024-06-03T17:20:12.304Z"
   },
   {
    "duration": 24,
    "start_time": "2024-06-03T17:32:09.188Z"
   },
   {
    "duration": 58,
    "start_time": "2024-06-03T17:32:15.333Z"
   },
   {
    "duration": 83,
    "start_time": "2024-06-03T17:35:10.659Z"
   },
   {
    "duration": 71,
    "start_time": "2024-06-03T17:35:28.499Z"
   },
   {
    "duration": 202,
    "start_time": "2024-06-03T17:36:36.245Z"
   },
   {
    "duration": 179,
    "start_time": "2024-06-03T18:36:47.416Z"
   },
   {
    "duration": 29,
    "start_time": "2024-06-03T18:39:23.619Z"
   },
   {
    "duration": 32,
    "start_time": "2024-06-03T18:40:36.903Z"
   },
   {
    "duration": 23,
    "start_time": "2024-06-03T18:41:54.367Z"
   },
   {
    "duration": 6,
    "start_time": "2024-06-03T18:42:03.280Z"
   },
   {
    "duration": 38,
    "start_time": "2024-06-03T18:42:33.787Z"
   },
   {
    "duration": 31,
    "start_time": "2024-06-03T18:43:20.739Z"
   },
   {
    "duration": 37,
    "start_time": "2024-06-03T18:43:26.280Z"
   },
   {
    "duration": 40,
    "start_time": "2024-06-03T18:45:40.008Z"
   },
   {
    "duration": 45,
    "start_time": "2024-06-03T18:52:39.280Z"
   },
   {
    "duration": 51,
    "start_time": "2024-06-03T18:56:14.738Z"
   },
   {
    "duration": 51,
    "start_time": "2024-06-03T18:56:25.682Z"
   },
   {
    "duration": 8,
    "start_time": "2024-06-03T18:56:47.809Z"
   },
   {
    "duration": 5,
    "start_time": "2024-06-03T18:57:06.120Z"
   },
   {
    "duration": 6,
    "start_time": "2024-06-03T18:57:44.209Z"
   },
   {
    "duration": 6,
    "start_time": "2024-06-03T18:58:06.683Z"
   },
   {
    "duration": 28,
    "start_time": "2024-06-03T18:58:13.584Z"
   },
   {
    "duration": 29,
    "start_time": "2024-06-03T18:58:27.232Z"
   },
   {
    "duration": 31,
    "start_time": "2024-06-03T18:58:38.133Z"
   },
   {
    "duration": 32,
    "start_time": "2024-06-03T18:59:26.120Z"
   },
   {
    "duration": 356,
    "start_time": "2024-06-03T19:00:03.824Z"
   },
   {
    "duration": 411,
    "start_time": "2024-06-03T19:01:00.558Z"
   },
   {
    "duration": 242,
    "start_time": "2024-06-03T19:01:25.778Z"
   },
   {
    "duration": 363,
    "start_time": "2024-06-03T19:01:43.769Z"
   },
   {
    "duration": 218,
    "start_time": "2024-06-03T19:02:47.006Z"
   },
   {
    "duration": 271,
    "start_time": "2024-06-03T19:03:45.976Z"
   },
   {
    "duration": 389,
    "start_time": "2024-06-03T19:07:46.363Z"
   },
   {
    "duration": 265,
    "start_time": "2024-06-03T19:25:52.607Z"
   },
   {
    "duration": 524,
    "start_time": "2024-06-03T19:26:07.771Z"
   },
   {
    "duration": 152,
    "start_time": "2024-06-03T19:26:50.950Z"
   },
   {
    "duration": 834,
    "start_time": "2024-06-03T19:27:42.775Z"
   },
   {
    "duration": 71,
    "start_time": "2024-06-03T19:27:48.762Z"
   },
   {
    "duration": 187,
    "start_time": "2024-06-03T19:33:51.099Z"
   },
   {
    "duration": 167,
    "start_time": "2024-06-03T19:34:12.399Z"
   },
   {
    "duration": 189,
    "start_time": "2024-06-03T19:36:56.580Z"
   },
   {
    "duration": 161,
    "start_time": "2024-06-03T19:45:13.541Z"
   },
   {
    "duration": 202,
    "start_time": "2024-06-03T20:17:36.931Z"
   },
   {
    "duration": 181,
    "start_time": "2024-06-03T20:18:17.412Z"
   },
   {
    "duration": 165,
    "start_time": "2024-06-03T20:19:31.849Z"
   },
   {
    "duration": 156,
    "start_time": "2024-06-03T20:20:57.503Z"
   },
   {
    "duration": 337,
    "start_time": "2024-06-03T20:22:23.123Z"
   },
   {
    "duration": 323,
    "start_time": "2024-06-03T20:25:51.207Z"
   },
   {
    "duration": 321,
    "start_time": "2024-06-03T20:26:21.664Z"
   },
   {
    "duration": 339,
    "start_time": "2024-06-03T20:26:42.038Z"
   },
   {
    "duration": 317,
    "start_time": "2024-06-03T20:27:07.938Z"
   },
   {
    "duration": 321,
    "start_time": "2024-06-03T20:27:39.487Z"
   },
   {
    "duration": 343,
    "start_time": "2024-06-03T20:30:10.803Z"
   },
   {
    "duration": 312,
    "start_time": "2024-06-03T20:30:24.084Z"
   },
   {
    "duration": 331,
    "start_time": "2024-06-03T20:31:39.824Z"
   },
   {
    "duration": 357,
    "start_time": "2024-06-03T20:31:45.487Z"
   },
   {
    "duration": 312,
    "start_time": "2024-06-03T20:32:29.024Z"
   },
   {
    "duration": 341,
    "start_time": "2024-06-03T20:35:13.807Z"
   },
   {
    "duration": 335,
    "start_time": "2024-06-03T20:35:36.761Z"
   },
   {
    "duration": 333,
    "start_time": "2024-06-03T20:36:29.024Z"
   },
   {
    "duration": 337,
    "start_time": "2024-06-03T20:36:46.718Z"
   },
   {
    "duration": 361,
    "start_time": "2024-06-03T20:37:27.571Z"
   },
   {
    "duration": 324,
    "start_time": "2024-06-03T20:38:53.557Z"
   },
   {
    "duration": 192,
    "start_time": "2024-06-03T20:44:21.305Z"
   },
   {
    "duration": 273,
    "start_time": "2024-06-03T20:45:27.318Z"
   },
   {
    "duration": 4771,
    "start_time": "2024-06-03T20:47:28.678Z"
   },
   {
    "duration": 4816,
    "start_time": "2024-06-03T20:47:50.082Z"
   },
   {
    "duration": 175,
    "start_time": "2024-06-03T20:49:04.384Z"
   },
   {
    "duration": 219,
    "start_time": "2024-06-03T20:56:11.933Z"
   },
   {
    "duration": 178,
    "start_time": "2024-06-03T20:56:31.093Z"
   },
   {
    "duration": 227,
    "start_time": "2024-06-03T20:57:39.365Z"
   },
   {
    "duration": 338,
    "start_time": "2024-06-03T20:59:30.763Z"
   },
   {
    "duration": 189,
    "start_time": "2024-06-03T20:59:59.344Z"
   },
   {
    "duration": 12,
    "start_time": "2024-06-03T21:00:37.793Z"
   },
   {
    "duration": 15,
    "start_time": "2024-06-03T21:01:41.740Z"
   },
   {
    "duration": 177,
    "start_time": "2024-06-03T21:06:00.180Z"
   },
   {
    "duration": 6,
    "start_time": "2024-06-03T21:06:46.224Z"
   },
   {
    "duration": 197,
    "start_time": "2024-06-03T21:06:57.242Z"
   },
   {
    "duration": 183,
    "start_time": "2024-06-03T21:07:34.556Z"
   },
   {
    "duration": 8,
    "start_time": "2024-06-03T21:09:12.102Z"
   },
   {
    "duration": 8,
    "start_time": "2024-06-03T21:09:21.538Z"
   },
   {
    "duration": 8,
    "start_time": "2024-06-03T21:09:49.979Z"
   },
   {
    "duration": 8,
    "start_time": "2024-06-03T21:09:56.634Z"
   },
   {
    "duration": 209,
    "start_time": "2024-06-03T21:10:31.540Z"
   },
   {
    "duration": 467,
    "start_time": "2024-06-03T21:15:30.378Z"
   },
   {
    "duration": 513,
    "start_time": "2024-06-03T21:15:52.720Z"
   },
   {
    "duration": 428,
    "start_time": "2024-06-03T21:16:44.324Z"
   },
   {
    "duration": 366,
    "start_time": "2024-06-03T21:19:28.840Z"
   },
   {
    "duration": 6,
    "start_time": "2024-06-03T21:25:52.362Z"
   },
   {
    "duration": 8,
    "start_time": "2024-06-03T21:26:27.779Z"
   },
   {
    "duration": 4841,
    "start_time": "2024-06-04T13:17:22.121Z"
   },
   {
    "duration": 1766,
    "start_time": "2024-06-04T13:17:26.966Z"
   },
   {
    "duration": 20,
    "start_time": "2024-06-04T13:17:28.734Z"
   },
   {
    "duration": 18,
    "start_time": "2024-06-04T13:17:28.758Z"
   },
   {
    "duration": 16,
    "start_time": "2024-06-04T13:17:28.804Z"
   },
   {
    "duration": 14,
    "start_time": "2024-06-04T13:17:32.162Z"
   },
   {
    "duration": 41,
    "start_time": "2024-06-04T13:17:32.806Z"
   },
   {
    "duration": 164,
    "start_time": "2024-06-04T13:17:37.696Z"
   },
   {
    "duration": 19,
    "start_time": "2024-06-04T13:17:40.168Z"
   },
   {
    "duration": 177,
    "start_time": "2024-06-04T13:17:43.325Z"
   },
   {
    "duration": 168,
    "start_time": "2024-06-04T13:17:43.847Z"
   },
   {
    "duration": 43,
    "start_time": "2024-06-04T13:17:44.643Z"
   },
   {
    "duration": 21,
    "start_time": "2024-06-04T13:17:46.669Z"
   },
   {
    "duration": 6,
    "start_time": "2024-06-04T13:17:47.300Z"
   },
   {
    "duration": 37,
    "start_time": "2024-06-04T13:17:47.791Z"
   },
   {
    "duration": 33,
    "start_time": "2024-06-04T13:17:48.280Z"
   },
   {
    "duration": 6,
    "start_time": "2024-06-04T13:17:50.563Z"
   },
   {
    "duration": 4,
    "start_time": "2024-06-04T13:17:50.951Z"
   },
   {
    "duration": 6,
    "start_time": "2024-06-04T13:17:52.735Z"
   },
   {
    "duration": 4,
    "start_time": "2024-06-04T13:17:53.249Z"
   },
   {
    "duration": 1368,
    "start_time": "2024-06-04T13:17:55.284Z"
   },
   {
    "duration": 426,
    "start_time": "2024-06-04T13:17:56.655Z"
   },
   {
    "duration": 18,
    "start_time": "2024-06-04T13:17:59.993Z"
   },
   {
    "duration": 8,
    "start_time": "2024-06-04T13:18:03.802Z"
   },
   {
    "duration": 10,
    "start_time": "2024-06-04T13:18:06.050Z"
   },
   {
    "duration": 11,
    "start_time": "2024-06-04T13:18:12.487Z"
   },
   {
    "duration": 17,
    "start_time": "2024-06-04T13:18:15.053Z"
   },
   {
    "duration": 11,
    "start_time": "2024-06-04T13:18:19.685Z"
   },
   {
    "duration": 37,
    "start_time": "2024-06-04T13:18:21.976Z"
   },
   {
    "duration": 28,
    "start_time": "2024-06-04T13:18:32.166Z"
   },
   {
    "duration": 60,
    "start_time": "2024-06-04T13:18:32.852Z"
   },
   {
    "duration": 14,
    "start_time": "2024-06-04T13:18:47.827Z"
   },
   {
    "duration": 8,
    "start_time": "2024-06-04T13:18:53.346Z"
   },
   {
    "duration": 85,
    "start_time": "2024-06-04T13:18:57.891Z"
   },
   {
    "duration": 26,
    "start_time": "2024-06-04T13:19:01.618Z"
   },
   {
    "duration": 27,
    "start_time": "2024-06-04T13:19:02.152Z"
   },
   {
    "duration": 374,
    "start_time": "2024-06-04T13:19:18.588Z"
   },
   {
    "duration": 221,
    "start_time": "2024-06-04T13:22:38.566Z"
   },
   {
    "duration": 456,
    "start_time": "2024-06-04T13:22:41.412Z"
   },
   {
    "duration": 349,
    "start_time": "2024-06-04T13:22:45.890Z"
   },
   {
    "duration": 322,
    "start_time": "2024-06-04T13:22:48.874Z"
   },
   {
    "duration": 429,
    "start_time": "2024-06-04T13:22:51.767Z"
   },
   {
    "duration": 39,
    "start_time": "2024-06-04T13:22:55.324Z"
   },
   {
    "duration": 378,
    "start_time": "2024-06-04T13:22:58.805Z"
   },
   {
    "duration": 203,
    "start_time": "2024-06-04T13:23:02.003Z"
   },
   {
    "duration": 8,
    "start_time": "2024-06-04T13:24:33.211Z"
   },
   {
    "duration": 7,
    "start_time": "2024-06-04T13:25:37.999Z"
   },
   {
    "duration": 155,
    "start_time": "2024-06-04T13:28:10.502Z"
   },
   {
    "duration": 178,
    "start_time": "2024-06-04T13:28:18.101Z"
   },
   {
    "duration": 162,
    "start_time": "2024-06-04T13:28:36.179Z"
   },
   {
    "duration": 165,
    "start_time": "2024-06-04T13:28:51.775Z"
   },
   {
    "duration": 71,
    "start_time": "2024-06-04T13:29:31.251Z"
   },
   {
    "duration": 352,
    "start_time": "2024-06-04T13:31:35.911Z"
   },
   {
    "duration": 209,
    "start_time": "2024-06-04T13:36:34.793Z"
   },
   {
    "duration": 13,
    "start_time": "2024-06-04T13:38:58.492Z"
   },
   {
    "duration": 150,
    "start_time": "2024-06-04T13:42:00.488Z"
   },
   {
    "duration": 56,
    "start_time": "2024-06-04T13:43:34.840Z"
   },
   {
    "duration": 713,
    "start_time": "2024-06-04T13:44:19.827Z"
   },
   {
    "duration": 1101,
    "start_time": "2024-06-04T13:47:14.033Z"
   },
   {
    "duration": 62,
    "start_time": "2024-06-04T13:52:51.971Z"
   },
   {
    "duration": 71,
    "start_time": "2024-06-04T13:53:38.312Z"
   },
   {
    "duration": 1038,
    "start_time": "2024-06-04T13:58:26.381Z"
   },
   {
    "duration": 160,
    "start_time": "2024-06-04T14:00:08.723Z"
   },
   {
    "duration": 560,
    "start_time": "2024-06-04T14:04:23.748Z"
   },
   {
    "duration": 561,
    "start_time": "2024-06-04T14:05:52.329Z"
   },
   {
    "duration": 83,
    "start_time": "2024-06-04T14:05:55.199Z"
   },
   {
    "duration": 4,
    "start_time": "2024-06-04T14:06:05.740Z"
   },
   {
    "duration": 582,
    "start_time": "2024-06-04T14:06:10.576Z"
   },
   {
    "duration": 13,
    "start_time": "2024-06-04T14:07:32.464Z"
   },
   {
    "duration": 535,
    "start_time": "2024-06-04T14:09:23.660Z"
   },
   {
    "duration": 23,
    "start_time": "2024-06-04T14:10:28.786Z"
   },
   {
    "duration": 258,
    "start_time": "2024-06-04T14:11:02.945Z"
   },
   {
    "duration": 51,
    "start_time": "2024-06-04T14:12:32.439Z"
   },
   {
    "duration": 45,
    "start_time": "2024-06-04T14:12:37.420Z"
   },
   {
    "duration": 307,
    "start_time": "2024-06-04T14:26:22.451Z"
   },
   {
    "duration": 753,
    "start_time": "2024-06-04T14:26:31.383Z"
   },
   {
    "duration": 1710,
    "start_time": "2024-06-04T14:26:32.139Z"
   },
   {
    "duration": 21,
    "start_time": "2024-06-04T14:26:33.852Z"
   },
   {
    "duration": 30,
    "start_time": "2024-06-04T14:26:33.876Z"
   },
   {
    "duration": 15,
    "start_time": "2024-06-04T14:26:33.910Z"
   },
   {
    "duration": 13,
    "start_time": "2024-06-04T14:26:34.275Z"
   },
   {
    "duration": 40,
    "start_time": "2024-06-04T14:26:35.512Z"
   },
   {
    "duration": 162,
    "start_time": "2024-06-04T14:26:39.638Z"
   },
   {
    "duration": 19,
    "start_time": "2024-06-04T14:26:41.852Z"
   },
   {
    "duration": 189,
    "start_time": "2024-06-04T14:26:44.593Z"
   },
   {
    "duration": 173,
    "start_time": "2024-06-04T14:26:45.741Z"
   },
   {
    "duration": 46,
    "start_time": "2024-06-04T14:26:47.682Z"
   },
   {
    "duration": 23,
    "start_time": "2024-06-04T14:26:49.823Z"
   },
   {
    "duration": 5,
    "start_time": "2024-06-04T14:26:51.551Z"
   },
   {
    "duration": 35,
    "start_time": "2024-06-04T14:26:52.069Z"
   },
   {
    "duration": 34,
    "start_time": "2024-06-04T14:26:52.766Z"
   },
   {
    "duration": 5,
    "start_time": "2024-06-04T14:26:55.174Z"
   },
   {
    "duration": 7,
    "start_time": "2024-06-04T14:26:55.767Z"
   },
   {
    "duration": 6,
    "start_time": "2024-06-04T14:26:57.817Z"
   },
   {
    "duration": 5,
    "start_time": "2024-06-04T14:26:58.365Z"
   },
   {
    "duration": 1368,
    "start_time": "2024-06-04T14:26:59.917Z"
   },
   {
    "duration": 436,
    "start_time": "2024-06-04T14:27:01.365Z"
   },
   {
    "duration": 17,
    "start_time": "2024-06-04T14:27:05.286Z"
   },
   {
    "duration": 8,
    "start_time": "2024-06-04T14:27:08.035Z"
   },
   {
    "duration": 8,
    "start_time": "2024-06-04T14:27:10.087Z"
   },
   {
    "duration": 10,
    "start_time": "2024-06-04T14:27:11.662Z"
   },
   {
    "duration": 17,
    "start_time": "2024-06-04T14:27:13.746Z"
   },
   {
    "duration": 9,
    "start_time": "2024-06-04T14:27:15.985Z"
   },
   {
    "duration": 37,
    "start_time": "2024-06-04T14:27:17.450Z"
   },
   {
    "duration": 27,
    "start_time": "2024-06-04T14:27:20.665Z"
   },
   {
    "duration": 50,
    "start_time": "2024-06-04T14:27:21.842Z"
   },
   {
    "duration": 13,
    "start_time": "2024-06-04T14:27:23.887Z"
   },
   {
    "duration": 8,
    "start_time": "2024-06-04T14:28:08.490Z"
   },
   {
    "duration": 85,
    "start_time": "2024-06-04T14:28:12.908Z"
   },
   {
    "duration": 28,
    "start_time": "2024-06-04T14:28:19.355Z"
   },
   {
    "duration": 29,
    "start_time": "2024-06-04T14:28:20.059Z"
   },
   {
    "duration": 365,
    "start_time": "2024-06-04T14:28:27.376Z"
   },
   {
    "duration": 242,
    "start_time": "2024-06-04T14:28:45.811Z"
   },
   {
    "duration": 395,
    "start_time": "2024-06-04T14:29:09.543Z"
   },
   {
    "duration": 402,
    "start_time": "2024-06-04T14:29:16.120Z"
   },
   {
    "duration": 316,
    "start_time": "2024-06-04T14:29:21.332Z"
   },
   {
    "duration": 514,
    "start_time": "2024-06-04T14:29:29.421Z"
   },
   {
    "duration": 429,
    "start_time": "2024-06-04T14:31:04.422Z"
   },
   {
    "duration": 53,
    "start_time": "2024-06-04T14:31:08.732Z"
   },
   {
    "duration": 366,
    "start_time": "2024-06-04T14:31:17.275Z"
   },
   {
    "duration": 51,
    "start_time": "2024-06-04T14:32:02.756Z"
   },
   {
    "duration": 42,
    "start_time": "2024-06-04T14:33:58.603Z"
   },
   {
    "duration": 55,
    "start_time": "2024-06-04T14:37:18.465Z"
   },
   {
    "duration": 49,
    "start_time": "2024-06-04T14:39:13.818Z"
   },
   {
    "duration": 190,
    "start_time": "2024-06-04T14:40:12.297Z"
   },
   {
    "duration": 459,
    "start_time": "2024-06-04T14:40:15.595Z"
   },
   {
    "duration": 71,
    "start_time": "2024-06-04T14:40:45.026Z"
   },
   {
    "duration": 517,
    "start_time": "2024-06-04T14:40:48.820Z"
   },
   {
    "duration": 25,
    "start_time": "2024-06-04T14:40:51.309Z"
   },
   {
    "duration": 459,
    "start_time": "2024-06-04T14:40:53.667Z"
   },
   {
    "duration": 6,
    "start_time": "2024-06-04T14:41:21.718Z"
   },
   {
    "duration": 6,
    "start_time": "2024-06-04T14:41:34.256Z"
   },
   {
    "duration": 5,
    "start_time": "2024-06-04T14:42:24.725Z"
   },
   {
    "duration": 93,
    "start_time": "2024-06-04T14:42:37.797Z"
   },
   {
    "duration": 261,
    "start_time": "2024-06-04T14:42:57.782Z"
   },
   {
    "duration": 249,
    "start_time": "2024-06-04T14:44:53.360Z"
   },
   {
    "duration": 275,
    "start_time": "2024-06-04T14:45:10.543Z"
   },
   {
    "duration": 565,
    "start_time": "2024-06-04T14:47:56.057Z"
   },
   {
    "duration": 567,
    "start_time": "2024-06-04T14:48:27.017Z"
   },
   {
    "duration": 323,
    "start_time": "2024-06-04T14:50:02.483Z"
   },
   {
    "duration": 478,
    "start_time": "2024-06-04T14:53:28.825Z"
   },
   {
    "duration": 465,
    "start_time": "2024-06-04T14:53:37.566Z"
   },
   {
    "duration": 470,
    "start_time": "2024-06-04T14:54:22.913Z"
   },
   {
    "duration": 463,
    "start_time": "2024-06-04T14:54:35.338Z"
   },
   {
    "duration": 462,
    "start_time": "2024-06-04T14:54:44.845Z"
   },
   {
    "duration": 38,
    "start_time": "2024-06-04T14:56:28.198Z"
   },
   {
    "duration": 27,
    "start_time": "2024-06-04T14:57:15.736Z"
   },
   {
    "duration": 28,
    "start_time": "2024-06-04T15:02:12.758Z"
   },
   {
    "duration": 261,
    "start_time": "2024-06-04T15:04:12.633Z"
   },
   {
    "duration": 129,
    "start_time": "2024-06-04T15:08:20.182Z"
   },
   {
    "duration": 1575,
    "start_time": "2024-06-04T15:09:39.736Z"
   },
   {
    "duration": 6,
    "start_time": "2024-06-04T15:09:58.815Z"
   },
   {
    "duration": 166,
    "start_time": "2024-06-04T15:10:38.995Z"
   },
   {
    "duration": 82,
    "start_time": "2024-06-04T15:11:57.616Z"
   },
   {
    "duration": 11,
    "start_time": "2024-06-04T15:18:14.363Z"
   },
   {
    "duration": 84,
    "start_time": "2024-06-04T15:19:16.565Z"
   },
   {
    "duration": 73,
    "start_time": "2024-06-04T15:19:33.867Z"
   },
   {
    "duration": 71,
    "start_time": "2024-06-04T15:19:44.257Z"
   },
   {
    "duration": 17,
    "start_time": "2024-06-04T15:20:00.023Z"
   },
   {
    "duration": 3,
    "start_time": "2024-06-04T15:23:04.180Z"
   },
   {
    "duration": 501,
    "start_time": "2024-06-04T15:26:40.968Z"
   },
   {
    "duration": 73,
    "start_time": "2024-06-04T15:28:29.270Z"
   },
   {
    "duration": 865,
    "start_time": "2024-06-04T15:34:06.390Z"
   },
   {
    "duration": 577,
    "start_time": "2024-06-04T15:34:18.165Z"
   },
   {
    "duration": 201,
    "start_time": "2024-06-04T15:34:46.031Z"
   },
   {
    "duration": 184,
    "start_time": "2024-06-04T15:36:11.086Z"
   },
   {
    "duration": 207,
    "start_time": "2024-06-04T15:37:06.572Z"
   },
   {
    "duration": 15,
    "start_time": "2024-06-04T15:39:29.385Z"
   },
   {
    "duration": 614,
    "start_time": "2024-06-04T15:40:16.178Z"
   },
   {
    "duration": 7,
    "start_time": "2024-06-04T15:40:47.028Z"
   },
   {
    "duration": 75,
    "start_time": "2024-06-04T15:41:12.052Z"
   },
   {
    "duration": 262,
    "start_time": "2024-06-04T15:41:32.170Z"
   },
   {
    "duration": 14,
    "start_time": "2024-06-04T15:42:10.037Z"
   },
   {
    "duration": 33,
    "start_time": "2024-06-04T15:44:57.599Z"
   },
   {
    "duration": 26,
    "start_time": "2024-06-04T15:48:40.569Z"
   },
   {
    "duration": 375,
    "start_time": "2024-06-04T15:48:50.618Z"
   },
   {
    "duration": 353,
    "start_time": "2024-06-04T15:49:19.784Z"
   },
   {
    "duration": 22,
    "start_time": "2024-06-04T16:05:19.485Z"
   },
   {
    "duration": 53,
    "start_time": "2024-06-04T16:05:27.477Z"
   },
   {
    "duration": 1233,
    "start_time": "2024-06-04T16:08:51.159Z"
   },
   {
    "duration": 1258,
    "start_time": "2024-06-04T16:10:11.827Z"
   },
   {
    "duration": 1906,
    "start_time": "2024-06-04T16:10:45.504Z"
   },
   {
    "duration": 1386,
    "start_time": "2024-06-04T16:11:15.792Z"
   },
   {
    "duration": 1264,
    "start_time": "2024-06-04T16:11:23.949Z"
   },
   {
    "duration": 1254,
    "start_time": "2024-06-04T16:11:31.363Z"
   },
   {
    "duration": 1238,
    "start_time": "2024-06-04T16:11:39.388Z"
   },
   {
    "duration": 1361,
    "start_time": "2024-06-04T16:13:17.022Z"
   },
   {
    "duration": 1242,
    "start_time": "2024-06-04T16:13:41.183Z"
   },
   {
    "duration": 1303,
    "start_time": "2024-06-04T16:13:55.978Z"
   },
   {
    "duration": 1238,
    "start_time": "2024-06-04T16:14:07.326Z"
   },
   {
    "duration": 1246,
    "start_time": "2024-06-04T16:17:08.016Z"
   },
   {
    "duration": 1238,
    "start_time": "2024-06-04T16:17:56.518Z"
   },
   {
    "duration": 1247,
    "start_time": "2024-06-04T16:18:05.999Z"
   },
   {
    "duration": 1237,
    "start_time": "2024-06-04T16:18:16.255Z"
   },
   {
    "duration": 1252,
    "start_time": "2024-06-04T16:18:31.063Z"
   },
   {
    "duration": 1226,
    "start_time": "2024-06-04T16:18:40.898Z"
   },
   {
    "duration": 1274,
    "start_time": "2024-06-04T16:18:56.077Z"
   },
   {
    "duration": 1249,
    "start_time": "2024-06-04T16:19:06.379Z"
   },
   {
    "duration": 1248,
    "start_time": "2024-06-04T18:45:44.556Z"
   },
   {
    "duration": 14,
    "start_time": "2024-06-04T18:46:28.927Z"
   },
   {
    "duration": 16,
    "start_time": "2024-06-04T18:46:41.193Z"
   },
   {
    "duration": 16,
    "start_time": "2024-06-04T19:16:27.243Z"
   },
   {
    "duration": 20,
    "start_time": "2024-06-04T19:18:15.130Z"
   },
   {
    "duration": 22,
    "start_time": "2024-06-04T19:18:42.494Z"
   },
   {
    "duration": 38,
    "start_time": "2024-06-04T19:19:02.715Z"
   },
   {
    "duration": 1403,
    "start_time": "2024-06-04T19:23:54.584Z"
   },
   {
    "duration": 2549,
    "start_time": "2024-06-04T19:27:01.117Z"
   },
   {
    "duration": 26,
    "start_time": "2024-06-04T19:30:12.545Z"
   },
   {
    "duration": 1708,
    "start_time": "2024-06-04T19:31:10.147Z"
   },
   {
    "duration": 1404,
    "start_time": "2024-06-04T19:31:32.347Z"
   },
   {
    "duration": 2496,
    "start_time": "2024-06-04T19:31:43.614Z"
   },
   {
    "duration": 15,
    "start_time": "2024-06-04T19:36:39.838Z"
   },
   {
    "duration": 541,
    "start_time": "2024-06-04T19:39:01.066Z"
   },
   {
    "duration": 72,
    "start_time": "2024-06-04T19:39:28.812Z"
   },
   {
    "duration": 20,
    "start_time": "2024-06-04T19:39:47.836Z"
   },
   {
    "duration": 18,
    "start_time": "2024-06-04T19:40:55.395Z"
   },
   {
    "duration": 29,
    "start_time": "2024-06-04T19:44:14.450Z"
   },
   {
    "duration": 19,
    "start_time": "2024-06-04T19:44:24.046Z"
   },
   {
    "duration": 7,
    "start_time": "2024-06-04T19:50:22.969Z"
   },
   {
    "duration": 9,
    "start_time": "2024-06-04T19:50:40.771Z"
   },
   {
    "duration": 5,
    "start_time": "2024-06-04T19:51:36.226Z"
   },
   {
    "duration": 4,
    "start_time": "2024-06-04T19:51:50.085Z"
   },
   {
    "duration": 7,
    "start_time": "2024-06-04T19:52:02.631Z"
   },
   {
    "duration": 88,
    "start_time": "2024-06-04T19:54:21.446Z"
   },
   {
    "duration": 212,
    "start_time": "2024-06-04T19:58:08.074Z"
   },
   {
    "duration": 218,
    "start_time": "2024-06-04T19:59:04.274Z"
   },
   {
    "duration": 3,
    "start_time": "2024-06-04T20:00:25.288Z"
   },
   {
    "duration": 597,
    "start_time": "2024-06-04T20:04:06.858Z"
   },
   {
    "duration": 1018,
    "start_time": "2024-06-04T20:06:02.173Z"
   },
   {
    "duration": 19,
    "start_time": "2024-06-04T20:10:58.331Z"
   },
   {
    "duration": 25,
    "start_time": "2024-06-04T20:12:25.773Z"
   },
   {
    "duration": 26,
    "start_time": "2024-06-04T20:13:41.716Z"
   },
   {
    "duration": 19,
    "start_time": "2024-06-04T20:14:00.068Z"
   },
   {
    "duration": 20,
    "start_time": "2024-06-04T20:15:16.323Z"
   },
   {
    "duration": 21,
    "start_time": "2024-06-04T20:15:24.562Z"
   },
   {
    "duration": 23,
    "start_time": "2024-06-04T20:19:35.979Z"
   },
   {
    "duration": 27,
    "start_time": "2024-06-04T20:20:28.466Z"
   },
   {
    "duration": 37,
    "start_time": "2024-06-04T20:29:33.319Z"
   },
   {
    "duration": 37,
    "start_time": "2024-06-04T20:30:15.393Z"
   },
   {
    "duration": 89,
    "start_time": "2024-06-04T20:44:37.832Z"
   },
   {
    "duration": 5,
    "start_time": "2024-06-04T20:49:28.299Z"
   },
   {
    "duration": 63,
    "start_time": "2024-06-04T20:49:40.886Z"
   },
   {
    "duration": 8,
    "start_time": "2024-06-04T20:50:27.511Z"
   },
   {
    "duration": 9,
    "start_time": "2024-06-04T20:50:41.781Z"
   },
   {
    "duration": 406,
    "start_time": "2024-06-04T20:51:29.548Z"
   },
   {
    "duration": 61,
    "start_time": "2024-06-04T20:51:47.692Z"
   },
   {
    "duration": 191,
    "start_time": "2024-06-04T20:56:56.034Z"
   },
   {
    "duration": 423,
    "start_time": "2024-06-04T20:57:40.293Z"
   },
   {
    "duration": 65,
    "start_time": "2024-06-04T20:57:58.600Z"
   },
   {
    "duration": 1193,
    "start_time": "2024-06-04T21:03:30.599Z"
   },
   {
    "duration": 1843,
    "start_time": "2024-06-04T21:08:05.997Z"
   },
   {
    "duration": 1354,
    "start_time": "2024-06-04T21:13:21.495Z"
   },
   {
    "duration": 1334,
    "start_time": "2024-06-04T21:17:13.113Z"
   },
   {
    "duration": 1361,
    "start_time": "2024-06-04T21:17:44.305Z"
   },
   {
    "duration": 3956,
    "start_time": "2024-06-04T21:21:41.889Z"
   },
   {
    "duration": 4074,
    "start_time": "2024-06-04T21:22:50.900Z"
   },
   {
    "duration": 3808,
    "start_time": "2024-06-04T21:23:12.044Z"
   },
   {
    "duration": 3956,
    "start_time": "2024-06-04T21:27:15.755Z"
   },
   {
    "duration": 358,
    "start_time": "2024-06-04T21:36:03.077Z"
   },
   {
    "duration": 466,
    "start_time": "2024-06-04T21:40:25.651Z"
   },
   {
    "duration": 51,
    "start_time": "2024-06-04T21:44:31.782Z"
   },
   {
    "duration": 17,
    "start_time": "2024-06-04T21:47:44.105Z"
   },
   {
    "duration": 18,
    "start_time": "2024-06-04T21:48:54.907Z"
   },
   {
    "duration": 8,
    "start_time": "2024-06-04T21:50:15.586Z"
   },
   {
    "duration": 17,
    "start_time": "2024-06-04T21:51:21.459Z"
   },
   {
    "duration": 11,
    "start_time": "2024-06-04T21:51:43.637Z"
   },
   {
    "duration": 48,
    "start_time": "2024-06-04T21:53:48.586Z"
   },
   {
    "duration": 35,
    "start_time": "2024-06-04T21:54:14.839Z"
   },
   {
    "duration": 14,
    "start_time": "2024-06-04T21:56:53.790Z"
   },
   {
    "duration": 1113,
    "start_time": "2024-06-04T22:01:06.863Z"
   },
   {
    "duration": 1072,
    "start_time": "2024-06-04T22:01:44.134Z"
   },
   {
    "duration": 1120,
    "start_time": "2024-06-04T22:06:22.181Z"
   },
   {
    "duration": 1351,
    "start_time": "2024-06-04T22:06:48.113Z"
   },
   {
    "duration": 2036,
    "start_time": "2024-06-04T22:18:13.595Z"
   },
   {
    "duration": 13,
    "start_time": "2024-06-04T22:23:15.120Z"
   },
   {
    "duration": 8,
    "start_time": "2024-06-04T22:23:57.834Z"
   },
   {
    "duration": 86,
    "start_time": "2024-06-04T22:24:41.891Z"
   },
   {
    "duration": 22,
    "start_time": "2024-06-04T22:28:10.047Z"
   },
   {
    "duration": 25,
    "start_time": "2024-06-04T22:28:39.796Z"
   },
   {
    "duration": 11,
    "start_time": "2024-06-04T22:28:47.499Z"
   },
   {
    "duration": 24,
    "start_time": "2024-06-04T22:30:37.561Z"
   },
   {
    "duration": 426,
    "start_time": "2024-06-04T22:37:18.212Z"
   },
   {
    "duration": 402,
    "start_time": "2024-06-04T22:37:47.687Z"
   },
   {
    "duration": 4282,
    "start_time": "2024-06-05T13:06:50.295Z"
   },
   {
    "duration": 1714,
    "start_time": "2024-06-05T13:06:54.581Z"
   },
   {
    "duration": 19,
    "start_time": "2024-06-05T13:06:56.297Z"
   },
   {
    "duration": 29,
    "start_time": "2024-06-05T13:06:56.320Z"
   },
   {
    "duration": 13,
    "start_time": "2024-06-05T13:06:56.352Z"
   },
   {
    "duration": 15,
    "start_time": "2024-06-05T13:06:56.368Z"
   },
   {
    "duration": 78,
    "start_time": "2024-06-05T13:06:56.386Z"
   },
   {
    "duration": 155,
    "start_time": "2024-06-05T13:07:12.484Z"
   },
   {
    "duration": 17,
    "start_time": "2024-06-05T13:07:14.994Z"
   },
   {
    "duration": 193,
    "start_time": "2024-06-05T13:07:24.528Z"
   },
   {
    "duration": 193,
    "start_time": "2024-06-05T13:07:25.194Z"
   },
   {
    "duration": 47,
    "start_time": "2024-06-05T13:07:26.916Z"
   },
   {
    "duration": 21,
    "start_time": "2024-06-05T13:07:29.215Z"
   },
   {
    "duration": 5,
    "start_time": "2024-06-05T13:07:29.885Z"
   },
   {
    "duration": 39,
    "start_time": "2024-06-05T13:07:30.424Z"
   },
   {
    "duration": 36,
    "start_time": "2024-06-05T13:07:30.962Z"
   },
   {
    "duration": 5,
    "start_time": "2024-06-05T13:07:33.346Z"
   },
   {
    "duration": 4,
    "start_time": "2024-06-05T13:07:33.894Z"
   },
   {
    "duration": 6,
    "start_time": "2024-06-05T13:07:36.028Z"
   },
   {
    "duration": 4,
    "start_time": "2024-06-05T13:07:37.335Z"
   },
   {
    "duration": 1340,
    "start_time": "2024-06-05T13:07:39.513Z"
   },
   {
    "duration": 415,
    "start_time": "2024-06-05T13:07:40.857Z"
   },
   {
    "duration": 23,
    "start_time": "2024-06-05T13:08:32.825Z"
   },
   {
    "duration": 8,
    "start_time": "2024-06-05T13:08:34.998Z"
   },
   {
    "duration": 8,
    "start_time": "2024-06-05T13:08:42.730Z"
   },
   {
    "duration": 11,
    "start_time": "2024-06-05T13:08:44.430Z"
   },
   {
    "duration": 16,
    "start_time": "2024-06-05T13:08:46.448Z"
   },
   {
    "duration": 10,
    "start_time": "2024-06-05T13:09:00.050Z"
   },
   {
    "duration": 38,
    "start_time": "2024-06-05T13:09:06.135Z"
   },
   {
    "duration": 28,
    "start_time": "2024-06-05T13:09:13.022Z"
   },
   {
    "duration": 48,
    "start_time": "2024-06-05T13:09:16.304Z"
   },
   {
    "duration": 15,
    "start_time": "2024-06-05T13:09:23.887Z"
   },
   {
    "duration": 15,
    "start_time": "2024-06-05T13:09:49.988Z"
   },
   {
    "duration": 8,
    "start_time": "2024-06-05T13:09:56.754Z"
   },
   {
    "duration": 84,
    "start_time": "2024-06-05T13:10:00.789Z"
   },
   {
    "duration": 421,
    "start_time": "2024-06-05T13:10:20.984Z"
   },
   {
    "duration": 29,
    "start_time": "2024-06-05T13:10:23.881Z"
   },
   {
    "duration": 28,
    "start_time": "2024-06-05T13:10:25.610Z"
   },
   {
    "duration": 361,
    "start_time": "2024-06-05T13:10:34.656Z"
   },
   {
    "duration": 211,
    "start_time": "2024-06-05T13:10:53.949Z"
   },
   {
    "duration": 367,
    "start_time": "2024-06-05T13:12:09.395Z"
   },
   {
    "duration": 1338,
    "start_time": "2024-06-05T13:16:07.840Z"
   },
   {
    "duration": 452,
    "start_time": "2024-06-05T13:16:28.411Z"
   },
   {
    "duration": 406,
    "start_time": "2024-06-05T13:19:11.644Z"
   },
   {
    "duration": 492,
    "start_time": "2024-06-05T13:19:58.973Z"
   },
   {
    "duration": 242,
    "start_time": "2024-06-05T13:30:51.948Z"
   },
   {
    "duration": 312,
    "start_time": "2024-06-05T13:35:36.644Z"
   },
   {
    "duration": 493,
    "start_time": "2024-06-05T13:36:37.284Z"
   },
   {
    "duration": 474,
    "start_time": "2024-06-05T13:37:33.114Z"
   },
   {
    "duration": 406,
    "start_time": "2024-06-05T13:37:52.680Z"
   },
   {
    "duration": 266,
    "start_time": "2024-06-05T13:39:14.572Z"
   },
   {
    "duration": 276,
    "start_time": "2024-06-05T13:41:34.317Z"
   },
   {
    "duration": 292,
    "start_time": "2024-06-05T13:42:12.484Z"
   },
   {
    "duration": 283,
    "start_time": "2024-06-05T13:42:31.474Z"
   },
   {
    "duration": 296,
    "start_time": "2024-06-05T13:43:05.434Z"
   },
   {
    "duration": 316,
    "start_time": "2024-06-05T13:46:02.971Z"
   },
   {
    "duration": 415,
    "start_time": "2024-06-05T13:47:01.293Z"
   },
   {
    "duration": 48,
    "start_time": "2024-06-05T13:51:25.804Z"
   },
   {
    "duration": 48,
    "start_time": "2024-06-05T13:55:22.151Z"
   },
   {
    "duration": 48,
    "start_time": "2024-06-05T13:56:23.749Z"
   },
   {
    "duration": 57,
    "start_time": "2024-06-05T13:57:42.939Z"
   },
   {
    "duration": 47,
    "start_time": "2024-06-05T13:58:33.339Z"
   },
   {
    "duration": 933,
    "start_time": "2024-06-05T14:02:56.953Z"
   },
   {
    "duration": 47,
    "start_time": "2024-06-05T14:03:01.199Z"
   },
   {
    "duration": 102,
    "start_time": "2024-06-05T14:03:04.226Z"
   },
   {
    "duration": 398,
    "start_time": "2024-06-05T14:03:26.398Z"
   },
   {
    "duration": 189,
    "start_time": "2024-06-05T14:03:30.704Z"
   },
   {
    "duration": 450,
    "start_time": "2024-06-05T14:03:34.281Z"
   },
   {
    "duration": 524,
    "start_time": "2024-06-05T14:03:46.289Z"
   },
   {
    "duration": 26,
    "start_time": "2024-06-05T14:08:21.377Z"
   },
   {
    "duration": 27,
    "start_time": "2024-06-05T14:08:45.673Z"
   },
   {
    "duration": 100,
    "start_time": "2024-06-05T14:09:39.332Z"
   },
   {
    "duration": 95,
    "start_time": "2024-06-05T14:10:01.788Z"
   },
   {
    "duration": 33,
    "start_time": "2024-06-05T14:14:39.097Z"
   },
   {
    "duration": 35,
    "start_time": "2024-06-05T14:14:51.272Z"
   },
   {
    "duration": 28,
    "start_time": "2024-06-05T14:15:07.233Z"
   },
   {
    "duration": 279,
    "start_time": "2024-06-05T14:33:26.786Z"
   },
   {
    "duration": 24,
    "start_time": "2024-06-05T14:36:51.699Z"
   },
   {
    "duration": 30,
    "start_time": "2024-06-05T14:40:23.256Z"
   },
   {
    "duration": 15,
    "start_time": "2024-06-05T14:40:37.044Z"
   },
   {
    "duration": 96,
    "start_time": "2024-06-05T14:41:01.291Z"
   },
   {
    "duration": 376,
    "start_time": "2024-06-05T14:41:09.058Z"
   },
   {
    "duration": 221,
    "start_time": "2024-06-05T14:41:54.463Z"
   },
   {
    "duration": 27,
    "start_time": "2024-06-05T14:42:09.114Z"
   },
   {
    "duration": 15,
    "start_time": "2024-06-05T14:42:15.833Z"
   },
   {
    "duration": 442,
    "start_time": "2024-06-05T14:42:21.694Z"
   },
   {
    "duration": 251,
    "start_time": "2024-06-05T14:57:12.647Z"
   },
   {
    "duration": 251,
    "start_time": "2024-06-05T14:57:23.908Z"
   },
   {
    "duration": 246,
    "start_time": "2024-06-05T14:57:45.541Z"
   },
   {
    "duration": 243,
    "start_time": "2024-06-05T14:57:56.510Z"
   },
   {
    "duration": 229,
    "start_time": "2024-06-05T14:59:03.146Z"
   },
   {
    "duration": 231,
    "start_time": "2024-06-05T14:59:40.290Z"
   },
   {
    "duration": 243,
    "start_time": "2024-06-05T14:59:58.958Z"
   },
   {
    "duration": 241,
    "start_time": "2024-06-05T15:00:05.336Z"
   },
   {
    "duration": 221,
    "start_time": "2024-06-05T15:01:40.181Z"
   },
   {
    "duration": 16,
    "start_time": "2024-06-05T15:04:44.781Z"
   },
   {
    "duration": 12,
    "start_time": "2024-06-05T15:04:53.761Z"
   },
   {
    "duration": 14,
    "start_time": "2024-06-05T15:09:44.404Z"
   },
   {
    "duration": 19,
    "start_time": "2024-06-05T15:10:02.821Z"
   },
   {
    "duration": 31,
    "start_time": "2024-06-05T15:10:11.063Z"
   },
   {
    "duration": 225,
    "start_time": "2024-06-05T15:12:10.934Z"
   },
   {
    "duration": 245,
    "start_time": "2024-06-05T15:13:01.719Z"
   },
   {
    "duration": 2003,
    "start_time": "2024-06-05T15:20:24.150Z"
   },
   {
    "duration": 18,
    "start_time": "2024-06-05T15:21:05.214Z"
   },
   {
    "duration": 47,
    "start_time": "2024-06-05T15:22:34.607Z"
   },
   {
    "duration": 2016,
    "start_time": "2024-06-05T15:26:02.662Z"
   },
   {
    "duration": 51,
    "start_time": "2024-06-05T15:26:08.124Z"
   },
   {
    "duration": 25,
    "start_time": "2024-06-05T15:29:26.241Z"
   },
   {
    "duration": 26,
    "start_time": "2024-06-05T15:30:01.405Z"
   },
   {
    "duration": 20,
    "start_time": "2024-06-05T15:31:56.645Z"
   },
   {
    "duration": 42,
    "start_time": "2024-06-05T15:33:03.640Z"
   },
   {
    "duration": 45,
    "start_time": "2024-06-05T15:33:05.934Z"
   },
   {
    "duration": 25,
    "start_time": "2024-06-05T15:37:03.556Z"
   },
   {
    "duration": 15,
    "start_time": "2024-06-05T15:38:59.324Z"
   },
   {
    "duration": 19,
    "start_time": "2024-06-05T15:40:55.407Z"
   },
   {
    "duration": 17,
    "start_time": "2024-06-05T15:41:13.437Z"
   },
   {
    "duration": 16,
    "start_time": "2024-06-05T15:41:51.049Z"
   },
   {
    "duration": 16,
    "start_time": "2024-06-05T15:43:04.753Z"
   },
   {
    "duration": 358,
    "start_time": "2024-06-05T15:53:53.000Z"
   },
   {
    "duration": 384,
    "start_time": "2024-06-05T15:54:21.544Z"
   },
   {
    "duration": 370,
    "start_time": "2024-06-05T15:54:55.540Z"
   },
   {
    "duration": 345,
    "start_time": "2024-06-05T15:55:04.076Z"
   },
   {
    "duration": 357,
    "start_time": "2024-06-05T15:55:22.348Z"
   },
   {
    "duration": 390,
    "start_time": "2024-06-05T15:55:47.012Z"
   },
   {
    "duration": 351,
    "start_time": "2024-06-05T15:56:08.931Z"
   },
   {
    "duration": 177,
    "start_time": "2024-06-05T15:58:55.413Z"
   },
   {
    "duration": 194,
    "start_time": "2024-06-05T15:59:20.933Z"
   },
   {
    "duration": 179,
    "start_time": "2024-06-05T15:59:45.020Z"
   },
   {
    "duration": 194,
    "start_time": "2024-06-05T16:00:13.598Z"
   },
   {
    "duration": 191,
    "start_time": "2024-06-05T16:00:33.633Z"
   },
   {
    "duration": 372,
    "start_time": "2024-06-05T16:00:41.615Z"
   },
   {
    "duration": 623,
    "start_time": "2024-06-05T16:25:11.754Z"
   },
   {
    "duration": 546,
    "start_time": "2024-06-05T16:26:15.427Z"
   },
   {
    "duration": 10,
    "start_time": "2024-06-05T16:35:19.998Z"
   },
   {
    "duration": 18,
    "start_time": "2024-06-06T13:46:47.578Z"
   },
   {
    "duration": 336,
    "start_time": "2024-06-06T14:18:00.780Z"
   },
   {
    "duration": 4852,
    "start_time": "2024-06-06T14:18:11.475Z"
   },
   {
    "duration": 1781,
    "start_time": "2024-06-06T14:18:16.332Z"
   },
   {
    "duration": 19,
    "start_time": "2024-06-06T14:18:20.950Z"
   },
   {
    "duration": 16,
    "start_time": "2024-06-06T14:18:23.722Z"
   },
   {
    "duration": 17,
    "start_time": "2024-06-06T14:18:25.909Z"
   },
   {
    "duration": 19,
    "start_time": "2024-06-06T14:18:28.046Z"
   },
   {
    "duration": 51,
    "start_time": "2024-06-06T14:18:29.690Z"
   },
   {
    "duration": 170,
    "start_time": "2024-06-06T14:18:33.235Z"
   },
   {
    "duration": 18,
    "start_time": "2024-06-06T14:18:36.144Z"
   },
   {
    "duration": 219,
    "start_time": "2024-06-06T14:18:39.775Z"
   },
   {
    "duration": 182,
    "start_time": "2024-06-06T14:18:43.938Z"
   },
   {
    "duration": 54,
    "start_time": "2024-06-06T14:18:46.697Z"
   },
   {
    "duration": 26,
    "start_time": "2024-06-06T14:18:49.114Z"
   },
   {
    "duration": 6,
    "start_time": "2024-06-06T14:18:51.262Z"
   },
   {
    "duration": 41,
    "start_time": "2024-06-06T14:18:53.564Z"
   },
   {
    "duration": 65,
    "start_time": "2024-06-06T14:18:56.129Z"
   },
   {
    "duration": 7,
    "start_time": "2024-06-06T14:19:55.430Z"
   },
   {
    "duration": 6,
    "start_time": "2024-06-06T14:19:56.596Z"
   },
   {
    "duration": 6,
    "start_time": "2024-06-06T14:19:59.498Z"
   },
   {
    "duration": 7,
    "start_time": "2024-06-06T14:20:00.143Z"
   },
   {
    "duration": 1614,
    "start_time": "2024-06-06T14:20:01.988Z"
   },
   {
    "duration": 531,
    "start_time": "2024-06-06T14:20:03.606Z"
   },
   {
    "duration": 20,
    "start_time": "2024-06-06T14:20:11.309Z"
   },
   {
    "duration": 13,
    "start_time": "2024-06-06T14:20:13.817Z"
   },
   {
    "duration": 8,
    "start_time": "2024-06-06T14:20:16.020Z"
   },
   {
    "duration": 12,
    "start_time": "2024-06-06T14:20:17.774Z"
   },
   {
    "duration": 18,
    "start_time": "2024-06-06T14:20:21.586Z"
   },
   {
    "duration": 10,
    "start_time": "2024-06-06T14:20:27.902Z"
   },
   {
    "duration": 42,
    "start_time": "2024-06-06T14:20:29.466Z"
   },
   {
    "duration": 30,
    "start_time": "2024-06-06T14:20:33.214Z"
   },
   {
    "duration": 63,
    "start_time": "2024-06-06T14:20:34.762Z"
   },
   {
    "duration": 15,
    "start_time": "2024-06-06T14:20:36.896Z"
   },
   {
    "duration": 9,
    "start_time": "2024-06-06T14:20:39.573Z"
   },
   {
    "duration": 99,
    "start_time": "2024-06-06T14:20:41.402Z"
   },
   {
    "duration": 95,
    "start_time": "2024-06-06T14:24:35.627Z"
   },
   {
    "duration": 75,
    "start_time": "2024-06-06T14:30:20.531Z"
   },
   {
    "duration": 25,
    "start_time": "2024-06-06T14:30:24.374Z"
   },
   {
    "duration": 28,
    "start_time": "2024-06-06T14:30:26.020Z"
   },
   {
    "duration": 384,
    "start_time": "2024-06-06T14:30:29.053Z"
   },
   {
    "duration": 256,
    "start_time": "2024-06-06T14:30:36.924Z"
   },
   {
    "duration": 336,
    "start_time": "2024-06-06T14:30:41.104Z"
   },
   {
    "duration": 338,
    "start_time": "2024-06-06T14:30:48.043Z"
   },
   {
    "duration": 359,
    "start_time": "2024-06-06T14:30:51.212Z"
   },
   {
    "duration": 54,
    "start_time": "2024-06-06T14:31:00.314Z"
   },
   {
    "duration": 344,
    "start_time": "2024-06-06T14:31:05.250Z"
   },
   {
    "duration": 219,
    "start_time": "2024-06-06T14:31:08.755Z"
   },
   {
    "duration": 628,
    "start_time": "2024-06-06T14:31:21.525Z"
   },
   {
    "duration": 32,
    "start_time": "2024-06-06T14:31:24.445Z"
   },
   {
    "duration": 296,
    "start_time": "2024-06-06T14:31:26.456Z"
   },
   {
    "duration": 327,
    "start_time": "2024-06-06T14:31:30.169Z"
   },
   {
    "duration": 29,
    "start_time": "2024-06-06T14:31:32.785Z"
   },
   {
    "duration": 16,
    "start_time": "2024-06-06T14:31:35.777Z"
   },
   {
    "duration": 375,
    "start_time": "2024-06-06T14:31:38.401Z"
   },
   {
    "duration": 304,
    "start_time": "2024-06-06T14:31:41.453Z"
   },
   {
    "duration": 143,
    "start_time": "2024-06-06T14:31:44.740Z"
   },
   {
    "duration": 2214,
    "start_time": "2024-06-06T14:31:49.155Z"
   },
   {
    "duration": 91,
    "start_time": "2024-06-06T14:31:53.769Z"
   },
   {
    "duration": 53,
    "start_time": "2024-06-06T14:31:58.570Z"
   },
   {
    "duration": 44,
    "start_time": "2024-06-06T14:32:02.168Z"
   },
   {
    "duration": 16,
    "start_time": "2024-06-06T14:32:04.705Z"
   },
   {
    "duration": 67,
    "start_time": "2024-06-06T14:39:12.378Z"
   },
   {
    "duration": 67,
    "start_time": "2024-06-06T14:39:26.247Z"
   },
   {
    "duration": 52,
    "start_time": "2024-06-06T14:42:48.389Z"
   },
   {
    "duration": 49,
    "start_time": "2024-06-06T14:43:32.113Z"
   },
   {
    "duration": 46,
    "start_time": "2024-06-06T14:45:54.717Z"
   },
   {
    "duration": 8,
    "start_time": "2024-06-06T14:49:49.158Z"
   },
   {
    "duration": 8,
    "start_time": "2024-06-06T14:50:00.086Z"
   },
   {
    "duration": 6,
    "start_time": "2024-06-06T14:50:11.799Z"
   },
   {
    "duration": 7,
    "start_time": "2024-06-06T14:50:37.803Z"
   },
   {
    "duration": 9,
    "start_time": "2024-06-06T14:57:06.415Z"
   },
   {
    "duration": 6,
    "start_time": "2024-06-06T14:57:28.958Z"
   },
   {
    "duration": 650,
    "start_time": "2024-06-06T14:57:42.319Z"
   },
   {
    "duration": 88,
    "start_time": "2024-06-06T14:58:07.096Z"
   },
   {
    "duration": 27,
    "start_time": "2024-06-06T14:58:29.109Z"
   },
   {
    "duration": 31,
    "start_time": "2024-06-06T14:58:45.110Z"
   },
   {
    "duration": 33,
    "start_time": "2024-06-06T14:59:10.205Z"
   },
   {
    "duration": 36,
    "start_time": "2024-06-06T14:59:34.407Z"
   },
   {
    "duration": 36,
    "start_time": "2024-06-06T15:00:20.350Z"
   },
   {
    "duration": 4441,
    "start_time": "2024-06-07T14:27:48.198Z"
   },
   {
    "duration": 1762,
    "start_time": "2024-06-07T14:27:52.643Z"
   },
   {
    "duration": 26,
    "start_time": "2024-06-07T14:27:54.411Z"
   },
   {
    "duration": 18,
    "start_time": "2024-06-07T14:27:54.916Z"
   },
   {
    "duration": 15,
    "start_time": "2024-06-07T14:27:56.088Z"
   },
   {
    "duration": 16,
    "start_time": "2024-06-07T14:27:58.180Z"
   },
   {
    "duration": 46,
    "start_time": "2024-06-07T14:28:00.064Z"
   },
   {
    "duration": 218,
    "start_time": "2024-06-07T14:28:03.285Z"
   },
   {
    "duration": 21,
    "start_time": "2024-06-07T14:28:05.167Z"
   },
   {
    "duration": 189,
    "start_time": "2024-06-07T14:28:07.529Z"
   },
   {
    "duration": 177,
    "start_time": "2024-06-07T14:28:08.495Z"
   },
   {
    "duration": 51,
    "start_time": "2024-06-07T14:28:10.321Z"
   },
   {
    "duration": 25,
    "start_time": "2024-06-07T14:28:12.838Z"
   },
   {
    "duration": 6,
    "start_time": "2024-06-07T14:28:20.018Z"
   },
   {
    "duration": 427,
    "start_time": "2024-06-07T14:36:05.103Z"
   },
   {
    "duration": 48,
    "start_time": "2024-06-07T14:36:15.168Z"
   },
   {
    "duration": 69,
    "start_time": "2024-06-07T14:36:48.944Z"
   },
   {
    "duration": 51,
    "start_time": "2024-06-07T14:37:17.973Z"
   },
   {
    "duration": 50,
    "start_time": "2024-06-07T14:37:33.229Z"
   },
   {
    "duration": 38,
    "start_time": "2024-06-07T14:44:48.103Z"
   },
   {
    "duration": 16,
    "start_time": "2024-06-07T14:46:11.337Z"
   },
   {
    "duration": 40,
    "start_time": "2024-06-07T14:47:27.758Z"
   },
   {
    "duration": 45,
    "start_time": "2024-06-07T14:48:38.938Z"
   },
   {
    "duration": 17,
    "start_time": "2024-06-07T14:49:30.152Z"
   },
   {
    "duration": 44,
    "start_time": "2024-06-07T14:57:41.798Z"
   },
   {
    "duration": 42,
    "start_time": "2024-06-07T14:57:49.120Z"
   },
   {
    "duration": 772,
    "start_time": "2024-06-07T14:58:25.903Z"
   },
   {
    "duration": 1873,
    "start_time": "2024-06-07T14:58:27.265Z"
   },
   {
    "duration": 48,
    "start_time": "2024-06-07T14:58:44.725Z"
   },
   {
    "duration": 47,
    "start_time": "2024-06-07T14:59:07.176Z"
   },
   {
    "duration": 47,
    "start_time": "2024-06-07T15:01:35.232Z"
   }
  ],
  "colab": {
   "provenance": []
  },
  "kernelspec": {
   "display_name": "Python 3 (ipykernel)",
   "language": "python",
   "name": "python3"
  },
  "language_info": {
   "codemirror_mode": {
    "name": "ipython",
    "version": 3
   },
   "file_extension": ".py",
   "mimetype": "text/x-python",
   "name": "python",
   "nbconvert_exporter": "python",
   "pygments_lexer": "ipython3",
   "version": "3.9.19"
  },
  "toc": {
   "base_numbering": 1,
   "nav_menu": {},
   "number_sections": true,
   "sideBar": true,
   "skip_h1_title": true,
   "title_cell": "Table of Contents",
   "title_sidebar": "Contents",
   "toc_cell": false,
   "toc_position": {},
   "toc_section_display": true,
   "toc_window_display": false
  },
  "vscode": {
   "interpreter": {
    "hash": "01a7be9ec63e704a62cefc5fe7a4756944464ee731be31632bdf42a4cb4688cf"
   }
  }
 },
 "nbformat": 4,
 "nbformat_minor": 5
}
